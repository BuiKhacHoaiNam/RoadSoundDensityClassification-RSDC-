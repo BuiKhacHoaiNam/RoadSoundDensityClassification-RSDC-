{
 "cells": [
  {
   "cell_type": "markdown",
   "metadata": {
    "nbpresent": {
     "id": "bdb8f444-143c-49a8-948d-4b56e2cb457d"
    }
   },
   "source": [
    "# Basic CNN Model - Log-Mel Spectrograms\n",
    "\n"
   ]
  },
  {
   "cell_type": "markdown",
   "metadata": {
    "nbpresent": {
     "id": "bb86170e-2226-491a-8aec-e01925008746"
    }
   },
   "source": [
    "#### * Load required libraries"
   ]
  },
  {
   "cell_type": "code",
   "execution_count": 1,
   "metadata": {
    "nbpresent": {
     "id": "8afd8752-1ca6-4fe1-b14d-b16615d0199b"
    }
   },
   "outputs": [
    {
     "name": "stderr",
     "output_type": "stream",
     "text": [
      "Using TensorFlow backend.\n"
     ]
    }
   ],
   "source": [
    "import sys\n",
    "import os\n",
    "import IPython\n",
    "import math\n",
    "import numpy as np\n",
    "import pandas as pd\n",
    "import pickle\n",
    "import matplotlib.pyplot as plt\n",
    "%matplotlib inline\n",
    "\n",
    "import random\n",
    "from datetime import datetime\n",
    "from include import helpers\n",
    "\n",
    "from keras import backend as keras_backend\n",
    "from keras.models import Sequential, load_model\n",
    "from keras.layers import Dense, Dropout, Flatten, LeakyReLU, ReLU, SpatialDropout2D, Activation, Conv2D \n",
    "from keras.layers import MaxPooling2D, BatchNormalization, GlobalAveragePooling2D\n",
    "from keras.optimizers import Adam\n",
    "from keras.utils import np_utils, to_categorical, plot_model\n",
    "from keras.callbacks import EarlyStopping, ModelCheckpoint, ReduceLROnPlateau\n",
    "from keras.regularizers import l2\n",
    "\n",
    "from sklearn.preprocessing import LabelEncoder\n",
    "from sklearn.model_selection import train_test_split\n",
    "from sklearn.metrics import classification_report, precision_recall_fscore_support, confusion_matrix, accuracy_score, precision_score, recall_score, f1_score  "
   ]
  },
  {
   "cell_type": "markdown",
   "metadata": {},
   "source": [
    "#### * Setup"
   ]
  },
  {
   "cell_type": "code",
   "execution_count": 2,
   "metadata": {
    "nbpresent": {
     "id": "d0c78fb3-3f82-445b-9e39-7bb9c9f1edd3"
    }
   },
   "outputs": [],
   "source": [
    "# Set your path to the original dataset\n",
    "us8k_path = os.path.abspath('../Yi-Source-Code-3/input/vds_sound' )\n",
    "metadata_path = os.path.join(us8k_path, 'metadata/sound_vds15_vds16_14k.csv')\n",
    "audio_path = os.path.join(us8k_path, 'audio')\n"
   ]
  },
  {
   "cell_type": "code",
   "execution_count": 3,
   "metadata": {
    "nbpresent": {
     "id": "d0c78fb3-3f82-445b-9e39-7bb9c9f1edd3"
    }
   },
   "outputs": [],
   "source": [
    "models_path = os.path.abspath('./models')\n",
    "data_path = os.path.abspath('./data')\n",
    "results_path = os.path.abspath('./results')\n",
    "\n",
    "# Ensure \"channel last\" data format on Keras\n",
    "keras_backend.set_image_data_format('channels_last')"
   ]
  },
  {
   "cell_type": "code",
   "execution_count": 4,
   "metadata": {},
   "outputs": [],
   "source": [
    "# Required for the RTX GPU -- uncomment if using GTX or CPU\n",
    "import keras.backend as K\n",
    "import tensorflow as tf\n",
    "config = tf.ConfigProto()\n",
    "config.gpu_options.allow_growth = True\n",
    "K.set_session(tf.Session(config=config))"
   ]
  },
  {
   "cell_type": "code",
   "execution_count": 5,
   "metadata": {
    "nbpresent": {
     "id": "d0c78fb3-3f82-445b-9e39-7bb9c9f1edd3"
    }
   },
   "outputs": [],
   "source": [
    "# Define a labels array for future use\n",
    "#labels = ['9 am', '13 pm', '19 pm']\n",
    "#labels = ['morning', 'afternoon','evening']\n",
    "#labels = ['down_1', 'down_2','down_3', 'up_4','up_5','up_6']\n",
    "labels = ['1', '2','3', '4','5','6']"
   ]
  },
  {
   "cell_type": "markdown",
   "metadata": {
    "nbpresent": {
     "id": "a7b58aa0-2b3c-4854-a099-31d117ba74e1"
    }
   },
   "source": [
    "#### * Load data\n",
    "\n",
    "Data is an NumPy float32 array of shape (8732, 40, 174), 8732 samples with coefficients from Mel Spectrogram of 174 frames and 40 MEL bands. Each feature was scaled between -1 and 1 and zero-centered during extraction.<br/>\n",
    "<br/>"
   ]
  },
  {
   "cell_type": "code",
   "execution_count": 6,
   "metadata": {
    "nbpresent": {
     "id": "87d3ebd1-0d75-4ea4-8f12-9f891a72d3e2"
    }
   },
   "outputs": [],
   "source": [
    "# Pre-processed MFCC coefficients\n",
    "X = np.load(\"./data/X_C6_mfcc_40_14k.npy\")\n",
    "y = np.load(\"./data/y_C6_mfcc_40_14k.npy\")\n",
    "\n",
    "# Metadata\n",
    "metadata = pd.read_csv(metadata_path)"
   ]
  },
  {
   "cell_type": "markdown",
   "metadata": {
    "nbpresent": {
     "id": "f8043a00-6bfa-41ca-807f-a49d7430b65a"
    }
   },
   "source": [
    "### 1. Data preparation: features + metadata"
   ]
  },
  {
   "cell_type": "markdown",
   "metadata": {},
   "source": [
    "#### 1.1 Train / Test split\n",
    "Note that we are using the same index order for both the Mel Spectrogram arrays and the metadata to keep track of the origin of each feature.<br/>\n",
    "<br/>"
   ]
  },
  {
   "cell_type": "code",
   "execution_count": 7,
   "metadata": {},
   "outputs": [
    {
     "name": "stdout",
     "output_type": "stream",
     "text": [
      "Test split: 2851 \t\t Train split: 11404\n",
      "X test shape: (2851, 40, 173) \t X train shape: (11404, 40, 173)\n",
      "y test shape: (2851,) \t\t y train shape: (11404,)\n"
     ]
    }
   ],
   "source": [
    "indexes = []\n",
    "total = len(metadata)\n",
    "indexes = list(range(0, total))\n",
    "\n",
    "# Randomize indexes\n",
    "random.shuffle(indexes)\n",
    "\n",
    "# Divide the indexes into Train and Test\n",
    "test_split_pct = 20\n",
    "split_offset = math.floor(test_split_pct * total / 100)\n",
    "\n",
    "# Split the metadata\n",
    "test_split_idx = indexes[0:split_offset]\n",
    "train_split_idx = indexes[split_offset:total]\n",
    "\n",
    "\n",
    "# Split the features with the same indexes\n",
    "X_test = np.take(X, test_split_idx, axis=0)\n",
    "y_test = np.take(y, test_split_idx, axis=0)\n",
    "X_train = np.take(X, train_split_idx, axis=0)\n",
    "y_train = np.take(y, train_split_idx, axis=0)\n",
    "\n",
    "# Also split metadata\n",
    "test_meta = metadata.iloc[test_split_idx]\n",
    "train_meta = metadata.iloc[train_split_idx]\n",
    "\n",
    "# Print status\n",
    "print(\"Test split: {} \\t\\t Train split: {}\".format(len(test_meta), len(train_meta)))\n",
    "print(\"X test shape: {} \\t X train shape: {}\".format(X_test.shape, X_train.shape))\n",
    "print(\"y test shape: {} \\t\\t y train shape: {}\".format(y_test.shape, y_train.shape))"
   ]
  },
  {
   "cell_type": "markdown",
   "metadata": {},
   "source": [
    "#### 1.2 One hot encode labels"
   ]
  },
  {
   "cell_type": "code",
   "execution_count": 8,
   "metadata": {
    "nbpresent": {
     "id": "65b227e7-2fe5-4582-bd79-c9e9b1b85d4e"
    }
   },
   "outputs": [],
   "source": [
    "le = LabelEncoder()\n",
    "y_test_encoded = to_categorical(le.fit_transform(y_test))\n",
    "y_train_encoded = to_categorical(le.fit_transform(y_train))"
   ]
  },
  {
   "cell_type": "markdown",
   "metadata": {
    "nbpresent": {
     "id": "720605ff-4689-47dc-b142-023ea206a50c"
    }
   },
   "source": [
    "#### 1.3 Reshape data"
   ]
  },
  {
   "cell_type": "code",
   "execution_count": 9,
   "metadata": {
    "nbpresent": {
     "id": "d742676a-5a23-4fc8-856a-ad5505238d45"
    }
   },
   "outputs": [
    {
     "name": "stdout",
     "output_type": "stream",
     "text": [
      "number of labels= 6\n"
     ]
    }
   ],
   "source": [
    "# How data should be structured\n",
    "num_rows = 40\n",
    "num_columns = 173 \n",
    "num_channels = 1\n",
    "\n",
    "# Reshape to fit the network input (channel last)\n",
    "X_train = X_train.reshape(X_train.shape[0], num_rows, num_columns, num_channels)\n",
    "X_test = X_test.reshape(X_test.shape[0], num_rows, num_columns, num_channels)\n",
    "\n",
    "# Total number of labels to predict (equal to the network output nodes)\n",
    "num_labels = y_train_encoded.shape[1]\n",
    "print('number of labels=',num_labels)"
   ]
  },
  {
   "cell_type": "markdown",
   "metadata": {},
   "source": [
    "## 2. Basic CNN network\n",
    "\n",
    "We are using the exact same architecture than the previous notebook.\n",
    "<br/>"
   ]
  },
  {
   "cell_type": "markdown",
   "metadata": {
    "nbpresent": {
     "id": "23ae43f0-1d59-44ab-818d-54faeecf4f1c"
    }
   },
   "source": [
    "#### 2.1 Model definition\n",
    "\n"
   ]
  },
  {
   "cell_type": "code",
   "execution_count": 10,
   "metadata": {},
   "outputs": [
    {
     "name": "stdout",
     "output_type": "stream",
     "text": [
      "WARNING:tensorflow:From C:\\Users\\user\\Anaconda3\\envs\\tf_gpu\\lib\\site-packages\\tensorflow_core\\python\\ops\\resource_variable_ops.py:1630: calling BaseResourceVariable.__init__ (from tensorflow.python.ops.resource_variable_ops) with constraint is deprecated and will be removed in a future version.\n",
      "Instructions for updating:\n",
      "If using Keras pass *_constraint arguments to layers.\n",
      "WARNING:tensorflow:From C:\\Users\\user\\Anaconda3\\envs\\tf_gpu\\lib\\site-packages\\keras\\backend\\tensorflow_backend.py:4070: The name tf.nn.max_pool is deprecated. Please use tf.nn.max_pool2d instead.\n",
      "\n"
     ]
    }
   ],
   "source": [
    "def create_model_VGG16(): \n",
    "#https://engmrk.com/vgg16-implementation-using-keras/\n",
    "    model = Sequential()\n",
    "    #conv 1 (40x173)\n",
    "    model.add(Conv2D(filters=64, kernel_size=(3, 3), activation='relu',  padding='same',\n",
    "    input_shape=(num_rows, num_columns, num_channels)))\n",
    "    model.add(Conv2D(filters=64, kernel_size=(3, 3), activation='relu',  padding='same')) \n",
    "    model.add(ReLU())    \n",
    "    model.add(MaxPooling2D(pool_size=(2, 2)))\n",
    "    model.add(Dropout(0.4))\n",
    "\n",
    "\n",
    "    #conv 2 (20x86)\n",
    "    model.add(Conv2D(filters=128, kernel_size=(3, 3), activation='relu',  padding='same')) \n",
    "    model.add(Conv2D(filters=128, kernel_size=(3, 3), activation='relu',  padding='same')) \n",
    "    model.add(ReLU())   \n",
    "    model.add(MaxPooling2D(pool_size=(2, 2)))\n",
    "    model.add(Dropout(0.4))\n",
    "\n",
    "\n",
    "\n",
    "    #conv 3 (10x43)\n",
    "    model.add(Conv2D(filters=256, kernel_size=(3, 3), activation='relu', padding='same'))\n",
    "    model.add(Conv2D(filters=256, kernel_size=(3, 3), activation='relu', padding='same'))\n",
    "    model.add(Conv2D(filters=256, kernel_size=(3, 3), activation='relu', padding='same'))\n",
    "    model.add(ReLU())   \n",
    "    model.add(MaxPooling2D(pool_size=(2, 2)))\n",
    "    model.add(Dropout(0.4))\n",
    "\n",
    "\n",
    " \n",
    "    #conv 4 (5x21)\n",
    "    model.add(Conv2D(filters=512, kernel_size=(3,3), activation='relu',  padding='same')) \n",
    "    model.add(Conv2D(filters=512, kernel_size=(3,3), activation='relu',  padding='same')) \n",
    "    model.add(Conv2D(filters=512, kernel_size=(3,3), activation='relu',  padding='same')) \n",
    "    model.add(ReLU())   \n",
    "    model.add(MaxPooling2D(pool_size=(2, 2)))\n",
    "    model.add(Dropout(0.4))\n",
    "\n",
    "    \n",
    " \n",
    "    #conv 5 (2x10)\n",
    "    model.add(Conv2D(filters=512, kernel_size=(3,3), activation='relu',  padding='same')) \n",
    "    model.add(Conv2D(filters=512, kernel_size=(3,3), activation='relu', padding='same')) \n",
    "    model.add(Conv2D(filters=512, kernel_size=(3,3), activation='relu',  padding='same'))   \n",
    "    model.add(ReLU())\n",
    "    model.add(Dropout(0.4))\n",
    "    \n",
    "    #conv 5 (1x5)\n",
    "    model.add(MaxPooling2D(pool_size=(2, 2)))\n",
    "    \n",
    "    model.add(Flatten())\n",
    " \n",
    "\n",
    "    #model.add(GlobalAveragePooling2D())\n",
    "    model.add(Dense(4096, activation='relu'))\n",
    "    model.add(Dropout(0.5))\n",
    "    model.add(Dense(4096, activation='relu'))\n",
    "    model.add(Dropout(0.5))\n",
    "    model.add(Dense(num_labels, activation='softmax'))\n",
    "    \n",
    "    return model\n",
    "\n",
    "model = create_model_VGG16() \n"
   ]
  },
  {
   "cell_type": "code",
   "execution_count": 11,
   "metadata": {
    "nbpresent": {
     "id": "b56bca3e-3fd0-4033-9d13-20db795d02f0"
    },
    "scrolled": false
   },
   "outputs": [
    {
     "name": "stdout",
     "output_type": "stream",
     "text": [
      "Model: \"sequential_1\"\n",
      "_________________________________________________________________\n",
      "Layer (type)                 Output Shape              Param #   \n",
      "=================================================================\n",
      "conv2d_1 (Conv2D)            (None, 40, 173, 64)       640       \n",
      "_________________________________________________________________\n",
      "conv2d_2 (Conv2D)            (None, 40, 173, 64)       36928     \n",
      "_________________________________________________________________\n",
      "re_lu_1 (ReLU)               (None, 40, 173, 64)       0         \n",
      "_________________________________________________________________\n",
      "max_pooling2d_1 (MaxPooling2 (None, 20, 86, 64)        0         \n",
      "_________________________________________________________________\n",
      "dropout_1 (Dropout)          (None, 20, 86, 64)        0         \n",
      "_________________________________________________________________\n",
      "conv2d_3 (Conv2D)            (None, 20, 86, 128)       73856     \n",
      "_________________________________________________________________\n",
      "conv2d_4 (Conv2D)            (None, 20, 86, 128)       147584    \n",
      "_________________________________________________________________\n",
      "re_lu_2 (ReLU)               (None, 20, 86, 128)       0         \n",
      "_________________________________________________________________\n",
      "max_pooling2d_2 (MaxPooling2 (None, 10, 43, 128)       0         \n",
      "_________________________________________________________________\n",
      "dropout_2 (Dropout)          (None, 10, 43, 128)       0         \n",
      "_________________________________________________________________\n",
      "conv2d_5 (Conv2D)            (None, 10, 43, 256)       295168    \n",
      "_________________________________________________________________\n",
      "conv2d_6 (Conv2D)            (None, 10, 43, 256)       590080    \n",
      "_________________________________________________________________\n",
      "conv2d_7 (Conv2D)            (None, 10, 43, 256)       590080    \n",
      "_________________________________________________________________\n",
      "re_lu_3 (ReLU)               (None, 10, 43, 256)       0         \n",
      "_________________________________________________________________\n",
      "max_pooling2d_3 (MaxPooling2 (None, 5, 21, 256)        0         \n",
      "_________________________________________________________________\n",
      "dropout_3 (Dropout)          (None, 5, 21, 256)        0         \n",
      "_________________________________________________________________\n",
      "conv2d_8 (Conv2D)            (None, 5, 21, 512)        1180160   \n",
      "_________________________________________________________________\n",
      "conv2d_9 (Conv2D)            (None, 5, 21, 512)        2359808   \n",
      "_________________________________________________________________\n",
      "conv2d_10 (Conv2D)           (None, 5, 21, 512)        2359808   \n",
      "_________________________________________________________________\n",
      "re_lu_4 (ReLU)               (None, 5, 21, 512)        0         \n",
      "_________________________________________________________________\n",
      "max_pooling2d_4 (MaxPooling2 (None, 2, 10, 512)        0         \n",
      "_________________________________________________________________\n",
      "dropout_4 (Dropout)          (None, 2, 10, 512)        0         \n",
      "_________________________________________________________________\n",
      "conv2d_11 (Conv2D)           (None, 2, 10, 512)        2359808   \n",
      "_________________________________________________________________\n",
      "conv2d_12 (Conv2D)           (None, 2, 10, 512)        2359808   \n",
      "_________________________________________________________________\n",
      "conv2d_13 (Conv2D)           (None, 2, 10, 512)        2359808   \n",
      "_________________________________________________________________\n",
      "re_lu_5 (ReLU)               (None, 2, 10, 512)        0         \n",
      "_________________________________________________________________\n",
      "dropout_5 (Dropout)          (None, 2, 10, 512)        0         \n",
      "_________________________________________________________________\n",
      "max_pooling2d_5 (MaxPooling2 (None, 1, 5, 512)         0         \n",
      "_________________________________________________________________\n",
      "flatten_1 (Flatten)          (None, 2560)              0         \n",
      "_________________________________________________________________\n",
      "dense_1 (Dense)              (None, 4096)              10489856  \n",
      "_________________________________________________________________\n",
      "dropout_6 (Dropout)          (None, 4096)              0         \n",
      "_________________________________________________________________\n",
      "dense_2 (Dense)              (None, 4096)              16781312  \n",
      "_________________________________________________________________\n",
      "dropout_7 (Dropout)          (None, 4096)              0         \n",
      "_________________________________________________________________\n",
      "dense_3 (Dense)              (None, 6)                 24582     \n",
      "=================================================================\n",
      "Total params: 42,009,286\n",
      "Trainable params: 42,009,286\n",
      "Non-trainable params: 0\n",
      "_________________________________________________________________\n"
     ]
    }
   ],
   "source": [
    "adam = Adam(lr=1e-4, beta_1=0.9, beta_2=0.999,epsilon=1e-08, decay=0.0)\n",
    "model.compile(\n",
    "    loss='categorical_crossentropy', \n",
    "    metrics=['accuracy'], \n",
    "    optimizer=adam)\n",
    "\n",
    "# Display model architecture summary \n",
    "model.summary()"
   ]
  },
  {
   "cell_type": "code",
   "execution_count": 12,
   "metadata": {
    "scrolled": false,
    "tags": [
     "outputPrepend",
     "outputPrepend",
     "outputPrepend",
     "outputPrepend",
     "outputPrepend",
     "outputPrepend",
     "outputPrepend",
     "outputPrepend",
     "outputPrepend",
     "outputPrepend",
     "outputPrepend",
     "outputPrepend",
     "outputPrepend",
     "outputPrepend",
     "outputPrepend",
     "outputPrepend",
     "outputPrepend",
     "outputPrepend",
     "outputPrepend",
     "outputPrepend",
     "outputPrepend",
     "outputPrepend",
     "outputPrepend",
     "outputPrepend",
     "outputPrepend",
     "outputPrepend",
     "outputPrepend",
     "outputPrepend",
     "outputPrepend",
     "outputPrepend",
     "outputPrepend",
     "outputPrepend",
     "outputPrepend",
     "outputPrepend",
     "outputPrepend",
     "outputPrepend",
     "outputPrepend",
     "outputPrepend",
     "outputPrepend",
     "outputPrepend",
     "outputPrepend",
     "outputPrepend",
     "outputPrepend",
     "outputPrepend",
     "outputPrepend",
     "outputPrepend",
     "outputPrepend",
     "outputPrepend",
     "outputPrepend"
    ]
   },
   "outputs": [
    {
     "name": "stdout",
     "output_type": "stream",
     "text": [
      "WARNING:tensorflow:From C:\\Users\\user\\Anaconda3\\envs\\tf_gpu\\lib\\site-packages\\keras\\backend\\tensorflow_backend.py:422: The name tf.global_variables is deprecated. Please use tf.compat.v1.global_variables instead.\n",
      "\n",
      "Train on 10263 samples, validate on 1141 samples\n",
      "Epoch 1/200\n",
      "10263/10263 [==============================] - 20s 2ms/step - loss: 1.7795 - accuracy: 0.1850 - val_loss: 1.7731 - val_accuracy: 0.1937\n",
      "\n",
      "Epoch 00001: val_loss improved from inf to 1.77315, saving model to D:\\KISTI\\Project\\052020-Traffic-Sound\\Yi-Source-Code-3\\models\\VGG16_gap_train_C6_mels_40.hdf5\n",
      "Epoch 2/200\n",
      "10263/10263 [==============================] - 12s 1ms/step - loss: 1.7024 - accuracy: 0.2419 - val_loss: 1.6165 - val_accuracy: 0.3059\n",
      "\n",
      "Epoch 00002: val_loss improved from 1.77315 to 1.61653, saving model to D:\\KISTI\\Project\\052020-Traffic-Sound\\Yi-Source-Code-3\\models\\VGG16_gap_train_C6_mels_40.hdf5\n",
      "Epoch 3/200\n",
      "10263/10263 [==============================] - 12s 1ms/step - loss: 1.4774 - accuracy: 0.3723 - val_loss: 1.4449 - val_accuracy: 0.3848\n",
      "\n",
      "Epoch 00003: val_loss improved from 1.61653 to 1.44493, saving model to D:\\KISTI\\Project\\052020-Traffic-Sound\\Yi-Source-Code-3\\models\\VGG16_gap_train_C6_mels_40.hdf5\n",
      "Epoch 4/200\n",
      "10263/10263 [==============================] - 12s 1ms/step - loss: 1.2462 - accuracy: 0.4734 - val_loss: 1.1245 - val_accuracy: 0.5223\n",
      "\n",
      "Epoch 00004: val_loss improved from 1.44493 to 1.12452, saving model to D:\\KISTI\\Project\\052020-Traffic-Sound\\Yi-Source-Code-3\\models\\VGG16_gap_train_C6_mels_40.hdf5\n",
      "Epoch 5/200\n",
      "10263/10263 [==============================] - 12s 1ms/step - loss: 1.0024 - accuracy: 0.6103 - val_loss: 0.8395 - val_accuracy: 0.6985\n",
      "\n",
      "Epoch 00005: val_loss improved from 1.12452 to 0.83954, saving model to D:\\KISTI\\Project\\052020-Traffic-Sound\\Yi-Source-Code-3\\models\\VGG16_gap_train_C6_mels_40.hdf5\n",
      "Epoch 6/200\n",
      "10263/10263 [==============================] - 12s 1ms/step - loss: 0.7817 - accuracy: 0.7276 - val_loss: 0.7636 - val_accuracy: 0.7406\n",
      "\n",
      "Epoch 00006: val_loss improved from 0.83954 to 0.76364, saving model to D:\\KISTI\\Project\\052020-Traffic-Sound\\Yi-Source-Code-3\\models\\VGG16_gap_train_C6_mels_40.hdf5\n",
      "Epoch 7/200\n",
      "10263/10263 [==============================] - 12s 1ms/step - loss: 0.6280 - accuracy: 0.7899 - val_loss: 0.5189 - val_accuracy: 0.8379\n",
      "\n",
      "Epoch 00007: val_loss improved from 0.76364 to 0.51886, saving model to D:\\KISTI\\Project\\052020-Traffic-Sound\\Yi-Source-Code-3\\models\\VGG16_gap_train_C6_mels_40.hdf5\n",
      "Epoch 8/200\n",
      "10263/10263 [==============================] - 12s 1ms/step - loss: 0.5381 - accuracy: 0.8118 - val_loss: 0.4875 - val_accuracy: 0.8396\n",
      "\n",
      "Epoch 00008: val_loss improved from 0.51886 to 0.48753, saving model to D:\\KISTI\\Project\\052020-Traffic-Sound\\Yi-Source-Code-3\\models\\VGG16_gap_train_C6_mels_40.hdf5\n",
      "Epoch 9/200\n",
      "10263/10263 [==============================] - 12s 1ms/step - loss: 0.4667 - accuracy: 0.8460 - val_loss: 0.4206 - val_accuracy: 0.8598\n",
      "\n",
      "Epoch 00009: val_loss improved from 0.48753 to 0.42056, saving model to D:\\KISTI\\Project\\052020-Traffic-Sound\\Yi-Source-Code-3\\models\\VGG16_gap_train_C6_mels_40.hdf5\n",
      "Epoch 10/200\n",
      "10263/10263 [==============================] - 12s 1ms/step - loss: 0.4156 - accuracy: 0.8590 - val_loss: 0.3844 - val_accuracy: 0.8755\n",
      "\n",
      "Epoch 00010: val_loss improved from 0.42056 to 0.38439, saving model to D:\\KISTI\\Project\\052020-Traffic-Sound\\Yi-Source-Code-3\\models\\VGG16_gap_train_C6_mels_40.hdf5\n",
      "Epoch 11/200\n",
      "10263/10263 [==============================] - 12s 1ms/step - loss: 0.3724 - accuracy: 0.8746 - val_loss: 0.3319 - val_accuracy: 0.8992\n",
      "\n",
      "Epoch 00011: val_loss improved from 0.38439 to 0.33191, saving model to D:\\KISTI\\Project\\052020-Traffic-Sound\\Yi-Source-Code-3\\models\\VGG16_gap_train_C6_mels_40.hdf5\n",
      "Epoch 12/200\n",
      "10263/10263 [==============================] - 12s 1ms/step - loss: 0.3741 - accuracy: 0.8724 - val_loss: 0.3592 - val_accuracy: 0.8843\n",
      "\n",
      "Epoch 00012: val_loss did not improve from 0.33191\n",
      "Epoch 13/200\n",
      "10263/10263 [==============================] - 13s 1ms/step - loss: 0.3189 - accuracy: 0.8884 - val_loss: 0.3156 - val_accuracy: 0.8957\n",
      "\n",
      "Epoch 00013: val_loss improved from 0.33191 to 0.31561, saving model to D:\\KISTI\\Project\\052020-Traffic-Sound\\Yi-Source-Code-3\\models\\VGG16_gap_train_C6_mels_40.hdf5\n",
      "Epoch 14/200\n",
      "10263/10263 [==============================] - 12s 1ms/step - loss: 0.2926 - accuracy: 0.9030 - val_loss: 0.3097 - val_accuracy: 0.9027\n",
      "\n",
      "Epoch 00014: val_loss improved from 0.31561 to 0.30968, saving model to D:\\KISTI\\Project\\052020-Traffic-Sound\\Yi-Source-Code-3\\models\\VGG16_gap_train_C6_mels_40.hdf5\n",
      "Epoch 15/200\n",
      "10263/10263 [==============================] - 12s 1ms/step - loss: 0.2751 - accuracy: 0.9038 - val_loss: 0.2580 - val_accuracy: 0.9167\n",
      "\n",
      "Epoch 00015: val_loss improved from 0.30968 to 0.25798, saving model to D:\\KISTI\\Project\\052020-Traffic-Sound\\Yi-Source-Code-3\\models\\VGG16_gap_train_C6_mels_40.hdf5\n",
      "Epoch 16/200\n",
      "10263/10263 [==============================] - 12s 1ms/step - loss: 0.2555 - accuracy: 0.9130 - val_loss: 0.3025 - val_accuracy: 0.8975\n",
      "\n",
      "Epoch 00016: val_loss did not improve from 0.25798\n",
      "Epoch 17/200\n",
      "10263/10263 [==============================] - 12s 1ms/step - loss: 0.2392 - accuracy: 0.9194 - val_loss: 0.3254 - val_accuracy: 0.8957\n",
      "\n",
      "Epoch 00017: val_loss did not improve from 0.25798\n",
      "Epoch 18/200\n",
      "10263/10263 [==============================] - 13s 1ms/step - loss: 0.2233 - accuracy: 0.9227 - val_loss: 0.2652 - val_accuracy: 0.9132\n",
      "\n",
      "Epoch 00018: val_loss did not improve from 0.25798\n",
      "Epoch 19/200\n",
      "10263/10263 [==============================] - 13s 1ms/step - loss: 0.2102 - accuracy: 0.9267 - val_loss: 0.2381 - val_accuracy: 0.9220\n",
      "\n",
      "Epoch 00019: val_loss improved from 0.25798 to 0.23814, saving model to D:\\KISTI\\Project\\052020-Traffic-Sound\\Yi-Source-Code-3\\models\\VGG16_gap_train_C6_mels_40.hdf5\n",
      "Epoch 20/200\n",
      "10263/10263 [==============================] - 12s 1ms/step - loss: 0.1966 - accuracy: 0.9327 - val_loss: 0.2100 - val_accuracy: 0.9378\n",
      "\n",
      "Epoch 00020: val_loss improved from 0.23814 to 0.20996, saving model to D:\\KISTI\\Project\\052020-Traffic-Sound\\Yi-Source-Code-3\\models\\VGG16_gap_train_C6_mels_40.hdf5\n",
      "Epoch 21/200\n",
      "10263/10263 [==============================] - 12s 1ms/step - loss: 0.1763 - accuracy: 0.9379 - val_loss: 0.2257 - val_accuracy: 0.9325\n",
      "\n",
      "Epoch 00021: val_loss did not improve from 0.20996\n",
      "Epoch 22/200\n",
      "10263/10263 [==============================] - 13s 1ms/step - loss: 0.1650 - accuracy: 0.9419 - val_loss: 0.2485 - val_accuracy: 0.9141\n",
      "\n",
      "Epoch 00022: val_loss did not improve from 0.20996\n",
      "Epoch 23/200\n",
      "10263/10263 [==============================] - 13s 1ms/step - loss: 0.1474 - accuracy: 0.9502 - val_loss: 0.2178 - val_accuracy: 0.9281\n",
      "\n",
      "Epoch 00023: val_loss did not improve from 0.20996\n",
      "Epoch 24/200\n",
      "10263/10263 [==============================] - 13s 1ms/step - loss: 0.1466 - accuracy: 0.9502 - val_loss: 0.2183 - val_accuracy: 0.9308\n",
      "\n",
      "Epoch 00024: val_loss did not improve from 0.20996\n",
      "Epoch 25/200\n",
      "10263/10263 [==============================] - 13s 1ms/step - loss: 0.1340 - accuracy: 0.9525 - val_loss: 0.2120 - val_accuracy: 0.9343\n",
      "\n",
      "Epoch 00025: val_loss did not improve from 0.20996\n",
      "Epoch 26/200\n",
      "10263/10263 [==============================] - 13s 1ms/step - loss: 0.1225 - accuracy: 0.9575 - val_loss: 0.2650 - val_accuracy: 0.9159\n",
      "\n",
      "Epoch 00026: val_loss did not improve from 0.20996\n",
      "Epoch 27/200\n",
      "10263/10263 [==============================] - 13s 1ms/step - loss: 0.1117 - accuracy: 0.9601 - val_loss: 0.2314 - val_accuracy: 0.9308\n",
      "\n",
      "Epoch 00027: val_loss did not improve from 0.20996\n",
      "Epoch 28/200\n",
      "10263/10263 [==============================] - 13s 1ms/step - loss: 0.1026 - accuracy: 0.9654 - val_loss: 0.2383 - val_accuracy: 0.9273\n",
      "\n",
      "Epoch 00028: val_loss did not improve from 0.20996\n",
      "Epoch 29/200\n",
      "10263/10263 [==============================] - 13s 1ms/step - loss: 0.0850 - accuracy: 0.9711 - val_loss: 0.2236 - val_accuracy: 0.9316\n",
      "\n",
      "Epoch 00029: val_loss did not improve from 0.20996\n",
      "Epoch 30/200\n",
      "10263/10263 [==============================] - 13s 1ms/step - loss: 0.0794 - accuracy: 0.9709 - val_loss: 0.2578 - val_accuracy: 0.9238\n",
      "\n",
      "Epoch 00030: ReduceLROnPlateau reducing learning rate to 9.999999747378752e-06.\n",
      "\n",
      "Epoch 00030: val_loss did not improve from 0.20996\n",
      "Epoch 31/200\n"
     ]
    },
    {
     "name": "stdout",
     "output_type": "stream",
     "text": [
      "10263/10263 [==============================] - 13s 1ms/step - loss: 0.0386 - accuracy: 0.9874 - val_loss: 0.2022 - val_accuracy: 0.9404\n",
      "\n",
      "Epoch 00031: val_loss improved from 0.20996 to 0.20221, saving model to D:\\KISTI\\Project\\052020-Traffic-Sound\\Yi-Source-Code-3\\models\\VGG16_gap_train_C6_mels_40.hdf5\n",
      "Epoch 32/200\n",
      "10263/10263 [==============================] - 12s 1ms/step - loss: 0.0275 - accuracy: 0.9914 - val_loss: 0.2046 - val_accuracy: 0.9413\n",
      "\n",
      "Epoch 00032: val_loss did not improve from 0.20221\n",
      "Epoch 33/200\n",
      "10263/10263 [==============================] - 13s 1ms/step - loss: 0.0213 - accuracy: 0.9935 - val_loss: 0.2233 - val_accuracy: 0.9378\n",
      "\n",
      "Epoch 00033: val_loss did not improve from 0.20221\n",
      "Epoch 34/200\n",
      "10263/10263 [==============================] - 13s 1ms/step - loss: 0.0204 - accuracy: 0.9940 - val_loss: 0.2070 - val_accuracy: 0.9430\n",
      "\n",
      "Epoch 00034: val_loss did not improve from 0.20221\n",
      "Epoch 35/200\n",
      "10263/10263 [==============================] - 13s 1ms/step - loss: 0.0182 - accuracy: 0.9936 - val_loss: 0.2224 - val_accuracy: 0.9378\n",
      "\n",
      "Epoch 00035: val_loss did not improve from 0.20221\n",
      "Epoch 36/200\n",
      "10263/10263 [==============================] - 13s 1ms/step - loss: 0.0171 - accuracy: 0.9944 - val_loss: 0.2332 - val_accuracy: 0.9360\n",
      "\n",
      "Epoch 00036: val_loss did not improve from 0.20221\n",
      "Epoch 37/200\n",
      "10263/10263 [==============================] - 13s 1ms/step - loss: 0.0146 - accuracy: 0.9949 - val_loss: 0.2324 - val_accuracy: 0.9404\n",
      "\n",
      "Epoch 00037: val_loss did not improve from 0.20221\n",
      "Epoch 38/200\n",
      "10263/10263 [==============================] - 13s 1ms/step - loss: 0.0164 - accuracy: 0.9943 - val_loss: 0.2346 - val_accuracy: 0.9387\n",
      "\n",
      "Epoch 00038: val_loss did not improve from 0.20221\n",
      "Epoch 39/200\n",
      "10263/10263 [==============================] - 13s 1ms/step - loss: 0.0146 - accuracy: 0.9954 - val_loss: 0.2439 - val_accuracy: 0.9378\n",
      "\n",
      "Epoch 00039: val_loss did not improve from 0.20221\n",
      "Epoch 40/200\n",
      "10263/10263 [==============================] - 13s 1ms/step - loss: 0.0147 - accuracy: 0.9947 - val_loss: 0.2517 - val_accuracy: 0.9369\n",
      "\n",
      "Epoch 00040: val_loss did not improve from 0.20221\n",
      "Epoch 41/200\n",
      "10263/10263 [==============================] - 13s 1ms/step - loss: 0.0118 - accuracy: 0.9959 - val_loss: 0.2465 - val_accuracy: 0.9387\n",
      "\n",
      "Epoch 00041: ReduceLROnPlateau reducing learning rate to 1e-06.\n",
      "\n",
      "Epoch 00041: val_loss did not improve from 0.20221\n",
      "Epoch 42/200\n",
      "10263/10263 [==============================] - 13s 1ms/step - loss: 0.0113 - accuracy: 0.9958 - val_loss: 0.2476 - val_accuracy: 0.9360\n",
      "\n",
      "Epoch 00042: val_loss did not improve from 0.20221\n",
      "Epoch 43/200\n",
      "10263/10263 [==============================] - 13s 1ms/step - loss: 0.0095 - accuracy: 0.9972 - val_loss: 0.2471 - val_accuracy: 0.9387\n",
      "\n",
      "Epoch 00043: val_loss did not improve from 0.20221\n",
      "Epoch 44/200\n",
      "10263/10263 [==============================] - 13s 1ms/step - loss: 0.0113 - accuracy: 0.9964 - val_loss: 0.2461 - val_accuracy: 0.9395\n",
      "\n",
      "Epoch 00044: val_loss did not improve from 0.20221\n",
      "Epoch 45/200\n",
      "10263/10263 [==============================] - 13s 1ms/step - loss: 0.0093 - accuracy: 0.9966 - val_loss: 0.2465 - val_accuracy: 0.9360\n",
      "\n",
      "Epoch 00045: val_loss did not improve from 0.20221\n",
      "Epoch 46/200\n",
      "10263/10263 [==============================] - 13s 1ms/step - loss: 0.0084 - accuracy: 0.9976 - val_loss: 0.2453 - val_accuracy: 0.9378\n",
      "\n",
      "Epoch 00046: val_loss did not improve from 0.20221\n",
      "Epoch 47/200\n",
      "10263/10263 [==============================] - 13s 1ms/step - loss: 0.0097 - accuracy: 0.9968 - val_loss: 0.2464 - val_accuracy: 0.9378\n",
      "\n",
      "Epoch 00047: val_loss did not improve from 0.20221\n",
      "Epoch 48/200\n",
      "10263/10263 [==============================] - 13s 1ms/step - loss: 0.0102 - accuracy: 0.9965 - val_loss: 0.2464 - val_accuracy: 0.9378\n",
      "\n",
      "Epoch 00048: val_loss did not improve from 0.20221\n",
      "Epoch 49/200\n",
      "10263/10263 [==============================] - 13s 1ms/step - loss: 0.0101 - accuracy: 0.9962 - val_loss: 0.2473 - val_accuracy: 0.9369\n",
      "\n",
      "Epoch 00049: val_loss did not improve from 0.20221\n",
      "Epoch 50/200\n",
      "10263/10263 [==============================] - 13s 1ms/step - loss: 0.0084 - accuracy: 0.9977 - val_loss: 0.2501 - val_accuracy: 0.9387\n",
      "\n",
      "Epoch 00050: val_loss did not improve from 0.20221\n",
      "Epoch 51/200\n",
      "10263/10263 [==============================] - 13s 1ms/step - loss: 0.0086 - accuracy: 0.9969 - val_loss: 0.2485 - val_accuracy: 0.9387\n",
      "\n",
      "Epoch 00051: val_loss did not improve from 0.20221\n",
      "Epoch 52/200\n",
      "10263/10263 [==============================] - 13s 1ms/step - loss: 0.0077 - accuracy: 0.9972 - val_loss: 0.2514 - val_accuracy: 0.9378\n",
      "\n",
      "Epoch 00052: val_loss did not improve from 0.20221\n",
      "Epoch 53/200\n",
      "10263/10263 [==============================] - 13s 1ms/step - loss: 0.0088 - accuracy: 0.9975 - val_loss: 0.2550 - val_accuracy: 0.9369\n",
      "\n",
      "Epoch 00053: val_loss did not improve from 0.20221\n",
      "Epoch 54/200\n",
      "10263/10263 [==============================] - 13s 1ms/step - loss: 0.0095 - accuracy: 0.9966 - val_loss: 0.2512 - val_accuracy: 0.9369\n",
      "\n",
      "Epoch 00054: val_loss did not improve from 0.20221\n",
      "Epoch 55/200\n",
      "10263/10263 [==============================] - 13s 1ms/step - loss: 0.0104 - accuracy: 0.9958 - val_loss: 0.2526 - val_accuracy: 0.9387\n",
      "\n",
      "Epoch 00055: val_loss did not improve from 0.20221\n",
      "Epoch 56/200\n",
      "10263/10263 [==============================] - 13s 1ms/step - loss: 0.0078 - accuracy: 0.9976 - val_loss: 0.2533 - val_accuracy: 0.9387\n",
      "\n",
      "Epoch 00056: val_loss did not improve from 0.20221\n",
      "Epoch 57/200\n",
      "10263/10263 [==============================] - 13s 1ms/step - loss: 0.0081 - accuracy: 0.9973 - val_loss: 0.2602 - val_accuracy: 0.9343\n",
      "\n",
      "Epoch 00057: val_loss did not improve from 0.20221\n",
      "Epoch 58/200\n",
      "10263/10263 [==============================] - 13s 1ms/step - loss: 0.0074 - accuracy: 0.9977 - val_loss: 0.2589 - val_accuracy: 0.9360\n",
      "\n",
      "Epoch 00058: val_loss did not improve from 0.20221\n",
      "Epoch 59/200\n",
      "10263/10263 [==============================] - 13s 1ms/step - loss: 0.0077 - accuracy: 0.9978 - val_loss: 0.2620 - val_accuracy: 0.9378\n",
      "\n",
      "Epoch 00059: val_loss did not improve from 0.20221\n",
      "Epoch 60/200\n",
      "10263/10263 [==============================] - 13s 1ms/step - loss: 0.0074 - accuracy: 0.9974 - val_loss: 0.2611 - val_accuracy: 0.9395\n",
      "\n",
      "Epoch 00060: val_loss did not improve from 0.20221\n",
      "Epoch 61/200\n",
      "10263/10263 [==============================] - 13s 1ms/step - loss: 0.0077 - accuracy: 0.9978 - val_loss: 0.2611 - val_accuracy: 0.9378\n",
      "\n",
      "Epoch 00061: val_loss did not improve from 0.20221\n",
      "Training completed in time:  0:13:50.716062\n"
     ]
    }
   ],
   "source": [
    "num_epochs = 200\n",
    "num_batch_size = 64\n",
    "model_file = 'VGG16_gap_train_C6_MFCC_40.hdf5'\n",
    "model_path = os.path.join(models_path, model_file)\n",
    "\n",
    "\n",
    "\n",
    "# Save checkpoints\n",
    "\n",
    "early_stopping = EarlyStopping(patience = 30) \n",
    "checkpointer = ModelCheckpoint(filepath=model_path, \n",
    "                               verbose=1, save_best_only=True)\n",
    "callback_reduce_lr=ReduceLROnPlateau(monitor='val_loss',\n",
    "                                     factor=0.1,\n",
    "                                     min_lr=1e-6,\n",
    "                                     patience=10,\n",
    "                                     verbose=1)\n",
    "start = datetime.now()\n",
    "history = model.fit(X_train, \n",
    "                    y_train_encoded, \n",
    "                    batch_size=num_batch_size, \n",
    "                    epochs=num_epochs, \n",
    "                    validation_split=0.1,\n",
    "                    callbacks=[early_stopping, callback_reduce_lr, checkpointer], \n",
    "                    verbose=1)\n",
    "duration = datetime.now() - start\n",
    "print(\"Training completed in time: \", duration)\n"
   ]
  },
  {
   "cell_type": "markdown",
   "metadata": {},
   "source": [
    "#### 2.4 General model evaluation\n",
    "Note that we first load the checkpoint with the lowest validation loss achieved during training."
   ]
  },
  {
   "cell_type": "code",
   "execution_count": 13,
   "metadata": {
    "scrolled": false
   },
   "outputs": [
    {
     "name": "stdout",
     "output_type": "stream",
     "text": [
      "                    LOSS      ACCURACY\n",
      "--------------------------------------\n",
      "Training:         0.0275       99.3686\n",
      "Test:             0.3022       92.7745\n",
      "Normal diff         90.89 \n"
     ]
    }
   ],
   "source": [
    "# Load best saved model\n",
    "# model = load_model(model_path)\n",
    "\n",
    "helpers.model_evaluation_report(model, X_train, y_train_encoded, X_test, y_test_encoded)"
   ]
  },
  {
   "cell_type": "markdown",
   "metadata": {},
   "source": [
    "Compared with the previous evaluation the model was able to train for more epochs when using Mel Spectrograms, and consequently, a higher accuracy and lower error where achieved.<br/>"
   ]
  },
  {
   "cell_type": "code",
   "execution_count": 14,
   "metadata": {
    "nbpresent": {
     "id": "19f196f8-c2b5-4c56-ba54-4c145b7023ad"
    },
    "scrolled": false
   },
   "outputs": [
    {
     "data": {
      "image/png": "[encoded data removed]",
      "text/plain": [
       "<Figure size 1440x792 with 1 Axes>"
      ]
     },
     "metadata": {
      "needs_background": "light"
     },
     "output_type": "display_data"
    },
    {
     "data": {
      "image/png": "[encoded data removed]",
      "text/plain": [
       "<Figure size 1440x792 with 1 Axes>"
      ]
     },
     "metadata": {
      "needs_background": "light"
     },
     "output_type": "display_data"
    }
   ],
   "source": [
    "helpers.plot_train_history(history, x_ticks_vertical=True)"
   ]
  },
  {
   "cell_type": "code",
   "execution_count": 15,
   "metadata": {},
   "outputs": [
    {
     "name": "stderr",
     "output_type": "stream",
     "text": [
      "C:\\Users\\user\\Anaconda3\\envs\\tf_gpu\\lib\\site-packages\\ipykernel_launcher.py:7: SettingWithCopyWarning: \n",
      "A value is trying to be set on a copy of a slice from a DataFrame.\n",
      "Try using .loc[row_indexer,col_indexer] = value instead\n",
      "\n",
      "See the caveats in the documentation: http://pandas.pydata.org/pandas-docs/stable/user_guide/indexing.html#returning-a-view-versus-a-copy\n",
      "  import sys\n"
     ]
    }
   ],
   "source": [
    "# Predict probabilities for test set\n",
    "y_probs = model.predict(X_test, verbose=0)\n",
    "yhat_probs = np.argmax(y_probs, axis=1)\n",
    "y_trues = np.argmax(y_test_encoded, axis=1)\n",
    "\n",
    "# Add \"pred\" column\n",
    "test_meta['pred'] = yhat_probs"
   ]
  },
  {
   "cell_type": "code",
   "execution_count": 16,
   "metadata": {},
   "outputs": [
    {
     "data": {
      "image/png": "[encoded data removed]",
      "text/plain": [
       "<Figure size 720x504 with 2 Axes>"
      ]
     },
     "metadata": {
      "needs_background": "light"
     },
     "output_type": "display_data"
    }
   ],
   "source": [
    "import importlib\n",
    "importlib.reload(helpers)\n",
    "\n",
    "# Sets decimal precision (for printing output only)\n",
    "np.set_printoptions(precision=2)\n",
    "\n",
    "# Compute confusion matrix data\n",
    "cm = confusion_matrix(y_trues, yhat_probs)\n",
    "\n",
    "helpers.plot_confusion_matrix(cm,\n",
    "                          labels, \n",
    "                          normalized=False,  \n",
    "                          cmap=plt.cm.Blues,\n",
    "                          size=(10,7))"
   ]
  },
  {
   "cell_type": "code",
   "execution_count": 17,
   "metadata": {
    "scrolled": false
   },
   "outputs": [
    {
     "name": "stdout",
     "output_type": "stream",
     "text": [
      "  CLASS   ACCURACY\n",
      "0     1  91.009174\n",
      "1     2  93.681319\n",
      "2     3  92.911877\n",
      "3     4  91.044776\n",
      "4     5  93.478261\n",
      "5     6  95.155039\n"
     ]
    }
   ],
   "source": [
    "# Find per-class accuracy from the confusion matrix data\n",
    "accuracies = helpers.acc_per_class(cm)\n",
    "result_acc = 'acc_' + model_file\n",
    "result_path = os.path.join(results_path, result_acc)\n",
    "\n",
    "df=pd.DataFrame({\n",
    "    'CLASS': labels,\n",
    "    'ACCURACY': accuracies\n",
    "}).sort_values(by=\"CLASS\", ascending=True)\n",
    "\n",
    "print(df)\n",
    "\n",
    "df.to_csv(result_path + '.csv')"
   ]
  },
  {
   "cell_type": "code",
   "execution_count": 18,
   "metadata": {
    "scrolled": false
   },
   "outputs": [
    {
     "name": "stdout",
     "output_type": "stream",
     "text": [
      "              precision    recall  f1-score   support\n",
      "\n",
      "           1       0.94      0.91      0.92       545\n",
      "           2       0.97      0.94      0.96       364\n",
      "           3       0.89      0.93      0.91       522\n",
      "           4       0.94      0.91      0.92       536\n",
      "           5       0.92      0.93      0.93       368\n",
      "           6       0.92      0.95      0.94       516\n",
      "\n",
      "   micro avg       0.93      0.93      0.93      2851\n",
      "   macro avg       0.56      0.56      0.56      2851\n",
      "weighted avg       0.93      0.93      0.93      2851\n",
      "\n",
      "Accuracy: 0.9277446509996492\n",
      "Precision: 0.928450991084546\n",
      "Recall: 0.9277446509996492\n",
      "F1-Score: 0.9278447197717846\n"
     ]
    },
    {
     "name": "stderr",
     "output_type": "stream",
     "text": [
      "C:\\Users\\user\\Anaconda3\\envs\\tf_gpu\\lib\\site-packages\\sklearn\\metrics\\classification.py:1870: UserWarning: labels size, 10, does not match size of target_names, 6\n",
      "  .format(len(labels), len(target_names))\n",
      "C:\\Users\\user\\Anaconda3\\envs\\tf_gpu\\lib\\site-packages\\sklearn\\metrics\\classification.py:1437: UndefinedMetricWarning: Precision and F-score are ill-defined and being set to 0.0 in labels with no predicted samples.\n",
      "  'precision', 'predicted', average, warn_for)\n",
      "C:\\Users\\user\\Anaconda3\\envs\\tf_gpu\\lib\\site-packages\\sklearn\\metrics\\classification.py:1439: UndefinedMetricWarning: Recall and F-score are ill-defined and being set to 0.0 in labels with no true samples.\n",
      "  'recall', 'true', average, warn_for)\n"
     ]
    }
   ],
   "source": [
    "# Build classification report\n",
    "re = classification_report(y_trues, yhat_probs, labels=[0,1,2,3,4,5,6,7,8,9], target_names=labels) \n",
    "print(re)\n",
    "print(\"Accuracy: {0}\".format(accuracy_score(y_trues, yhat_probs)))\n",
    "print(\"Precision: {0}\".format(precision_score(y_trues, yhat_probs, average='weighted')))\n",
    "print(\"Recall: {0}\".format(recall_score(y_trues, yhat_probs, average='weighted')))\n",
    "print(\"F1-Score: {0}\".format(f1_score(y_trues, yhat_probs, average='weighted')))"
   ]
  },
  {
   "cell_type": "code",
   "execution_count": null,
   "metadata": {},
   "outputs": [],
   "source": []
  },
  {
   "cell_type": "code",
   "execution_count": null,
   "metadata": {},
   "outputs": [],
   "source": []
  },
  {
   "cell_type": "code",
   "execution_count": null,
   "metadata": {},
   "outputs": [],
   "source": []
  },
  {
   "cell_type": "code",
   "execution_count": null,
   "metadata": {},
   "outputs": [],
   "source": []
  }
 ],
 "metadata": {
  "kernelspec": {
   "display_name": "Python 3",
   "language": "python",
   "name": "python3"
  },
  "language_info": {
   "codemirror_mode": {
    "name": "ipython",
    "version": 3
   },
   "file_extension": ".py",
   "mimetype": "text/x-python",
   "name": "python",
   "nbconvert_exporter": "python",
   "pygments_lexer": "ipython3",
   "version": "3.7.5"
  }
 },
 "nbformat": 4,
 "nbformat_minor": 2
}
