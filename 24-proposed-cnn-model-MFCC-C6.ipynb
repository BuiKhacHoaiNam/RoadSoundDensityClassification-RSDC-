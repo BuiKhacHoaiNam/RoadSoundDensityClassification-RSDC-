{
 "cells": [
  {
   "cell_type": "markdown",
   "metadata": {
    "nbpresent": {
     "id": "bdb8f444-143c-49a8-948d-4b56e2cb457d"
    }
   },
   "source": [
    "# Proposed CNN Model for Road Sound Datasets - Log-Mel Spectrograms\n",
    "\n"
   ]
  },
  {
   "cell_type": "markdown",
   "metadata": {
    "nbpresent": {
     "id": "bb86170e-2226-491a-8aec-e01925008746"
    }
   },
   "source": [
    "#### * Load required libraries"
   ]
  },
  {
   "cell_type": "code",
   "execution_count": 1,
   "metadata": {
    "nbpresent": {
     "id": "8afd8752-1ca6-4fe1-b14d-b16615d0199b"
    }
   },
   "outputs": [
    {
     "name": "stderr",
     "output_type": "stream",
     "text": [
      "Using TensorFlow backend.\n"
     ]
    }
   ],
   "source": [
    "import sys\n",
    "import os\n",
    "import IPython\n",
    "import math\n",
    "import numpy as np\n",
    "import pandas as pd\n",
    "import pickle\n",
    "import matplotlib.pyplot as plt\n",
    "%matplotlib inline\n",
    "\n",
    "import random\n",
    "from datetime import datetime\n",
    "from include import helpers\n",
    "\n",
    "from keras import backend as keras_backend\n",
    "from keras.models import Sequential, load_model\n",
    "from keras.layers import Dense, Dropout, Flatten, LeakyReLU, ReLU, SpatialDropout2D, Activation, Conv2D \n",
    "from keras.layers import MaxPooling2D, BatchNormalization, GlobalAveragePooling2D\n",
    "from keras.optimizers import Adam\n",
    "from keras.utils import np_utils, to_categorical, plot_model\n",
    "from keras.callbacks import EarlyStopping, ModelCheckpoint, ReduceLROnPlateau\n",
    "from keras.regularizers import l2\n",
    "\n",
    "from sklearn.preprocessing import LabelEncoder\n",
    "from sklearn.model_selection import train_test_split\n",
    "from sklearn.metrics import classification_report, precision_recall_fscore_support, confusion_matrix, accuracy_score, precision_score, recall_score, f1_score  "
   ]
  },
  {
   "cell_type": "markdown",
   "metadata": {},
   "source": [
    "#### * Setup"
   ]
  },
  {
   "cell_type": "code",
   "execution_count": 2,
   "metadata": {
    "nbpresent": {
     "id": "d0c78fb3-3f82-445b-9e39-7bb9c9f1edd3"
    }
   },
   "outputs": [],
   "source": [
    "# Set your path to the original dataset\n",
    "us8k_path = os.path.abspath('../Yi-Source-Code-3/input/vds_sound')\n",
    "metadata_path = os.path.join(us8k_path, 'metadata/sound_vds15_vds16_14k.csv')\n",
    "audio_path = os.path.join(us8k_path, 'audio')\n"
   ]
  },
  {
   "cell_type": "code",
   "execution_count": 3,
   "metadata": {
    "nbpresent": {
     "id": "d0c78fb3-3f82-445b-9e39-7bb9c9f1edd3"
    }
   },
   "outputs": [],
   "source": [
    "models_path = os.path.abspath('./models')\n",
    "data_path = os.path.abspath('./data')\n",
    "results_path = os.path.abspath('./results')\n",
    "\n",
    "# Ensure \"channel last\" data format on Keras\n",
    "keras_backend.set_image_data_format('channels_last')"
   ]
  },
  {
   "cell_type": "code",
   "execution_count": 4,
   "metadata": {},
   "outputs": [],
   "source": [
    "# Required for the RTX GPU -- uncomment if using GTX or CPU\n",
    "import keras.backend as K\n",
    "import tensorflow as tf\n",
    "config = tf.ConfigProto()\n",
    "config.gpu_options.allow_growth = True\n",
    "K.set_session(tf.Session(config=config))"
   ]
  },
  {
   "cell_type": "code",
   "execution_count": 5,
   "metadata": {
    "nbpresent": {
     "id": "d0c78fb3-3f82-445b-9e39-7bb9c9f1edd3"
    }
   },
   "outputs": [],
   "source": [
    "# Define a labels array for future use\n",
    "#labels = ['9 am', '13 pm', '19 pm']\n",
    "#labels = ['morning', 'afternoon','evening']\n",
    "#labels = ['down_1', 'down_2','down_3', 'up_4','up_5','up_6']\n",
    "labels = ['1', '2','3', '4','5','6']\n",
    "\n",
    "\n",
    "num_epochs = 200\n",
    "num_batch_size = 64\n",
    "file_name = 'conv5_gap_train_C6_MFCC_40'\n",
    "model_path = os.path.join(models_path, file_name + '.hdf5')"
   ]
  },
  {
   "cell_type": "markdown",
   "metadata": {
    "nbpresent": {
     "id": "a7b58aa0-2b3c-4854-a099-31d117ba74e1"
    }
   },
   "source": [
    "#### * Load data\n",
    "\n",
    "Data is an NumPy float32 array of shape (8732, 40, 174), 8732 samples with coefficients from Mel Spectrogram of 174 frames and 40 MEL bands. Each feature was scaled between -1 and 1 and zero-centered during extraction.<br/>\n",
    "<br/>"
   ]
  },
  {
   "cell_type": "code",
   "execution_count": 6,
   "metadata": {
    "nbpresent": {
     "id": "87d3ebd1-0d75-4ea4-8f12-9f891a72d3e2"
    }
   },
   "outputs": [
    {
     "name": "stdout",
     "output_type": "stream",
     "text": [
      "(14255, 40, 173) (14255,)\n"
     ]
    }
   ],
   "source": [
    "# Pre-processed MFCC coefficients\n",
    "X = np.load(\"./data/X_C6_mfcc_40_14k.npy\")\n",
    "y = np.load(\"./data/y_C6_mfcc_40_14k.npy\")\n",
    "\n",
    "print(X.shape, y.shape)\n",
    "# Metadata\n",
    "metadata = pd.read_csv(metadata_path)"
   ]
  },
  {
   "cell_type": "markdown",
   "metadata": {
    "nbpresent": {
     "id": "f8043a00-6bfa-41ca-807f-a49d7430b65a"
    }
   },
   "source": [
    "### 1. Data preparation: features + metadata"
   ]
  },
  {
   "cell_type": "markdown",
   "metadata": {},
   "source": [
    "#### 1.1 Train / Test split\n",
    "Note that we are using the same index order for both the Mel Spectrogram arrays and the metadata to keep track of the origin of each feature.<br/>\n",
    "<br/>"
   ]
  },
  {
   "cell_type": "code",
   "execution_count": 7,
   "metadata": {},
   "outputs": [
    {
     "name": "stdout",
     "output_type": "stream",
     "text": [
      "Test split: 2851 \t\t Train split: 11404\n",
      "X test shape: (2851, 40, 173) \t X train shape: (11404, 40, 173)\n",
      "y test shape: (2851,) \t\t y train shape: (11404,)\n"
     ]
    }
   ],
   "source": [
    "indexes = []\n",
    "total = len(metadata)\n",
    "indexes = list(range(0, total))\n",
    "\n",
    "# Randomize indexes\n",
    "random.shuffle(indexes)\n",
    "\n",
    "# Divide the indexes into Train and Test\n",
    "test_split_pct = 20\n",
    "split_offset = math.floor(test_split_pct * total / 100)\n",
    "\n",
    "# Split the metadata\n",
    "test_split_idx = indexes[0:split_offset]\n",
    "train_split_idx = indexes[split_offset:total]\n",
    "\n",
    "\n",
    "# Split the features with the same indexes\n",
    "X_test = np.take(X, test_split_idx, axis=0)\n",
    "y_test = np.take(y, test_split_idx, axis=0)\n",
    "X_train = np.take(X, train_split_idx, axis=0)\n",
    "y_train = np.take(y, train_split_idx, axis=0)\n",
    "\n",
    "# Also split metadata\n",
    "test_meta = metadata.iloc[test_split_idx]\n",
    "train_meta = metadata.iloc[train_split_idx]\n",
    "\n",
    "# Print status\n",
    "print(\"Test split: {} \\t\\t Train split: {}\".format(len(test_meta), len(train_meta)))\n",
    "print(\"X test shape: {} \\t X train shape: {}\".format(X_test.shape, X_train.shape))\n",
    "print(\"y test shape: {} \\t\\t y train shape: {}\".format(y_test.shape, y_train.shape))"
   ]
  },
  {
   "cell_type": "markdown",
   "metadata": {},
   "source": [
    "#### 1.2 One hot encode labels"
   ]
  },
  {
   "cell_type": "code",
   "execution_count": 8,
   "metadata": {
    "nbpresent": {
     "id": "65b227e7-2fe5-4582-bd79-c9e9b1b85d4e"
    }
   },
   "outputs": [],
   "source": [
    "le = LabelEncoder()\n",
    "y_test_encoded = to_categorical(le.fit_transform(y_test))\n",
    "y_train_encoded = to_categorical(le.fit_transform(y_train))"
   ]
  },
  {
   "cell_type": "markdown",
   "metadata": {
    "nbpresent": {
     "id": "720605ff-4689-47dc-b142-023ea206a50c"
    }
   },
   "source": [
    "#### 1.3 Reshape data"
   ]
  },
  {
   "cell_type": "code",
   "execution_count": 9,
   "metadata": {
    "nbpresent": {
     "id": "d742676a-5a23-4fc8-856a-ad5505238d45"
    }
   },
   "outputs": [
    {
     "name": "stdout",
     "output_type": "stream",
     "text": [
      "number of labels= 6\n"
     ]
    }
   ],
   "source": [
    "# How data should be structured\n",
    "num_rows = 40\n",
    "num_columns = 173 \n",
    "num_channels = 1\n",
    "\n",
    "# Reshape to fit the network input (channel last)\n",
    "X_train = X_train.reshape(X_train.shape[0], num_rows, num_columns, num_channels)\n",
    "X_test = X_test.reshape(X_test.shape[0], num_rows, num_columns, num_channels)\n",
    "\n",
    "# Total number of labels to predict (equal to the network output nodes)\n",
    "num_labels = y_train_encoded.shape[1]\n",
    "print('number of labels=',num_labels)"
   ]
  },
  {
   "cell_type": "markdown",
   "metadata": {},
   "source": [
    "## 2. Proposed CNN network\n",
    "\n"
   ]
  },
  {
   "cell_type": "markdown",
   "metadata": {
    "nbpresent": {
     "id": "23ae43f0-1d59-44ab-818d-54faeecf4f1c"
    }
   },
   "source": [
    "#### 2.1 Model definition\n",
    "\n"
   ]
  },
  {
   "cell_type": "code",
   "execution_count": 10,
   "metadata": {},
   "outputs": [
    {
     "name": "stdout",
     "output_type": "stream",
     "text": [
      "WARNING:tensorflow:From C:\\Users\\user\\Anaconda3\\envs\\tf_gpu\\lib\\site-packages\\tensorflow_core\\python\\ops\\resource_variable_ops.py:1630: calling BaseResourceVariable.__init__ (from tensorflow.python.ops.resource_variable_ops) with constraint is deprecated and will be removed in a future version.\n",
      "Instructions for updating:\n",
      "If using Keras pass *_constraint arguments to layers.\n",
      "WARNING:tensorflow:From C:\\Users\\user\\Anaconda3\\envs\\tf_gpu\\lib\\site-packages\\keras\\backend\\tensorflow_backend.py:4070: The name tf.nn.max_pool is deprecated. Please use tf.nn.max_pool2d instead.\n",
      "\n"
     ]
    }
   ],
   "source": [
    "def create_model(): \n",
    "\n",
    "    model = Sequential()\n",
    "    #conv 1 (40x173)\n",
    "    model.add(Conv2D(filters=32, kernel_size=(3, 3), padding='same',\n",
    "    input_shape=(num_rows, num_columns, num_channels)))    \n",
    "    model.add(ReLU())    \n",
    "    model.add(MaxPooling2D(pool_size=(2, 2)))\n",
    "    model.add(Dropout(0.4)) \n",
    "\n",
    "    \n",
    "    #conv 2 (20x86)\n",
    "    model.add(Conv2D(filters=64, kernel_size=(3, 3),  padding='same')) \n",
    "    model.add(ReLU())   \n",
    "    model.add(MaxPooling2D(pool_size=(2, 2)))\n",
    "    model.add(Dropout(0.4)) \n",
    " \n",
    "\n",
    "    #conv 3 (10x43)\n",
    "    model.add(Conv2D(filters=128, kernel_size=(3, 3),  padding='same')) \n",
    "    model.add(ReLU())   \n",
    "    model.add(MaxPooling2D(pool_size=(2, 2)))\n",
    "    model.add(Dropout(0.4)) \n",
    "\n",
    " \n",
    "    #conv 4 (5x21)\n",
    "    model.add(Conv2D(filters=256, kernel_size=(3,3),  padding='same'))  \n",
    "    model.add(ReLU())   \n",
    "    model.add(MaxPooling2D(pool_size=(2, 2)))\n",
    "    model.add(Dropout(0.4)) \n",
    " \n",
    "    #conv 5 (2x10)\n",
    "    model.add(Conv2D(filters=512, kernel_size=(3,3),  padding='same'))  \n",
    "    model.add(ReLU()) \n",
    "    model.add(Dropout(0.4)) \n",
    "    \n",
    "    #conv 6 (1x5)\n",
    "    #model.add(MaxPooling2D(pool_size=(2, 2)))\n",
    "    #model.add(Flatten())\n",
    "    model.add(GlobalAveragePooling2D())\n",
    "    model.add(Dense(256, activation='relu'))\n",
    "    model.add(Dropout(0.5)) \n",
    "    model.add(Dense(num_labels, activation='softmax'))\n",
    "    \n",
    "    return model\n",
    "\n",
    "model = create_model() \n"
   ]
  },
  {
   "cell_type": "code",
   "execution_count": 11,
   "metadata": {
    "nbpresent": {
     "id": "b56bca3e-3fd0-4033-9d13-20db795d02f0"
    },
    "scrolled": false
   },
   "outputs": [
    {
     "name": "stdout",
     "output_type": "stream",
     "text": [
      "Model: \"sequential_1\"\n",
      "_________________________________________________________________\n",
      "Layer (type)                 Output Shape              Param #   \n",
      "=================================================================\n",
      "conv2d_1 (Conv2D)            (None, 40, 173, 32)       320       \n",
      "_________________________________________________________________\n",
      "re_lu_1 (ReLU)               (None, 40, 173, 32)       0         \n",
      "_________________________________________________________________\n",
      "max_pooling2d_1 (MaxPooling2 (None, 20, 86, 32)        0         \n",
      "_________________________________________________________________\n",
      "dropout_1 (Dropout)          (None, 20, 86, 32)        0         \n",
      "_________________________________________________________________\n",
      "conv2d_2 (Conv2D)            (None, 20, 86, 64)        18496     \n",
      "_________________________________________________________________\n",
      "re_lu_2 (ReLU)               (None, 20, 86, 64)        0         \n",
      "_________________________________________________________________\n",
      "max_pooling2d_2 (MaxPooling2 (None, 10, 43, 64)        0         \n",
      "_________________________________________________________________\n",
      "dropout_2 (Dropout)          (None, 10, 43, 64)        0         \n",
      "_________________________________________________________________\n",
      "conv2d_3 (Conv2D)            (None, 10, 43, 128)       73856     \n",
      "_________________________________________________________________\n",
      "re_lu_3 (ReLU)               (None, 10, 43, 128)       0         \n",
      "_________________________________________________________________\n",
      "max_pooling2d_3 (MaxPooling2 (None, 5, 21, 128)        0         \n",
      "_________________________________________________________________\n",
      "dropout_3 (Dropout)          (None, 5, 21, 128)        0         \n",
      "_________________________________________________________________\n",
      "conv2d_4 (Conv2D)            (None, 5, 21, 256)        295168    \n",
      "_________________________________________________________________\n",
      "re_lu_4 (ReLU)               (None, 5, 21, 256)        0         \n",
      "_________________________________________________________________\n",
      "max_pooling2d_4 (MaxPooling2 (None, 2, 10, 256)        0         \n",
      "_________________________________________________________________\n",
      "dropout_4 (Dropout)          (None, 2, 10, 256)        0         \n",
      "_________________________________________________________________\n",
      "conv2d_5 (Conv2D)            (None, 2, 10, 512)        1180160   \n",
      "_________________________________________________________________\n",
      "re_lu_5 (ReLU)               (None, 2, 10, 512)        0         \n",
      "_________________________________________________________________\n",
      "dropout_5 (Dropout)          (None, 2, 10, 512)        0         \n",
      "_________________________________________________________________\n",
      "global_average_pooling2d_1 ( (None, 512)               0         \n",
      "_________________________________________________________________\n",
      "dense_1 (Dense)              (None, 256)               131328    \n",
      "_________________________________________________________________\n",
      "dropout_6 (Dropout)          (None, 256)               0         \n",
      "_________________________________________________________________\n",
      "dense_2 (Dense)              (None, 6)                 1542      \n",
      "=================================================================\n",
      "Total params: 1,700,870\n",
      "Trainable params: 1,700,870\n",
      "Non-trainable params: 0\n",
      "_________________________________________________________________\n"
     ]
    }
   ],
   "source": [
    "adam = Adam(lr=2e-4, beta_1=0.9, beta_2=0.999,epsilon=1e-08, decay=0.0)\n",
    "model.compile(\n",
    "    loss='categorical_crossentropy', \n",
    "    metrics=['accuracy'], \n",
    "    optimizer=adam)\n",
    "\n",
    "# Display model architecture summary \n",
    "model.summary()"
   ]
  },
  {
   "cell_type": "code",
   "execution_count": 12,
   "metadata": {
    "scrolled": false,
    "tags": [
     "outputPrepend",
     "outputPrepend",
     "outputPrepend",
     "outputPrepend",
     "outputPrepend",
     "outputPrepend",
     "outputPrepend",
     "outputPrepend",
     "outputPrepend",
     "outputPrepend",
     "outputPrepend",
     "outputPrepend",
     "outputPrepend",
     "outputPrepend",
     "outputPrepend",
     "outputPrepend",
     "outputPrepend",
     "outputPrepend",
     "outputPrepend",
     "outputPrepend",
     "outputPrepend",
     "outputPrepend",
     "outputPrepend",
     "outputPrepend",
     "outputPrepend",
     "outputPrepend",
     "outputPrepend",
     "outputPrepend",
     "outputPrepend",
     "outputPrepend",
     "outputPrepend",
     "outputPrepend",
     "outputPrepend",
     "outputPrepend",
     "outputPrepend",
     "outputPrepend",
     "outputPrepend",
     "outputPrepend",
     "outputPrepend",
     "outputPrepend",
     "outputPrepend",
     "outputPrepend",
     "outputPrepend",
     "outputPrepend",
     "outputPrepend",
     "outputPrepend",
     "outputPrepend",
     "outputPrepend",
     "outputPrepend"
    ]
   },
   "outputs": [
    {
     "name": "stdout",
     "output_type": "stream",
     "text": [
      "WARNING:tensorflow:From C:\\Users\\user\\Anaconda3\\envs\\tf_gpu\\lib\\site-packages\\keras\\backend\\tensorflow_backend.py:422: The name tf.global_variables is deprecated. Please use tf.compat.v1.global_variables instead.\n",
      "\n",
      "Train on 10263 samples, validate on 1141 samples\n",
      "Epoch 1/200\n",
      "10263/10263 [==============================] - 6s 546us/step - loss: 1.7752 - accuracy: 0.1915 - val_loss: 1.7506 - val_accuracy: 0.2375\n",
      "\n",
      "Epoch 00001: val_loss improved from inf to 1.75057, saving model to D:\\KISTI\\Project\\052020-Traffic-Sound\\Yi-Source-Code-3\\models\\conv5_gap_train_C6_MFCC_40.hdf5\n",
      "Epoch 2/200\n",
      "10263/10263 [==============================] - 2s 217us/step - loss: 1.5051 - accuracy: 0.3749 - val_loss: 1.3809 - val_accuracy: 0.4698\n",
      "\n",
      "Epoch 00002: val_loss improved from 1.75057 to 1.38093, saving model to D:\\KISTI\\Project\\052020-Traffic-Sound\\Yi-Source-Code-3\\models\\conv5_gap_train_C6_MFCC_40.hdf5\n",
      "Epoch 3/200\n",
      "10263/10263 [==============================] - 2s 217us/step - loss: 1.2632 - accuracy: 0.5137 - val_loss: 1.1761 - val_accuracy: 0.5688\n",
      "\n",
      "Epoch 00003: val_loss improved from 1.38093 to 1.17613, saving model to D:\\KISTI\\Project\\052020-Traffic-Sound\\Yi-Source-Code-3\\models\\conv5_gap_train_C6_MFCC_40.hdf5\n",
      "Epoch 4/200\n",
      "10263/10263 [==============================] - 2s 221us/step - loss: 1.0969 - accuracy: 0.5899 - val_loss: 1.0382 - val_accuracy: 0.6424\n",
      "\n",
      "Epoch 00004: val_loss improved from 1.17613 to 1.03816, saving model to D:\\KISTI\\Project\\052020-Traffic-Sound\\Yi-Source-Code-3\\models\\conv5_gap_train_C6_MFCC_40.hdf5\n",
      "Epoch 5/200\n",
      "10263/10263 [==============================] - 2s 221us/step - loss: 0.9834 - accuracy: 0.6316 - val_loss: 0.9980 - val_accuracy: 0.6345\n",
      "\n",
      "Epoch 00005: val_loss improved from 1.03816 to 0.99801, saving model to D:\\KISTI\\Project\\052020-Traffic-Sound\\Yi-Source-Code-3\\models\\conv5_gap_train_C6_MFCC_40.hdf5\n",
      "Epoch 6/200\n",
      "10263/10263 [==============================] - 2s 216us/step - loss: 0.9147 - accuracy: 0.6586 - val_loss: 0.8616 - val_accuracy: 0.6906\n",
      "\n",
      "Epoch 00006: val_loss improved from 0.99801 to 0.86162, saving model to D:\\KISTI\\Project\\052020-Traffic-Sound\\Yi-Source-Code-3\\models\\conv5_gap_train_C6_MFCC_40.hdf5\n",
      "Epoch 7/200\n",
      "10263/10263 [==============================] - 2s 220us/step - loss: 0.8498 - accuracy: 0.6880 - val_loss: 0.7980 - val_accuracy: 0.7239\n",
      "\n",
      "Epoch 00007: val_loss improved from 0.86162 to 0.79797, saving model to D:\\KISTI\\Project\\052020-Traffic-Sound\\Yi-Source-Code-3\\models\\conv5_gap_train_C6_MFCC_40.hdf5\n",
      "Epoch 8/200\n",
      "10263/10263 [==============================] - 2s 219us/step - loss: 0.7834 - accuracy: 0.7204 - val_loss: 0.7677 - val_accuracy: 0.7362\n",
      "\n",
      "Epoch 00008: val_loss improved from 0.79797 to 0.76768, saving model to D:\\KISTI\\Project\\052020-Traffic-Sound\\Yi-Source-Code-3\\models\\conv5_gap_train_C6_MFCC_40.hdf5\n",
      "Epoch 9/200\n",
      "10263/10263 [==============================] - 2s 219us/step - loss: 0.7091 - accuracy: 0.7487 - val_loss: 0.6171 - val_accuracy: 0.8116\n",
      "\n",
      "Epoch 00009: val_loss improved from 0.76768 to 0.61715, saving model to D:\\KISTI\\Project\\052020-Traffic-Sound\\Yi-Source-Code-3\\models\\conv5_gap_train_C6_MFCC_40.hdf5\n",
      "Epoch 10/200\n",
      "10263/10263 [==============================] - 2s 220us/step - loss: 0.6577 - accuracy: 0.7670 - val_loss: 0.7031 - val_accuracy: 0.7625\n",
      "\n",
      "Epoch 00010: val_loss did not improve from 0.61715\n",
      "Epoch 11/200\n",
      "10263/10263 [==============================] - 2s 221us/step - loss: 0.6127 - accuracy: 0.7852 - val_loss: 0.5755 - val_accuracy: 0.8072\n",
      "\n",
      "Epoch 00011: val_loss improved from 0.61715 to 0.57552, saving model to D:\\KISTI\\Project\\052020-Traffic-Sound\\Yi-Source-Code-3\\models\\conv5_gap_train_C6_MFCC_40.hdf5\n",
      "Epoch 12/200\n",
      "10263/10263 [==============================] - 2s 220us/step - loss: 0.5930 - accuracy: 0.7918 - val_loss: 0.5467 - val_accuracy: 0.8133\n",
      "\n",
      "Epoch 00012: val_loss improved from 0.57552 to 0.54668, saving model to D:\\KISTI\\Project\\052020-Traffic-Sound\\Yi-Source-Code-3\\models\\conv5_gap_train_C6_MFCC_40.hdf5\n",
      "Epoch 13/200\n",
      "10263/10263 [==============================] - 2s 217us/step - loss: 0.5516 - accuracy: 0.8093 - val_loss: 0.5663 - val_accuracy: 0.7932\n",
      "\n",
      "Epoch 00013: val_loss did not improve from 0.54668\n",
      "Epoch 14/200\n",
      "10263/10263 [==============================] - 2s 215us/step - loss: 0.5438 - accuracy: 0.8068 - val_loss: 0.5063 - val_accuracy: 0.8396\n",
      "\n",
      "Epoch 00014: val_loss improved from 0.54668 to 0.50632, saving model to D:\\KISTI\\Project\\052020-Traffic-Sound\\Yi-Source-Code-3\\models\\conv5_gap_train_C6_MFCC_40.hdf5\n",
      "Epoch 15/200\n",
      "10263/10263 [==============================] - 2s 214us/step - loss: 0.5234 - accuracy: 0.8208 - val_loss: 0.5022 - val_accuracy: 0.8317\n",
      "\n",
      "Epoch 00015: val_loss improved from 0.50632 to 0.50215, saving model to D:\\KISTI\\Project\\052020-Traffic-Sound\\Yi-Source-Code-3\\models\\conv5_gap_train_C6_MFCC_40.hdf5\n",
      "Epoch 16/200\n",
      "10263/10263 [==============================] - 2s 214us/step - loss: 0.5056 - accuracy: 0.8213 - val_loss: 0.5295 - val_accuracy: 0.8238\n",
      "\n",
      "Epoch 00016: val_loss did not improve from 0.50215\n",
      "Epoch 17/200\n",
      "10263/10263 [==============================] - 2s 214us/step - loss: 0.4705 - accuracy: 0.8360 - val_loss: 0.4533 - val_accuracy: 0.8571\n",
      "\n",
      "Epoch 00017: val_loss improved from 0.50215 to 0.45335, saving model to D:\\KISTI\\Project\\052020-Traffic-Sound\\Yi-Source-Code-3\\models\\conv5_gap_train_C6_MFCC_40.hdf5\n",
      "Epoch 18/200\n",
      "10263/10263 [==============================] - 2s 215us/step - loss: 0.4736 - accuracy: 0.8328 - val_loss: 0.4409 - val_accuracy: 0.8519\n",
      "\n",
      "Epoch 00018: val_loss improved from 0.45335 to 0.44087, saving model to D:\\KISTI\\Project\\052020-Traffic-Sound\\Yi-Source-Code-3\\models\\conv5_gap_train_C6_MFCC_40.hdf5\n",
      "Epoch 19/200\n",
      "10263/10263 [==============================] - 2s 214us/step - loss: 0.4542 - accuracy: 0.8451 - val_loss: 0.4394 - val_accuracy: 0.8440\n",
      "\n",
      "Epoch 00019: val_loss improved from 0.44087 to 0.43940, saving model to D:\\KISTI\\Project\\052020-Traffic-Sound\\Yi-Source-Code-3\\models\\conv5_gap_train_C6_MFCC_40.hdf5\n",
      "Epoch 20/200\n",
      "10263/10263 [==============================] - 2s 214us/step - loss: 0.4372 - accuracy: 0.8486 - val_loss: 0.4437 - val_accuracy: 0.8501\n",
      "\n",
      "Epoch 00020: val_loss did not improve from 0.43940\n",
      "Epoch 21/200\n",
      "10263/10263 [==============================] - 2s 214us/step - loss: 0.4254 - accuracy: 0.8514 - val_loss: 0.4456 - val_accuracy: 0.8387\n",
      "\n",
      "Epoch 00021: val_loss did not improve from 0.43940\n",
      "Epoch 22/200\n",
      "10263/10263 [==============================] - 2s 214us/step - loss: 0.4246 - accuracy: 0.8507 - val_loss: 0.4062 - val_accuracy: 0.8633\n",
      "\n",
      "Epoch 00022: val_loss improved from 0.43940 to 0.40620, saving model to D:\\KISTI\\Project\\052020-Traffic-Sound\\Yi-Source-Code-3\\models\\conv5_gap_train_C6_MFCC_40.hdf5\n",
      "Epoch 23/200\n",
      "10263/10263 [==============================] - 2s 214us/step - loss: 0.4045 - accuracy: 0.8595 - val_loss: 0.3810 - val_accuracy: 0.8764\n",
      "\n",
      "Epoch 00023: val_loss improved from 0.40620 to 0.38103, saving model to D:\\KISTI\\Project\\052020-Traffic-Sound\\Yi-Source-Code-3\\models\\conv5_gap_train_C6_MFCC_40.hdf5\n",
      "Epoch 24/200\n",
      "10263/10263 [==============================] - 2s 214us/step - loss: 0.3892 - accuracy: 0.8626 - val_loss: 0.3893 - val_accuracy: 0.8764\n",
      "\n",
      "Epoch 00024: val_loss did not improve from 0.38103\n",
      "Epoch 25/200\n",
      "10263/10263 [==============================] - 2s 214us/step - loss: 0.3919 - accuracy: 0.8648 - val_loss: 0.3460 - val_accuracy: 0.8843\n",
      "\n",
      "Epoch 00025: val_loss improved from 0.38103 to 0.34596, saving model to D:\\KISTI\\Project\\052020-Traffic-Sound\\Yi-Source-Code-3\\models\\conv5_gap_train_C6_MFCC_40.hdf5\n",
      "Epoch 26/200\n",
      "10263/10263 [==============================] - 2s 214us/step - loss: 0.3746 - accuracy: 0.8674 - val_loss: 0.3348 - val_accuracy: 0.8878\n",
      "\n",
      "Epoch 00026: val_loss improved from 0.34596 to 0.33482, saving model to D:\\KISTI\\Project\\052020-Traffic-Sound\\Yi-Source-Code-3\\models\\conv5_gap_train_C6_MFCC_40.hdf5\n",
      "Epoch 27/200\n",
      "10263/10263 [==============================] - 2s 215us/step - loss: 0.3613 - accuracy: 0.8698 - val_loss: 0.3633 - val_accuracy: 0.8826\n",
      "\n",
      "Epoch 00027: val_loss did not improve from 0.33482\n",
      "Epoch 28/200\n",
      "10263/10263 [==============================] - 2s 214us/step - loss: 0.3512 - accuracy: 0.8759 - val_loss: 0.3430 - val_accuracy: 0.8782\n",
      "\n",
      "Epoch 00028: val_loss did not improve from 0.33482\n",
      "Epoch 29/200\n"
     ]
    },
    {
     "name": "stdout",
     "output_type": "stream",
     "text": [
      "10263/10263 [==============================] - 2s 214us/step - loss: 0.3407 - accuracy: 0.8815 - val_loss: 0.3379 - val_accuracy: 0.8738\n",
      "\n",
      "Epoch 00029: val_loss did not improve from 0.33482\n",
      "Epoch 30/200\n",
      "10263/10263 [==============================] - 2s 214us/step - loss: 0.3312 - accuracy: 0.8817 - val_loss: 0.3052 - val_accuracy: 0.8948\n",
      "\n",
      "Epoch 00030: val_loss improved from 0.33482 to 0.30522, saving model to D:\\KISTI\\Project\\052020-Traffic-Sound\\Yi-Source-Code-3\\models\\conv5_gap_train_C6_MFCC_40.hdf5\n",
      "Epoch 31/200\n",
      "10263/10263 [==============================] - 2s 214us/step - loss: 0.3147 - accuracy: 0.8926 - val_loss: 0.2825 - val_accuracy: 0.9018\n",
      "\n",
      "Epoch 00031: val_loss improved from 0.30522 to 0.28253, saving model to D:\\KISTI\\Project\\052020-Traffic-Sound\\Yi-Source-Code-3\\models\\conv5_gap_train_C6_MFCC_40.hdf5\n",
      "Epoch 32/200\n",
      "10263/10263 [==============================] - 2s 216us/step - loss: 0.3188 - accuracy: 0.8878 - val_loss: 0.2794 - val_accuracy: 0.9115\n",
      "\n",
      "Epoch 00032: val_loss improved from 0.28253 to 0.27937, saving model to D:\\KISTI\\Project\\052020-Traffic-Sound\\Yi-Source-Code-3\\models\\conv5_gap_train_C6_MFCC_40.hdf5\n",
      "Epoch 33/200\n",
      "10263/10263 [==============================] - 2s 214us/step - loss: 0.3030 - accuracy: 0.8946 - val_loss: 0.2734 - val_accuracy: 0.9010\n",
      "\n",
      "Epoch 00033: val_loss improved from 0.27937 to 0.27341, saving model to D:\\KISTI\\Project\\052020-Traffic-Sound\\Yi-Source-Code-3\\models\\conv5_gap_train_C6_MFCC_40.hdf5\n",
      "Epoch 34/200\n",
      "10263/10263 [==============================] - 2s 214us/step - loss: 0.3018 - accuracy: 0.8946 - val_loss: 0.3389 - val_accuracy: 0.8747\n",
      "\n",
      "Epoch 00034: val_loss did not improve from 0.27341\n",
      "Epoch 35/200\n",
      "10263/10263 [==============================] - 2s 214us/step - loss: 0.2887 - accuracy: 0.8987 - val_loss: 0.2895 - val_accuracy: 0.9010\n",
      "\n",
      "Epoch 00035: val_loss did not improve from 0.27341\n",
      "Epoch 36/200\n",
      "10263/10263 [==============================] - 2s 214us/step - loss: 0.2858 - accuracy: 0.9033 - val_loss: 0.3075 - val_accuracy: 0.9001\n",
      "\n",
      "Epoch 00036: val_loss did not improve from 0.27341\n",
      "Epoch 37/200\n",
      "10263/10263 [==============================] - 2s 214us/step - loss: 0.2670 - accuracy: 0.9067 - val_loss: 0.2629 - val_accuracy: 0.9167\n",
      "\n",
      "Epoch 00037: val_loss improved from 0.27341 to 0.26290, saving model to D:\\KISTI\\Project\\052020-Traffic-Sound\\Yi-Source-Code-3\\models\\conv5_gap_train_C6_MFCC_40.hdf5\n",
      "Epoch 38/200\n",
      "10263/10263 [==============================] - 2s 214us/step - loss: 0.2637 - accuracy: 0.9100 - val_loss: 0.2422 - val_accuracy: 0.9211\n",
      "\n",
      "Epoch 00038: val_loss improved from 0.26290 to 0.24218, saving model to D:\\KISTI\\Project\\052020-Traffic-Sound\\Yi-Source-Code-3\\models\\conv5_gap_train_C6_MFCC_40.hdf5\n",
      "Epoch 39/200\n",
      "10263/10263 [==============================] - 2s 217us/step - loss: 0.2644 - accuracy: 0.9074 - val_loss: 0.2724 - val_accuracy: 0.9132\n",
      "\n",
      "Epoch 00039: val_loss did not improve from 0.24218\n",
      "Epoch 40/200\n",
      "10263/10263 [==============================] - 2s 215us/step - loss: 0.2600 - accuracy: 0.9115 - val_loss: 0.2413 - val_accuracy: 0.9264\n",
      "\n",
      "Epoch 00040: val_loss improved from 0.24218 to 0.24129, saving model to D:\\KISTI\\Project\\052020-Traffic-Sound\\Yi-Source-Code-3\\models\\conv5_gap_train_C6_MFCC_40.hdf5\n",
      "Epoch 41/200\n",
      "10263/10263 [==============================] - 2s 214us/step - loss: 0.2521 - accuracy: 0.9123 - val_loss: 0.2492 - val_accuracy: 0.9167\n",
      "\n",
      "Epoch 00041: val_loss did not improve from 0.24129\n",
      "Epoch 42/200\n",
      "10263/10263 [==============================] - 2s 214us/step - loss: 0.2441 - accuracy: 0.9146 - val_loss: 0.2459 - val_accuracy: 0.9246\n",
      "\n",
      "Epoch 00042: val_loss did not improve from 0.24129\n",
      "Epoch 43/200\n",
      "10263/10263 [==============================] - 2s 215us/step - loss: 0.2292 - accuracy: 0.9198 - val_loss: 0.2230 - val_accuracy: 0.9246\n",
      "\n",
      "Epoch 00043: val_loss improved from 0.24129 to 0.22299, saving model to D:\\KISTI\\Project\\052020-Traffic-Sound\\Yi-Source-Code-3\\models\\conv5_gap_train_C6_MFCC_40.hdf5\n",
      "Epoch 44/200\n",
      "10263/10263 [==============================] - 2s 215us/step - loss: 0.2302 - accuracy: 0.9203 - val_loss: 0.2382 - val_accuracy: 0.9202\n",
      "\n",
      "Epoch 00044: val_loss did not improve from 0.22299\n",
      "Epoch 45/200\n",
      "10263/10263 [==============================] - 2s 214us/step - loss: 0.2291 - accuracy: 0.9201 - val_loss: 0.2401 - val_accuracy: 0.9202\n",
      "\n",
      "Epoch 00045: val_loss did not improve from 0.22299\n",
      "Epoch 46/200\n",
      "10263/10263 [==============================] - 2s 214us/step - loss: 0.2310 - accuracy: 0.9202 - val_loss: 0.2242 - val_accuracy: 0.9299\n",
      "\n",
      "Epoch 00046: val_loss did not improve from 0.22299\n",
      "Epoch 47/200\n",
      "10263/10263 [==============================] - 2s 215us/step - loss: 0.2104 - accuracy: 0.9268 - val_loss: 0.2455 - val_accuracy: 0.9141\n",
      "\n",
      "Epoch 00047: val_loss did not improve from 0.22299\n",
      "Epoch 48/200\n",
      "10263/10263 [==============================] - 2s 215us/step - loss: 0.2133 - accuracy: 0.9259 - val_loss: 0.2488 - val_accuracy: 0.9176\n",
      "\n",
      "Epoch 00048: val_loss did not improve from 0.22299\n",
      "Epoch 49/200\n",
      "10263/10263 [==============================] - 2s 214us/step - loss: 0.2054 - accuracy: 0.9290 - val_loss: 0.2258 - val_accuracy: 0.9308\n",
      "\n",
      "Epoch 00049: val_loss did not improve from 0.22299\n",
      "Epoch 50/200\n",
      "10263/10263 [==============================] - 2s 214us/step - loss: 0.2039 - accuracy: 0.9268 - val_loss: 0.2245 - val_accuracy: 0.9238\n",
      "\n",
      "Epoch 00050: val_loss did not improve from 0.22299\n",
      "Epoch 51/200\n",
      "10263/10263 [==============================] - 2s 214us/step - loss: 0.1953 - accuracy: 0.9326 - val_loss: 0.2229 - val_accuracy: 0.9255\n",
      "\n",
      "Epoch 00051: val_loss improved from 0.22299 to 0.22286, saving model to D:\\KISTI\\Project\\052020-Traffic-Sound\\Yi-Source-Code-3\\models\\conv5_gap_train_C6_MFCC_40.hdf5\n",
      "Epoch 52/200\n",
      "10263/10263 [==============================] - 2s 214us/step - loss: 0.1936 - accuracy: 0.9333 - val_loss: 0.2128 - val_accuracy: 0.9290\n",
      "\n",
      "Epoch 00052: val_loss improved from 0.22286 to 0.21276, saving model to D:\\KISTI\\Project\\052020-Traffic-Sound\\Yi-Source-Code-3\\models\\conv5_gap_train_C6_MFCC_40.hdf5\n",
      "Epoch 53/200\n",
      "10263/10263 [==============================] - 2s 214us/step - loss: 0.1903 - accuracy: 0.9349 - val_loss: 0.1845 - val_accuracy: 0.9448\n",
      "\n",
      "Epoch 00053: val_loss improved from 0.21276 to 0.18447, saving model to D:\\KISTI\\Project\\052020-Traffic-Sound\\Yi-Source-Code-3\\models\\conv5_gap_train_C6_MFCC_40.hdf5\n",
      "Epoch 54/200\n",
      "10263/10263 [==============================] - 2s 214us/step - loss: 0.1826 - accuracy: 0.9402 - val_loss: 0.2179 - val_accuracy: 0.9308\n",
      "\n",
      "Epoch 00054: val_loss did not improve from 0.18447\n",
      "Epoch 55/200\n",
      "10263/10263 [==============================] - 2s 214us/step - loss: 0.1769 - accuracy: 0.9373 - val_loss: 0.2036 - val_accuracy: 0.9299\n",
      "\n",
      "Epoch 00055: val_loss did not improve from 0.18447\n",
      "Epoch 56/200\n",
      "10263/10263 [==============================] - 2s 214us/step - loss: 0.1821 - accuracy: 0.9342 - val_loss: 0.2073 - val_accuracy: 0.9290\n",
      "\n",
      "Epoch 00056: val_loss did not improve from 0.18447\n",
      "Epoch 57/200\n",
      "10263/10263 [==============================] - 2s 214us/step - loss: 0.1724 - accuracy: 0.9422 - val_loss: 0.2171 - val_accuracy: 0.9273\n",
      "\n",
      "Epoch 00057: val_loss did not improve from 0.18447\n",
      "Epoch 58/200\n",
      "10263/10263 [==============================] - 2s 214us/step - loss: 0.1627 - accuracy: 0.9434 - val_loss: 0.2236 - val_accuracy: 0.9273\n",
      "\n",
      "Epoch 00058: val_loss did not improve from 0.18447\n",
      "Epoch 59/200\n",
      "10263/10263 [==============================] - 2s 214us/step - loss: 0.1677 - accuracy: 0.9411 - val_loss: 0.1823 - val_accuracy: 0.9413\n",
      "\n",
      "Epoch 00059: val_loss improved from 0.18447 to 0.18228, saving model to D:\\KISTI\\Project\\052020-Traffic-Sound\\Yi-Source-Code-3\\models\\conv5_gap_train_C6_MFCC_40.hdf5\n",
      "Epoch 60/200\n",
      "10263/10263 [==============================] - 2s 214us/step - loss: 0.1630 - accuracy: 0.9407 - val_loss: 0.1782 - val_accuracy: 0.9439\n",
      "\n",
      "Epoch 00060: val_loss improved from 0.18228 to 0.17815, saving model to D:\\KISTI\\Project\\052020-Traffic-Sound\\Yi-Source-Code-3\\models\\conv5_gap_train_C6_MFCC_40.hdf5\n",
      "Epoch 61/200\n",
      "10263/10263 [==============================] - 2s 214us/step - loss: 0.1613 - accuracy: 0.9426 - val_loss: 0.1736 - val_accuracy: 0.9474\n",
      "\n",
      "Epoch 00061: val_loss improved from 0.17815 to 0.17356, saving model to D:\\KISTI\\Project\\052020-Traffic-Sound\\Yi-Source-Code-3\\models\\conv5_gap_train_C6_MFCC_40.hdf5\n",
      "Epoch 62/200\n"
     ]
    },
    {
     "name": "stdout",
     "output_type": "stream",
     "text": [
      "10263/10263 [==============================] - 2s 214us/step - loss: 0.1507 - accuracy: 0.9479 - val_loss: 0.1812 - val_accuracy: 0.9378\n",
      "\n",
      "Epoch 00062: val_loss did not improve from 0.17356\n",
      "Epoch 63/200\n",
      "10263/10263 [==============================] - 2s 214us/step - loss: 0.1542 - accuracy: 0.9463 - val_loss: 0.1850 - val_accuracy: 0.9413\n",
      "\n",
      "Epoch 00063: val_loss did not improve from 0.17356\n",
      "Epoch 64/200\n",
      "10263/10263 [==============================] - 2s 214us/step - loss: 0.1497 - accuracy: 0.9459 - val_loss: 0.2244 - val_accuracy: 0.9185\n",
      "\n",
      "Epoch 00064: val_loss did not improve from 0.17356\n",
      "Epoch 65/200\n",
      "10263/10263 [==============================] - 2s 214us/step - loss: 0.1487 - accuracy: 0.9487 - val_loss: 0.1723 - val_accuracy: 0.9378\n",
      "\n",
      "Epoch 00065: val_loss improved from 0.17356 to 0.17233, saving model to D:\\KISTI\\Project\\052020-Traffic-Sound\\Yi-Source-Code-3\\models\\conv5_gap_train_C6_MFCC_40.hdf5\n",
      "Epoch 66/200\n",
      "10263/10263 [==============================] - 2s 214us/step - loss: 0.1388 - accuracy: 0.9499 - val_loss: 0.1797 - val_accuracy: 0.9369\n",
      "\n",
      "Epoch 00066: val_loss did not improve from 0.17233\n",
      "Epoch 67/200\n",
      "10263/10263 [==============================] - 2s 214us/step - loss: 0.1381 - accuracy: 0.9516 - val_loss: 0.1776 - val_accuracy: 0.9378\n",
      "\n",
      "Epoch 00067: val_loss did not improve from 0.17233\n",
      "Epoch 68/200\n",
      "10263/10263 [==============================] - 2s 214us/step - loss: 0.1359 - accuracy: 0.9541 - val_loss: 0.2028 - val_accuracy: 0.9316\n",
      "\n",
      "Epoch 00068: val_loss did not improve from 0.17233\n",
      "Epoch 69/200\n",
      "10263/10263 [==============================] - 2s 214us/step - loss: 0.1263 - accuracy: 0.9553 - val_loss: 0.1830 - val_accuracy: 0.9395\n",
      "\n",
      "Epoch 00069: val_loss did not improve from 0.17233\n",
      "Epoch 70/200\n",
      "10263/10263 [==============================] - 2s 214us/step - loss: 0.1258 - accuracy: 0.9561 - val_loss: 0.1913 - val_accuracy: 0.9395\n",
      "\n",
      "Epoch 00070: val_loss did not improve from 0.17233\n",
      "Epoch 71/200\n",
      "10263/10263 [==============================] - 2s 214us/step - loss: 0.1208 - accuracy: 0.9583 - val_loss: 0.1853 - val_accuracy: 0.9413\n",
      "\n",
      "Epoch 00071: val_loss did not improve from 0.17233\n",
      "Epoch 72/200\n",
      "10263/10263 [==============================] - 2s 214us/step - loss: 0.1248 - accuracy: 0.9547 - val_loss: 0.1939 - val_accuracy: 0.9343\n",
      "\n",
      "Epoch 00072: val_loss did not improve from 0.17233\n",
      "Epoch 73/200\n",
      "10263/10263 [==============================] - 2s 214us/step - loss: 0.1202 - accuracy: 0.9590 - val_loss: 0.1966 - val_accuracy: 0.9343\n",
      "\n",
      "Epoch 00073: val_loss did not improve from 0.17233\n",
      "Epoch 74/200\n",
      "10263/10263 [==============================] - 2s 214us/step - loss: 0.1154 - accuracy: 0.9590 - val_loss: 0.1705 - val_accuracy: 0.9404\n",
      "\n",
      "Epoch 00074: val_loss improved from 0.17233 to 0.17052, saving model to D:\\KISTI\\Project\\052020-Traffic-Sound\\Yi-Source-Code-3\\models\\conv5_gap_train_C6_MFCC_40.hdf5\n",
      "Epoch 75/200\n",
      "10263/10263 [==============================] - 2s 215us/step - loss: 0.1167 - accuracy: 0.9615 - val_loss: 0.1726 - val_accuracy: 0.9457\n",
      "\n",
      "Epoch 00075: val_loss did not improve from 0.17052\n",
      "Epoch 76/200\n",
      "10263/10263 [==============================] - 2s 214us/step - loss: 0.1111 - accuracy: 0.9618 - val_loss: 0.1773 - val_accuracy: 0.9430\n",
      "\n",
      "Epoch 00076: val_loss did not improve from 0.17052\n",
      "Epoch 77/200\n",
      "10263/10263 [==============================] - ETA: 0s - loss: 0.1161 - accuracy: 0.95 - 2s 214us/step - loss: 0.1162 - accuracy: 0.9577 - val_loss: 0.1640 - val_accuracy: 0.9404\n",
      "\n",
      "Epoch 00077: val_loss improved from 0.17052 to 0.16398, saving model to D:\\KISTI\\Project\\052020-Traffic-Sound\\Yi-Source-Code-3\\models\\conv5_gap_train_C6_MFCC_40.hdf5\n",
      "Epoch 78/200\n",
      "10263/10263 [==============================] - 2s 214us/step - loss: 0.1094 - accuracy: 0.9612 - val_loss: 0.1561 - val_accuracy: 0.9474\n",
      "\n",
      "Epoch 00078: val_loss improved from 0.16398 to 0.15612, saving model to D:\\KISTI\\Project\\052020-Traffic-Sound\\Yi-Source-Code-3\\models\\conv5_gap_train_C6_MFCC_40.hdf5\n",
      "Epoch 79/200\n",
      "10263/10263 [==============================] - 2s 214us/step - loss: 0.0993 - accuracy: 0.9650 - val_loss: 0.1846 - val_accuracy: 0.9325\n",
      "\n",
      "Epoch 00079: val_loss did not improve from 0.15612\n",
      "Epoch 80/200\n",
      "10263/10263 [==============================] - 2s 214us/step - loss: 0.1083 - accuracy: 0.9639 - val_loss: 0.1673 - val_accuracy: 0.9457\n",
      "\n",
      "Epoch 00080: val_loss did not improve from 0.15612\n",
      "Epoch 81/200\n",
      "10263/10263 [==============================] - 2s 214us/step - loss: 0.0964 - accuracy: 0.9659 - val_loss: 0.1620 - val_accuracy: 0.9474\n",
      "\n",
      "Epoch 00081: val_loss did not improve from 0.15612\n",
      "Epoch 82/200\n",
      "10263/10263 [==============================] - 2s 215us/step - loss: 0.0963 - accuracy: 0.9654 - val_loss: 0.1723 - val_accuracy: 0.9430\n",
      "\n",
      "Epoch 00082: val_loss did not improve from 0.15612\n",
      "Epoch 83/200\n",
      "10263/10263 [==============================] - 2s 214us/step - loss: 0.0998 - accuracy: 0.9655 - val_loss: 0.1702 - val_accuracy: 0.9430\n",
      "\n",
      "Epoch 00083: val_loss did not improve from 0.15612\n",
      "Epoch 84/200\n",
      "10263/10263 [==============================] - 2s 214us/step - loss: 0.1001 - accuracy: 0.9640 - val_loss: 0.1648 - val_accuracy: 0.9422\n",
      "\n",
      "Epoch 00084: val_loss did not improve from 0.15612\n",
      "Epoch 85/200\n",
      "10263/10263 [==============================] - 2s 214us/step - loss: 0.0974 - accuracy: 0.9653 - val_loss: 0.1621 - val_accuracy: 0.9395\n",
      "\n",
      "Epoch 00085: val_loss did not improve from 0.15612\n",
      "Epoch 86/200\n",
      "10263/10263 [==============================] - 2s 214us/step - loss: 0.0878 - accuracy: 0.9691 - val_loss: 0.1715 - val_accuracy: 0.9360\n",
      "\n",
      "Epoch 00086: val_loss did not improve from 0.15612\n",
      "Epoch 87/200\n",
      "10263/10263 [==============================] - 2s 214us/step - loss: 0.0897 - accuracy: 0.9685 - val_loss: 0.1713 - val_accuracy: 0.9430\n",
      "\n",
      "Epoch 00087: val_loss did not improve from 0.15612\n",
      "Epoch 88/200\n",
      "10263/10263 [==============================] - 2s 215us/step - loss: 0.0863 - accuracy: 0.9684 - val_loss: 0.1635 - val_accuracy: 0.9422\n",
      "\n",
      "Epoch 00088: ReduceLROnPlateau reducing learning rate to 1.9999999494757503e-05.\n",
      "\n",
      "Epoch 00088: val_loss did not improve from 0.15612\n",
      "Epoch 89/200\n",
      "10263/10263 [==============================] - 2s 214us/step - loss: 0.0673 - accuracy: 0.9782 - val_loss: 0.1544 - val_accuracy: 0.9500\n",
      "\n",
      "Epoch 00089: val_loss improved from 0.15612 to 0.15436, saving model to D:\\KISTI\\Project\\052020-Traffic-Sound\\Yi-Source-Code-3\\models\\conv5_gap_train_C6_MFCC_40.hdf5\n",
      "Epoch 90/200\n",
      "10263/10263 [==============================] - 2s 214us/step - loss: 0.0599 - accuracy: 0.9794 - val_loss: 0.1494 - val_accuracy: 0.9492\n",
      "\n",
      "Epoch 00090: val_loss improved from 0.15436 to 0.14942, saving model to D:\\KISTI\\Project\\052020-Traffic-Sound\\Yi-Source-Code-3\\models\\conv5_gap_train_C6_MFCC_40.hdf5\n",
      "Epoch 91/200\n",
      "10263/10263 [==============================] - 2s 214us/step - loss: 0.0594 - accuracy: 0.9800 - val_loss: 0.1531 - val_accuracy: 0.9474\n",
      "\n",
      "Epoch 00091: val_loss did not improve from 0.14942\n",
      "Epoch 92/200\n",
      "10263/10263 [==============================] - 2s 214us/step - loss: 0.0606 - accuracy: 0.9799 - val_loss: 0.1466 - val_accuracy: 0.9509\n",
      "\n",
      "Epoch 00092: val_loss improved from 0.14942 to 0.14662, saving model to D:\\KISTI\\Project\\052020-Traffic-Sound\\Yi-Source-Code-3\\models\\conv5_gap_train_C6_MFCC_40.hdf5\n",
      "Epoch 93/200\n",
      "10263/10263 [==============================] - 2s 215us/step - loss: 0.0627 - accuracy: 0.9786 - val_loss: 0.1499 - val_accuracy: 0.9518\n",
      "\n",
      "Epoch 00093: val_loss did not improve from 0.14662\n",
      "Epoch 94/200\n",
      "10263/10263 [==============================] - 2s 214us/step - loss: 0.0615 - accuracy: 0.9783 - val_loss: 0.1484 - val_accuracy: 0.9500\n",
      "\n",
      "Epoch 00094: val_loss did not improve from 0.14662\n",
      "Epoch 95/200\n",
      "10263/10263 [==============================] - 2s 214us/step - loss: 0.0603 - accuracy: 0.9798 - val_loss: 0.1532 - val_accuracy: 0.9500\n",
      "\n",
      "Epoch 00095: val_loss did not improve from 0.14662\n",
      "Epoch 96/200\n",
      "10263/10263 [==============================] - 2s 214us/step - loss: 0.0591 - accuracy: 0.9800 - val_loss: 0.1494 - val_accuracy: 0.9518\n",
      "\n",
      "Epoch 00096: val_loss did not improve from 0.14662\n",
      "Epoch 97/200\n",
      "10263/10263 [==============================] - 2s 214us/step - loss: 0.0558 - accuracy: 0.9811 - val_loss: 0.1515 - val_accuracy: 0.9518\n",
      "\n",
      "Epoch 00097: val_loss did not improve from 0.14662\n",
      "Epoch 98/200\n"
     ]
    },
    {
     "name": "stdout",
     "output_type": "stream",
     "text": [
      "10263/10263 [==============================] - 2s 214us/step - loss: 0.0547 - accuracy: 0.9811 - val_loss: 0.1559 - val_accuracy: 0.9509\n",
      "\n",
      "Epoch 00098: val_loss did not improve from 0.14662\n",
      "Epoch 99/200\n",
      "10263/10263 [==============================] - 2s 214us/step - loss: 0.0506 - accuracy: 0.9819 - val_loss: 0.1517 - val_accuracy: 0.9509\n",
      "\n",
      "Epoch 00099: val_loss did not improve from 0.14662\n",
      "Epoch 100/200\n",
      "10263/10263 [==============================] - 2s 214us/step - loss: 0.0546 - accuracy: 0.9808 - val_loss: 0.1489 - val_accuracy: 0.9518\n",
      "\n",
      "Epoch 00100: val_loss did not improve from 0.14662\n",
      "Epoch 101/200\n",
      "10263/10263 [==============================] - 2s 214us/step - loss: 0.0537 - accuracy: 0.9800 - val_loss: 0.1502 - val_accuracy: 0.9527\n",
      "\n",
      "Epoch 00101: val_loss did not improve from 0.14662\n",
      "Epoch 102/200\n",
      "10263/10263 [==============================] - 2s 214us/step - loss: 0.0498 - accuracy: 0.9827 - val_loss: 0.1520 - val_accuracy: 0.9509\n",
      "\n",
      "Epoch 00102: ReduceLROnPlateau reducing learning rate to 1.9999999494757505e-06.\n",
      "\n",
      "Epoch 00102: val_loss did not improve from 0.14662\n",
      "Epoch 103/200\n",
      "10263/10263 [==============================] - 2s 214us/step - loss: 0.0509 - accuracy: 0.9822 - val_loss: 0.1510 - val_accuracy: 0.9492\n",
      "\n",
      "Epoch 00103: val_loss did not improve from 0.14662\n",
      "Epoch 104/200\n",
      "10263/10263 [==============================] - 2s 214us/step - loss: 0.0528 - accuracy: 0.9825 - val_loss: 0.1500 - val_accuracy: 0.9527\n",
      "\n",
      "Epoch 00104: val_loss did not improve from 0.14662\n",
      "Epoch 105/200\n",
      "10263/10263 [==============================] - 2s 214us/step - loss: 0.0561 - accuracy: 0.9812 - val_loss: 0.1512 - val_accuracy: 0.9518\n",
      "\n",
      "Epoch 00105: val_loss did not improve from 0.14662\n",
      "Epoch 106/200\n",
      "10263/10263 [==============================] - 2s 214us/step - loss: 0.0547 - accuracy: 0.9821 - val_loss: 0.1503 - val_accuracy: 0.9509\n",
      "\n",
      "Epoch 00106: val_loss did not improve from 0.14662\n",
      "Epoch 107/200\n",
      "10263/10263 [==============================] - 2s 214us/step - loss: 0.0538 - accuracy: 0.9804 - val_loss: 0.1505 - val_accuracy: 0.9535\n",
      "\n",
      "Epoch 00107: val_loss did not improve from 0.14662\n",
      "Epoch 108/200\n",
      "10263/10263 [==============================] - 2s 214us/step - loss: 0.0489 - accuracy: 0.9831 - val_loss: 0.1498 - val_accuracy: 0.9535\n",
      "\n",
      "Epoch 00108: val_loss did not improve from 0.14662\n",
      "Epoch 109/200\n",
      "10263/10263 [==============================] - 2s 214us/step - loss: 0.0495 - accuracy: 0.9828 - val_loss: 0.1507 - val_accuracy: 0.9527\n",
      "\n",
      "Epoch 00109: val_loss did not improve from 0.14662\n",
      "Epoch 110/200\n",
      "10263/10263 [==============================] - 2s 213us/step - loss: 0.0535 - accuracy: 0.9817 - val_loss: 0.1510 - val_accuracy: 0.9544\n",
      "\n",
      "Epoch 00110: val_loss did not improve from 0.14662\n",
      "Epoch 111/200\n",
      "10263/10263 [==============================] - 2s 214us/step - loss: 0.0467 - accuracy: 0.9846 - val_loss: 0.1516 - val_accuracy: 0.9544\n",
      "\n",
      "Epoch 00111: val_loss did not improve from 0.14662\n",
      "Epoch 112/200\n",
      "10263/10263 [==============================] - 2s 214us/step - loss: 0.0516 - accuracy: 0.9813 - val_loss: 0.1505 - val_accuracy: 0.9544\n",
      "\n",
      "Epoch 00112: ReduceLROnPlateau reducing learning rate to 1e-06.\n",
      "\n",
      "Epoch 00112: val_loss did not improve from 0.14662\n",
      "Epoch 113/200\n",
      "10263/10263 [==============================] - 2s 213us/step - loss: 0.0505 - accuracy: 0.9833 - val_loss: 0.1497 - val_accuracy: 0.9544\n",
      "\n",
      "Epoch 00113: val_loss did not improve from 0.14662\n",
      "Epoch 114/200\n",
      "10263/10263 [==============================] - 2s 214us/step - loss: 0.0545 - accuracy: 0.9806 - val_loss: 0.1496 - val_accuracy: 0.9544\n",
      "\n",
      "Epoch 00114: val_loss did not improve from 0.14662\n",
      "Epoch 115/200\n",
      "10263/10263 [==============================] - 2s 214us/step - loss: 0.0452 - accuracy: 0.9841 - val_loss: 0.1493 - val_accuracy: 0.9535\n",
      "\n",
      "Epoch 00115: val_loss did not improve from 0.14662\n",
      "Epoch 116/200\n",
      "10263/10263 [==============================] - 2s 214us/step - loss: 0.0513 - accuracy: 0.9834 - val_loss: 0.1496 - val_accuracy: 0.9535\n",
      "\n",
      "Epoch 00116: val_loss did not improve from 0.14662\n",
      "Epoch 117/200\n",
      "10263/10263 [==============================] - 2s 214us/step - loss: 0.0541 - accuracy: 0.9803 - val_loss: 0.1490 - val_accuracy: 0.9535\n",
      "\n",
      "Epoch 00117: val_loss did not improve from 0.14662\n",
      "Epoch 118/200\n",
      "10263/10263 [==============================] - 2s 214us/step - loss: 0.0523 - accuracy: 0.9823 - val_loss: 0.1493 - val_accuracy: 0.9544\n",
      "\n",
      "Epoch 00118: val_loss did not improve from 0.14662\n",
      "Epoch 119/200\n",
      "10263/10263 [==============================] - 2s 214us/step - loss: 0.0514 - accuracy: 0.9824 - val_loss: 0.1495 - val_accuracy: 0.9544\n",
      "\n",
      "Epoch 00119: val_loss did not improve from 0.14662\n",
      "Epoch 120/200\n",
      "10263/10263 [==============================] - 2s 217us/step - loss: 0.0524 - accuracy: 0.9818 - val_loss: 0.1492 - val_accuracy: 0.9535\n",
      "\n",
      "Epoch 00120: val_loss did not improve from 0.14662\n",
      "Epoch 121/200\n",
      "10263/10263 [==============================] - 2s 218us/step - loss: 0.0509 - accuracy: 0.9828 - val_loss: 0.1492 - val_accuracy: 0.9535\n",
      "\n",
      "Epoch 00121: val_loss did not improve from 0.14662\n",
      "Epoch 122/200\n",
      "10263/10263 [==============================] - 2s 219us/step - loss: 0.0512 - accuracy: 0.9822 - val_loss: 0.1499 - val_accuracy: 0.9535\n",
      "\n",
      "Epoch 00122: val_loss did not improve from 0.14662\n",
      "Training completed in time:  0:04:34.990161\n"
     ]
    }
   ],
   "source": [
    "\n",
    "# Save checkpoints\n",
    "\n",
    "early_stopping = EarlyStopping(patience = 30) \n",
    "checkpointer = ModelCheckpoint(filepath=model_path, \n",
    "                               verbose=1, save_best_only=True)\n",
    "callback_reduce_lr=ReduceLROnPlateau(monitor='val_loss',\n",
    "                                     factor=0.1,\n",
    "                                     min_lr=1e-6,\n",
    "                                     patience=10,\n",
    "                                     verbose=1)\n",
    "start = datetime.now()\n",
    "history = model.fit(X_train, \n",
    "                    y_train_encoded, \n",
    "                    batch_size=num_batch_size, \n",
    "                    epochs=num_epochs, \n",
    "                    validation_split=0.1,\n",
    "                    callbacks=[early_stopping, callback_reduce_lr, checkpointer], \n",
    "                    verbose=1)\n",
    "duration = datetime.now() - start\n",
    "print(\"Training completed in time: \", duration)\n",
    "file1 = open(os.path.join(models_path, 'time_' + file_name + \".txt\"),\"w\")\n",
    "file1.write('Training Time:' + str(duration))\n",
    "file1.write('\\n')\n",
    "file1.close()\n",
    "\n",
    "\n"
   ]
  },
  {
   "cell_type": "markdown",
   "metadata": {},
   "source": [
    "#### 2.4 General model evaluation\n",
    "Note that we first load the checkpoint with the lowest validation loss achieved during training."
   ]
  },
  {
   "cell_type": "code",
   "execution_count": 13,
   "metadata": {
    "scrolled": false
   },
   "outputs": [
    {
     "name": "stdout",
     "output_type": "stream",
     "text": [
      "                    LOSS      ACCURACY\n",
      "--------------------------------------\n",
      "Training:         0.0318       99.2634\n",
      "Test:             0.1981       93.7215\n",
      "Normal diff         83.94 \n"
     ]
    }
   ],
   "source": [
    "# Load best saved model\n",
    "model = load_model(model_path)\n",
    "\n",
    "helpers.model_evaluation_report(model, X_train, y_train_encoded, X_test, y_test_encoded)"
   ]
  },
  {
   "cell_type": "markdown",
   "metadata": {},
   "source": [
    "Compared with the previous evaluation the model was able to train for more epochs when using Mel Spectrograms, and consequently, a higher accuracy and lower error where achieved.<br/>"
   ]
  },
  {
   "cell_type": "code",
   "execution_count": 14,
   "metadata": {
    "nbpresent": {
     "id": "19f196f8-c2b5-4c56-ba54-4c145b7023ad"
    },
    "scrolled": false
   },
   "outputs": [
    {
     "data": {
      "image/png": "[encoded data removed]",
      "text/plain": [
       "<Figure size 1440x792 with 1 Axes>"
      ]
     },
     "metadata": {
      "needs_background": "light"
     },
     "output_type": "display_data"
    },
    {
     "data": {
      "image/png": "[encoded data removed]",
      "text/plain": [
       "<Figure size 1440x792 with 1 Axes>"
      ]
     },
     "metadata": {
      "needs_background": "light"
     },
     "output_type": "display_data"
    }
   ],
   "source": [
    "helpers.plot_train_history(history, x_ticks_vertical=True)"
   ]
  },
  {
   "cell_type": "code",
   "execution_count": 15,
   "metadata": {},
   "outputs": [
    {
     "name": "stderr",
     "output_type": "stream",
     "text": [
      "C:\\Users\\user\\Anaconda3\\envs\\tf_gpu\\lib\\site-packages\\ipykernel_launcher.py:7: SettingWithCopyWarning: \n",
      "A value is trying to be set on a copy of a slice from a DataFrame.\n",
      "Try using .loc[row_indexer,col_indexer] = value instead\n",
      "\n",
      "See the caveats in the documentation: http://pandas.pydata.org/pandas-docs/stable/user_guide/indexing.html#returning-a-view-versus-a-copy\n",
      "  import sys\n"
     ]
    }
   ],
   "source": [
    "# Predict probabilities for test set\n",
    "y_probs = model.predict(X_test, verbose=0)\n",
    "yhat_probs = np.argmax(y_probs, axis=1)\n",
    "y_trues = np.argmax(y_test_encoded, axis=1)\n",
    "\n",
    "# Add \"pred\" column\n",
    "test_meta['pred'] = yhat_probs"
   ]
  },
  {
   "cell_type": "code",
   "execution_count": 48,
   "metadata": {},
   "outputs": [
    {
     "data": {
      "image/png": "[encoded data removed]",
      "text/plain": [
       "<Figure size 720x504 with 2 Axes>"
      ]
     },
     "metadata": {
      "needs_background": "light"
     },
     "output_type": "display_data"
    }
   ],
   "source": [
    "import importlib\n",
    "importlib.reload(helpers)\n",
    "\n",
    "# Sets decimal precision (for printing output only)\n",
    "np.set_printoptions(precision=2)\n",
    "\n",
    "# Compute confusion matrix data\n",
    "cm = confusion_matrix(y_trues, yhat_probs)\n",
    "\n",
    "helpers.plot_confusion_matrix(cm,\n",
    "                          labels, \n",
    "                          normalized=False, \n",
    "                          cmap=plt.cm.Blues,\n",
    "                          size=(10,7))"
   ]
  },
  {
   "cell_type": "code",
   "execution_count": 17,
   "metadata": {
    "scrolled": false
   },
   "outputs": [
    {
     "name": "stdout",
     "output_type": "stream",
     "text": [
      "D:\\KISTI\\Project\\052020-Traffic-Sound\\Yi-Source-Code-3\\results\\acc_conv5_gap_train_C6_MFCC_40\n",
      "  CLASS   ACCURACY\n",
      "0     1  92.116183\n",
      "1     2  93.548387\n",
      "2     3  91.877256\n",
      "3     4  93.243243\n",
      "4     5  95.755968\n",
      "5     6  96.167883\n"
     ]
    }
   ],
   "source": [
    "# Find per-class accuracy from the confusion matrix data\n",
    "accuracies = helpers.acc_per_class(cm)\n",
    "result_acc = 'acc_' + file_name\n",
    "result_path = os.path.join(results_path, result_acc)\n",
    "print(result_path)\n",
    "df=pd.DataFrame({\n",
    "    'CLASS': labels,\n",
    "    'ACCURACY': accuracies\n",
    "}).sort_values(by=\"CLASS\", ascending=True)\n",
    "\n",
    "print(df)\n",
    "\n",
    "df.to_csv(result_path + '.csv')"
   ]
  },
  {
   "cell_type": "code",
   "execution_count": 18,
   "metadata": {
    "scrolled": false
   },
   "outputs": [
    {
     "name": "stdout",
     "output_type": "stream",
     "text": [
      "              precision    recall  f1-score   support\n",
      "\n",
      "           1       0.91      0.92      0.92       482\n",
      "           2       0.99      0.94      0.96       372\n",
      "           3       0.94      0.92      0.93       554\n",
      "           4       0.94      0.93      0.94       518\n",
      "           5       0.92      0.96      0.94       377\n",
      "           6       0.93      0.96      0.95       548\n",
      "\n",
      "   micro avg       0.94      0.94      0.94      2851\n",
      "   macro avg       0.56      0.56      0.56      2851\n",
      "weighted avg       0.94      0.94      0.94      2851\n",
      "\n",
      "Accuracy: 0.9372150122763943\n",
      "Precision: 0.9377847362078461\n",
      "Recall: 0.9372150122763943\n",
      "F1-Score: 0.9372692560021043\n"
     ]
    },
    {
     "name": "stderr",
     "output_type": "stream",
     "text": [
      "C:\\Users\\user\\Anaconda3\\envs\\tf_gpu\\lib\\site-packages\\sklearn\\metrics\\classification.py:1870: UserWarning: labels size, 10, does not match size of target_names, 6\n",
      "  .format(len(labels), len(target_names))\n",
      "C:\\Users\\user\\Anaconda3\\envs\\tf_gpu\\lib\\site-packages\\sklearn\\metrics\\classification.py:1437: UndefinedMetricWarning: Precision and F-score are ill-defined and being set to 0.0 in labels with no predicted samples.\n",
      "  'precision', 'predicted', average, warn_for)\n",
      "C:\\Users\\user\\Anaconda3\\envs\\tf_gpu\\lib\\site-packages\\sklearn\\metrics\\classification.py:1439: UndefinedMetricWarning: Recall and F-score are ill-defined and being set to 0.0 in labels with no true samples.\n",
      "  'recall', 'true', average, warn_for)\n"
     ]
    }
   ],
   "source": [
    "# Build classification report\n",
    "re = classification_report(y_trues, yhat_probs, labels=[0,1,2,3,4,5,6,7,8,9], target_names=labels) \n",
    "print(re)\n",
    "print(\"Accuracy: {0}\".format(accuracy_score(y_trues, yhat_probs)))\n",
    "print(\"Precision: {0}\".format(precision_score(y_trues, yhat_probs, average='weighted')))\n",
    "print(\"Recall: {0}\".format(recall_score(y_trues, yhat_probs, average='weighted')))\n",
    "print(\"F1-Score: {0}\".format(f1_score(y_trues, yhat_probs, average='weighted')))"
   ]
  },
  {
   "cell_type": "markdown",
   "metadata": {},
   "source": [
    "## 3. Deep Feature Clasification\n",
    "\n",
    "CNN with non-softmax classification\n",
    "\n",
    "\n",
    "### 3.1 Divide feature extraction layers and classification layers\n"
   ]
  },
  {
   "cell_type": "code",
   "execution_count": 19,
   "metadata": {},
   "outputs": [
    {
     "name": "stdout",
     "output_type": "stream",
     "text": [
      "0 <keras.layers.convolutional.Conv2D object at 0x000001B363579B48>\n",
      "1 <keras.layers.advanced_activations.ReLU object at 0x000001B36358F248>\n",
      "2 <keras.layers.pooling.MaxPooling2D object at 0x000001B363592D88>\n",
      "3 <keras.layers.core.Dropout object at 0x000001B363594D88>\n",
      "4 <keras.layers.convolutional.Conv2D object at 0x000001B36359CE88>\n",
      "5 <keras.layers.advanced_activations.ReLU object at 0x000001B363594E88>\n",
      "6 <keras.layers.pooling.MaxPooling2D object at 0x000001B3635B1088>\n",
      "7 <keras.layers.core.Dropout object at 0x000001B3635B1F88>\n",
      "8 <keras.layers.convolutional.Conv2D object at 0x000001B3635B1108>\n",
      "9 <keras.layers.advanced_activations.ReLU object at 0x000001B3635C40C8>\n",
      "10 <keras.layers.pooling.MaxPooling2D object at 0x000001B3635D3F08>\n",
      "11 <keras.layers.core.Dropout object at 0x000001B3635D5108>\n",
      "12 <keras.layers.convolutional.Conv2D object at 0x000001B3635D3FC8>\n",
      "13 <keras.layers.advanced_activations.ReLU object at 0x000001B3635D8D48>\n",
      "14 <keras.layers.pooling.MaxPooling2D object at 0x000001B3635F7248>\n",
      "15 <keras.layers.core.Dropout object at 0x000001B3635F7D48>\n",
      "16 <keras.layers.convolutional.Conv2D object at 0x000001B363605348>\n",
      "17 <keras.layers.advanced_activations.ReLU object at 0x000001B3635FD988>\n",
      "18 <keras.layers.core.Dropout object at 0x000001B3636167C8>\n",
      "19 <keras.layers.pooling.GlobalAveragePooling2D object at 0x000001B363611688>\n",
      "20 <keras.layers.core.Dense object at 0x000001B3636276C8>\n",
      "21 <keras.layers.core.Dropout object at 0x000001B363637C48>\n",
      "22 <keras.layers.core.Dense object at 0x000001B3636278C8>\n"
     ]
    }
   ],
   "source": [
    "# Layers definitions\n",
    "from keras import backend as K\n",
    "for l in range(len(model.layers)):\n",
    "    print(l, model.layers[l])"
   ]
  },
  {
   "cell_type": "code",
   "execution_count": 20,
   "metadata": {},
   "outputs": [],
   "source": [
    "# feature extraction layer\n",
    "getFeature = K.function([model.layers[0].input, K.learning_phase()],\n",
    "                        [model.layers[20].output])"
   ]
  },
  {
   "cell_type": "code",
   "execution_count": 21,
   "metadata": {},
   "outputs": [],
   "source": [
    "# classification layer\n",
    "getPrediction = K.function([model.layers[21].input, K.learning_phase()],\n",
    "                           [model.layers[22].output])"
   ]
  },
  {
   "cell_type": "markdown",
   "metadata": {},
   "source": [
    "### 3.2 Get feature tensors for training and testing data\n"
   ]
  },
  {
   "cell_type": "code",
   "execution_count": 22,
   "metadata": {},
   "outputs": [
    {
     "name": "stdout",
     "output_type": "stream",
     "text": [
      "11404\n"
     ]
    }
   ],
   "source": [
    "print(len(X_train))\n",
    "exTrain = getFeature([X_train[:9500], 0])[0]"
   ]
  },
  {
   "cell_type": "code",
   "execution_count": 23,
   "metadata": {},
   "outputs": [],
   "source": [
    "exTest = getFeature([X_test, 0])[0]"
   ]
  },
  {
   "cell_type": "code",
   "execution_count": 24,
   "metadata": {},
   "outputs": [],
   "source": [
    "# output of getFeature function\n",
    "#exTrain[0]\n",
    "#exTest[0]"
   ]
  },
  {
   "cell_type": "markdown",
   "metadata": {},
   "source": [
    "###  3.3 Reshape target to fit to scikit-learn"
   ]
  },
  {
   "cell_type": "code",
   "execution_count": 25,
   "metadata": {},
   "outputs": [],
   "source": [
    "sklearn_y_train= y_train[:9500].reshape(y_train[:9500].shape[0],)\n",
    "sklearn_y_test = y_test"
   ]
  },
  {
   "cell_type": "code",
   "execution_count": 26,
   "metadata": {},
   "outputs": [
    {
     "name": "stdout",
     "output_type": "stream",
     "text": [
      "(9500, 256) (2851, 256) (9500,) (2851,)\n"
     ]
    }
   ],
   "source": [
    "print(exTrain.shape, exTest.shape, sklearn_y_train.shape, sklearn_y_test.shape)"
   ]
  },
  {
   "cell_type": "code",
   "execution_count": 27,
   "metadata": {},
   "outputs": [],
   "source": [
    "from sklearn.model_selection import GridSearchCV"
   ]
  },
  {
   "cell_type": "markdown",
   "metadata": {},
   "source": [
    "### 3.4   Scikit-learn Classifiers with feature extracted training data as input\n",
    "\n",
    "We adopt four algorithms: Support Vector Machine (SVM), Random Forest (RF), L-Neareast Neighbor (KNN), and XGBoots (XGB) "
   ]
  },
  {
   "cell_type": "markdown",
   "metadata": {},
   "source": [
    "####  3.4.1 SVM"
   ]
  },
  {
   "cell_type": "code",
   "execution_count": 28,
   "metadata": {},
   "outputs": [
    {
     "name": "stderr",
     "output_type": "stream",
     "text": [
      "C:\\Users\\user\\Anaconda3\\envs\\tf_gpu\\lib\\site-packages\\sklearn\\model_selection\\_split.py:1978: FutureWarning: The default value of cv will change from 3 to 5 in version 0.22. Specify it explicitly to silence this warning.\n",
      "  warnings.warn(CV_WARNING, FutureWarning)\n"
     ]
    },
    {
     "name": "stdout",
     "output_type": "stream",
     "text": [
      "Training completed in time of svm:  0:00:45.189267\n"
     ]
    }
   ],
   "source": [
    "\n",
    "from sklearn.svm import SVC\n",
    "\n",
    "\n",
    "\n",
    "start_svm = datetime.now()\n",
    "\n",
    "parameters = {'kernel':['rbf'], \n",
    "              'C':[1, 10, 100, 1000],\n",
    "              'gamma':[1e-3, 1e-4]}\n",
    "clf = GridSearchCV(SVC(), parameters)\n",
    "clf.fit(exTrain, sklearn_y_train)\n",
    "\n",
    "time_svm = datetime.now() - start_svm\n",
    "print(\"Training completed in time of svm: \", time_svm)\n",
    "file1 = open(os.path.join(models_path, 'time_' + file_name + \".txt\"),\"a\")\n",
    "file1.write('Time SVM:' +  str(time_svm))\n",
    "file1.write('\\n')\n",
    "file1.close()"
   ]
  },
  {
   "cell_type": "code",
   "execution_count": 29,
   "metadata": {},
   "outputs": [
    {
     "data": {
      "text/plain": [
       "SVC(C=10, cache_size=200, class_weight=None, coef0=0.0,\n",
       "    decision_function_shape='ovr', degree=3, gamma=0.001, kernel='rbf',\n",
       "    max_iter=-1, probability=False, random_state=None, shrinking=True,\n",
       "    tol=0.001, verbose=False)"
      ]
     },
     "execution_count": 29,
     "metadata": {},
     "output_type": "execute_result"
    }
   ],
   "source": [
    "svmclf = clf.best_estimator_\n",
    "svmclf.fit(exTrain, sklearn_y_train)"
   ]
  },
  {
   "cell_type": "code",
   "execution_count": 50,
   "metadata": {},
   "outputs": [
    {
     "data": {
      "image/png": "[encoded data removed]",
      "text/plain": [
       "<Figure size 720x504 with 2 Axes>"
      ]
     },
     "metadata": {
      "needs_background": "light"
     },
     "output_type": "display_data"
    }
   ],
   "source": [
    "\n",
    "y_testSVM = svmclf.predict(exTest)\n",
    "\n",
    "\n",
    "# visualize confusion matrix on heat map\n",
    "import pandas as pd\n",
    "import seaborn as sn\n",
    "import matplotlib.pyplot as plt\n",
    "from sklearn.metrics import confusion_matrix\n",
    "\n",
    "cm_svm = confusion_matrix(sklearn_y_test, y_testSVM)\n",
    "\n",
    "helpers.plot_confusion_matrix(cm_svm,\n",
    "                          labels, \n",
    "                          normalized=False, \n",
    "                          cmap=plt.cm.Blues,\n",
    "                          size=(10,7))\n",
    "\n",
    "\n"
   ]
  },
  {
   "cell_type": "code",
   "execution_count": 31,
   "metadata": {},
   "outputs": [
    {
     "name": "stdout",
     "output_type": "stream",
     "text": [
      "D:\\KISTI\\Project\\052020-Traffic-Sound\\Yi-Source-Code-3\\results\\acc_SVM\n",
      "  CLASS   ACCURACY\n",
      "0     1  92.323651\n",
      "1     2  95.161290\n",
      "2     3  93.140794\n",
      "3     4  92.471042\n",
      "4     5  94.960212\n",
      "5     6  95.255474\n"
     ]
    }
   ],
   "source": [
    "accuracies = helpers.acc_per_class(cm_svm)\n",
    "result_acc = 'acc_SVM'\n",
    "result_path = os.path.join(results_path, result_acc)\n",
    "print(result_path)\n",
    "df=pd.DataFrame({\n",
    "    'CLASS': labels,\n",
    "    'ACCURACY': accuracies\n",
    "}).sort_values(by=\"CLASS\", ascending=True)\n",
    "\n",
    "print(df)\n",
    "\n",
    "df.to_csv(result_path + '.csv')"
   ]
  },
  {
   "cell_type": "code",
   "execution_count": 49,
   "metadata": {},
   "outputs": [
    {
     "name": "stdout",
     "output_type": "stream",
     "text": [
      "              precision    recall  f1-score   support\n",
      "\n",
      "           1       0.91      0.92      0.91       482\n",
      "           2       0.98      0.95      0.96       372\n",
      "           3       0.93      0.93      0.93       554\n",
      "           4       0.95      0.92      0.94       518\n",
      "           5       0.92      0.95      0.93       377\n",
      "           6       0.95      0.95      0.95       548\n",
      "\n",
      "   micro avg       0.94      0.94      0.94      2851\n",
      "   macro avg       0.63      0.63      0.63      2851\n",
      "weighted avg       0.94      0.94      0.94      2851\n",
      "\n",
      "Accuracy: 0.9379165205191161\n",
      "Precision: 0.9377847362078461\n",
      "Recall: 0.9372150122763943\n",
      "F1-Score: 0.9372692560021043\n"
     ]
    }
   ],
   "source": [
    "# Build classification report\n",
    "re = classification_report(sklearn_y_test, y_testSVM, labels=[1,2,3,4,5,6,7,8,9], target_names=labels) \n",
    "print(re)\n",
    "print(\"Accuracy: {0}\".format(accuracy_score(sklearn_y_test, y_testSVM)))\n",
    "print(\"Precision: {0}\".format(precision_score(y_trues, yhat_probs, average='weighted')))\n",
    "print(\"Recall: {0}\".format(recall_score(y_trues, yhat_probs, average='weighted')))\n",
    "print(\"F1-Score: {0}\".format(f1_score(y_trues, yhat_probs, average='weighted')))"
   ]
  },
  {
   "cell_type": "markdown",
   "metadata": {},
   "source": [
    "#### 3.4.2 Random Forest"
   ]
  },
  {
   "cell_type": "code",
   "execution_count": 33,
   "metadata": {},
   "outputs": [
    {
     "name": "stderr",
     "output_type": "stream",
     "text": [
      "C:\\Users\\user\\Anaconda3\\envs\\tf_gpu\\lib\\site-packages\\sklearn\\model_selection\\_split.py:1978: FutureWarning: The default value of cv will change from 3 to 5 in version 0.22. Specify it explicitly to silence this warning.\n",
      "  warnings.warn(CV_WARNING, FutureWarning)\n"
     ]
    },
    {
     "name": "stdout",
     "output_type": "stream",
     "text": [
      "Training completed in time of RF:  0:05:33.080230\n"
     ]
    }
   ],
   "source": [
    "from sklearn.ensemble import RandomForestClassifier\n",
    "\n",
    "start_rf = datetime.now()\n",
    "\n",
    "parameters = {\"max_depth\": [3, None],\n",
    "              \"max_features\": [1, 3, 10],\n",
    "              \"min_samples_split\": [1.0, 3, 10],\n",
    "              \"min_samples_leaf\": [1, 3, 10],\n",
    "              \"bootstrap\": [True, False],\n",
    "              \"criterion\": [\"gini\", \"entropy\"],\n",
    "              \"n_estimators\": [10, 20, 50]}\n",
    "rclf = RandomForestClassifier()\n",
    "rgclf = GridSearchCV(rclf, param_grid=parameters)\n",
    "rgclf.fit(exTrain, sklearn_y_train)\n",
    "\n",
    "time_rf = datetime.now() - start_rf\n",
    "print(\"Training completed in time of RF: \", time_rf)\n",
    "file1 = open(os.path.join(models_path, 'time_' + file_name + \".txt\"),\"a\")\n",
    "file1.write('Time RF:' +  str(time_rf))\n",
    "file1.write('\\n')\n",
    "file1.close()"
   ]
  },
  {
   "cell_type": "code",
   "execution_count": 34,
   "metadata": {},
   "outputs": [
    {
     "data": {
      "text/plain": [
       "RandomForestClassifier(bootstrap=False, class_weight=None, criterion='entropy',\n",
       "                       max_depth=None, max_features=3, max_leaf_nodes=None,\n",
       "                       min_impurity_decrease=0.0, min_impurity_split=None,\n",
       "                       min_samples_leaf=10, min_samples_split=3,\n",
       "                       min_weight_fraction_leaf=0.0, n_estimators=50,\n",
       "                       n_jobs=None, oob_score=False, random_state=None,\n",
       "                       verbose=0, warm_start=False)"
      ]
     },
     "execution_count": 34,
     "metadata": {},
     "output_type": "execute_result"
    }
   ],
   "source": [
    "rclf = rgclf.best_estimator_\n",
    "rclf.fit(exTrain, sklearn_y_train)"
   ]
  },
  {
   "cell_type": "code",
   "execution_count": 51,
   "metadata": {},
   "outputs": [
    {
     "data": {
      "image/png": "[encoded data removed]",
      "text/plain": [
       "<Figure size 720x504 with 2 Axes>"
      ]
     },
     "metadata": {
      "needs_background": "light"
     },
     "output_type": "display_data"
    }
   ],
   "source": [
    "y_testRF = rclf.predict(exTest)\n",
    "\n",
    "cm_RF = confusion_matrix(sklearn_y_test, y_testRF)\n",
    "\n",
    "\n",
    "helpers.plot_confusion_matrix(cm_RF,\n",
    "                          labels, \n",
    "                          normalized=False, \n",
    "                          cmap=plt.cm.Blues,\n",
    "                          size=(10,7))\n",
    "\n"
   ]
  },
  {
   "cell_type": "code",
   "execution_count": 36,
   "metadata": {},
   "outputs": [
    {
     "name": "stdout",
     "output_type": "stream",
     "text": [
      "D:\\KISTI\\Project\\052020-Traffic-Sound\\Yi-Source-Code-3\\results\\acc_RF\n",
      "  CLASS   ACCURACY\n",
      "0     1  92.116183\n",
      "1     2  95.161290\n",
      "2     3  92.779783\n",
      "3     4  92.084942\n",
      "4     5  94.960212\n",
      "5     6  95.437956\n"
     ]
    }
   ],
   "source": [
    "accuracies = helpers.acc_per_class(cm_RF)\n",
    "result_acc = 'acc_RF'\n",
    "result_path = os.path.join(results_path, result_acc)\n",
    "print(result_path)\n",
    "df=pd.DataFrame({\n",
    "    'CLASS': labels,\n",
    "    'ACCURACY': accuracies\n",
    "}).sort_values(by=\"CLASS\", ascending=True)\n",
    "\n",
    "print(df)\n",
    "\n",
    "df.to_csv(result_path + '.csv')"
   ]
  },
  {
   "cell_type": "code",
   "execution_count": 37,
   "metadata": {},
   "outputs": [
    {
     "name": "stdout",
     "output_type": "stream",
     "text": [
      "              precision    recall  f1-score   support\n",
      "\n",
      "           1       0.90      0.92      0.91       482\n",
      "           2       0.97      0.95      0.96       372\n",
      "           3       0.94      0.93      0.93       554\n",
      "           4       0.96      0.92      0.94       518\n",
      "           5       0.92      0.95      0.93       377\n",
      "           6       0.94      0.95      0.95       548\n",
      "\n",
      "   micro avg       0.94      0.94      0.94      2851\n",
      "   macro avg       0.62      0.63      0.62      2851\n",
      "weighted avg       0.94      0.94      0.94      2851\n",
      "\n",
      "Accuracy: 0.9365135040336724\n"
     ]
    },
    {
     "name": "stderr",
     "output_type": "stream",
     "text": [
      "C:\\Users\\user\\Anaconda3\\envs\\tf_gpu\\lib\\site-packages\\sklearn\\metrics\\classification.py:1870: UserWarning: labels size, 9, does not match size of target_names, 6\n",
      "  .format(len(labels), len(target_names))\n",
      "C:\\Users\\user\\Anaconda3\\envs\\tf_gpu\\lib\\site-packages\\sklearn\\metrics\\classification.py:1437: UndefinedMetricWarning: Precision and F-score are ill-defined and being set to 0.0 in labels with no predicted samples.\n",
      "  'precision', 'predicted', average, warn_for)\n",
      "C:\\Users\\user\\Anaconda3\\envs\\tf_gpu\\lib\\site-packages\\sklearn\\metrics\\classification.py:1439: UndefinedMetricWarning: Recall and F-score are ill-defined and being set to 0.0 in labels with no true samples.\n",
      "  'recall', 'true', average, warn_for)\n"
     ]
    }
   ],
   "source": [
    "# Build classification report\n",
    "re = classification_report(sklearn_y_test, y_testRF, labels=[1,2,3,4,5,6,7,8,9], target_names=labels) \n",
    "print(re)\n",
    "print(\"Accuracy: {0}\".format(accuracy_score(sklearn_y_test, y_testRF)))"
   ]
  },
  {
   "cell_type": "markdown",
   "metadata": {},
   "source": [
    "#### 3.4.3 K nearest neighbors"
   ]
  },
  {
   "cell_type": "code",
   "execution_count": 38,
   "metadata": {},
   "outputs": [
    {
     "name": "stderr",
     "output_type": "stream",
     "text": [
      "C:\\Users\\user\\Anaconda3\\envs\\tf_gpu\\lib\\site-packages\\sklearn\\model_selection\\_split.py:1978: FutureWarning: The default value of cv will change from 3 to 5 in version 0.22. Specify it explicitly to silence this warning.\n",
      "  warnings.warn(CV_WARNING, FutureWarning)\n"
     ]
    },
    {
     "name": "stdout",
     "output_type": "stream",
     "text": [
      "Training completed in time of KNN:  0:10:38.913072\n"
     ]
    }
   ],
   "source": [
    "from sklearn.neighbors import KNeighborsClassifier\n",
    "\n",
    "start_Knn = datetime.now()\n",
    "\n",
    "parameters = {\"n_neighbors\": [1, 5, 10, 30],\n",
    "              \"weights\": ['uniform', 'distance'],\n",
    "              \"metric\": ['minkowski','euclidean','manhattan'],\n",
    "              \"algorithm\": ['auto', 'ball_tree', 'kd_tree', 'brute']}\n",
    "kclf = KNeighborsClassifier()\n",
    "kgclf = GridSearchCV(kclf, param_grid=parameters)\n",
    "kgclf.fit(exTrain, sklearn_y_train)\n",
    "\n",
    "time_knn = datetime.now() - start_Knn\n",
    "print(\"Training completed in time of KNN: \", time_knn)\n",
    "file1 = open(os.path.join(models_path, 'time_' + file_name + \".txt\"),\"a\")\n",
    "file1.write('Time KNN:' +  str(time_knn))\n",
    "file1.write('\\n')\n",
    "file1.close()"
   ]
  },
  {
   "cell_type": "code",
   "execution_count": 39,
   "metadata": {},
   "outputs": [
    {
     "data": {
      "text/plain": [
       "KNeighborsClassifier(algorithm='auto', leaf_size=30, metric='minkowski',\n",
       "                     metric_params=None, n_jobs=None, n_neighbors=10, p=2,\n",
       "                     weights='distance')"
      ]
     },
     "execution_count": 39,
     "metadata": {},
     "output_type": "execute_result"
    }
   ],
   "source": [
    "kclf = kgclf.best_estimator_\n",
    "kclf.fit(exTrain, sklearn_y_train)\n"
   ]
  },
  {
   "cell_type": "code",
   "execution_count": 52,
   "metadata": {},
   "outputs": [
    {
     "data": {
      "image/png": "[encoded data removed]",
      "text/plain": [
       "<Figure size 720x504 with 2 Axes>"
      ]
     },
     "metadata": {
      "needs_background": "light"
     },
     "output_type": "display_data"
    }
   ],
   "source": [
    "y_testKNN = kclf.predict(exTest)\n",
    "\n",
    "cm_KNN = confusion_matrix(sklearn_y_test, y_testKNN)\n",
    "\n",
    "\n",
    "helpers.plot_confusion_matrix(cm_KNN,\n",
    "                          labels, \n",
    "                          normalized=False, \n",
    "                          cmap=plt.cm.Blues,\n",
    "                          size=(10,7))\n"
   ]
  },
  {
   "cell_type": "code",
   "execution_count": 41,
   "metadata": {},
   "outputs": [
    {
     "name": "stdout",
     "output_type": "stream",
     "text": [
      "D:\\KISTI\\Project\\052020-Traffic-Sound\\Yi-Source-Code-3\\results\\acc_KNN\n",
      "  CLASS   ACCURACY\n",
      "0     1  92.531120\n",
      "1     2  95.430108\n",
      "2     3  93.862816\n",
      "3     4  92.084942\n",
      "4     5  94.164456\n",
      "5     6  95.255474\n"
     ]
    }
   ],
   "source": [
    "accuracies = helpers.acc_per_class(cm_KNN)\n",
    "result_acc = 'acc_KNN'\n",
    "result_path = os.path.join(results_path, result_acc)\n",
    "print(result_path)\n",
    "df=pd.DataFrame({\n",
    "    'CLASS': labels,\n",
    "    'ACCURACY': accuracies\n",
    "}).sort_values(by=\"CLASS\", ascending=True)\n",
    "\n",
    "print(df)\n",
    "\n",
    "df.to_csv(result_path + '.csv')"
   ]
  },
  {
   "cell_type": "code",
   "execution_count": 42,
   "metadata": {},
   "outputs": [
    {
     "name": "stdout",
     "output_type": "stream",
     "text": [
      "              precision    recall  f1-score   support\n",
      "\n",
      "           1       0.92      0.93      0.92       482\n",
      "           2       0.97      0.95      0.96       372\n",
      "           3       0.93      0.94      0.93       554\n",
      "           4       0.95      0.92      0.94       518\n",
      "           5       0.92      0.94      0.93       377\n",
      "           6       0.95      0.95      0.95       548\n",
      "\n",
      "   micro avg       0.94      0.94      0.94      2851\n",
      "   macro avg       0.63      0.63      0.63      2851\n",
      "weighted avg       0.94      0.94      0.94      2851\n",
      "\n",
      "Accuracy: 0.938267274640477\n"
     ]
    },
    {
     "name": "stderr",
     "output_type": "stream",
     "text": [
      "C:\\Users\\user\\Anaconda3\\envs\\tf_gpu\\lib\\site-packages\\sklearn\\metrics\\classification.py:1870: UserWarning: labels size, 9, does not match size of target_names, 6\n",
      "  .format(len(labels), len(target_names))\n",
      "C:\\Users\\user\\Anaconda3\\envs\\tf_gpu\\lib\\site-packages\\sklearn\\metrics\\classification.py:1437: UndefinedMetricWarning: Precision and F-score are ill-defined and being set to 0.0 in labels with no predicted samples.\n",
      "  'precision', 'predicted', average, warn_for)\n",
      "C:\\Users\\user\\Anaconda3\\envs\\tf_gpu\\lib\\site-packages\\sklearn\\metrics\\classification.py:1439: UndefinedMetricWarning: Recall and F-score are ill-defined and being set to 0.0 in labels with no true samples.\n",
      "  'recall', 'true', average, warn_for)\n"
     ]
    }
   ],
   "source": [
    "# Build classification report\n",
    "re = classification_report(sklearn_y_test, y_testKNN, labels=[1,2,3,4,5,6,7,8,9], target_names=labels) \n",
    "print(re)\n",
    "print(\"Accuracy: {0}\".format(accuracy_score(sklearn_y_test, y_testKNN)))"
   ]
  },
  {
   "cell_type": "markdown",
   "metadata": {},
   "source": [
    "#### 3.4.4  Xgboost"
   ]
  },
  {
   "cell_type": "code",
   "execution_count": 43,
   "metadata": {},
   "outputs": [
    {
     "name": "stderr",
     "output_type": "stream",
     "text": [
      "C:\\Users\\user\\Anaconda3\\envs\\tf_gpu\\lib\\site-packages\\sklearn\\model_selection\\_split.py:1978: FutureWarning: The default value of cv will change from 3 to 5 in version 0.22. Specify it explicitly to silence this warning.\n",
      "  warnings.warn(CV_WARNING, FutureWarning)\n"
     ]
    },
    {
     "name": "stdout",
     "output_type": "stream",
     "text": [
      "Training completed in time of XGB:  0:00:16.629534\n"
     ]
    }
   ],
   "source": [
    "from xgboost import XGBClassifier\n",
    "\n",
    "start_xgb = datetime.now()\n",
    "\n",
    "parameters = {'max_depth':[6], 'eta':[0.3], 'objective':['multi:softprob ']}\n",
    "\n",
    "xclf = XGBClassifier()\n",
    "xgclf = GridSearchCV(xclf, param_grid=parameters)\n",
    "xgclf.fit(exTrain, sklearn_y_train)\n",
    "\n",
    "time_xgb = datetime.now() - start_xgb\n",
    "print(\"Training completed in time of XGB: \", time_xgb)\n",
    "file1 = open(os.path.join(models_path, 'time_' + file_name + \".txt\"),\"a\")\n",
    "file1.write('Time XGB:' +  str(time_xgb))\n",
    "file1.write('\\n')\n",
    "file1.close()"
   ]
  },
  {
   "cell_type": "code",
   "execution_count": 44,
   "metadata": {},
   "outputs": [
    {
     "data": {
      "text/plain": [
       "XGBClassifier(base_score=0.5, booster='gbtree', colsample_bylevel=1,\n",
       "              colsample_bynode=1, colsample_bytree=1, eta=0.3, gamma=0,\n",
       "              gpu_id=-1, importance_type='gain', interaction_constraints='',\n",
       "              learning_rate=0.300000012, max_delta_step=0, max_depth=6,\n",
       "              min_child_weight=1, missing=nan, monotone_constraints='()',\n",
       "              n_estimators=100, n_jobs=0, num_parallel_tree=1,\n",
       "              objective='multi:softprob', random_state=0, reg_alpha=0,\n",
       "              reg_lambda=1, scale_pos_weight=None, subsample=1,\n",
       "              tree_method='exact', validate_parameters=1, verbosity=None)"
      ]
     },
     "execution_count": 44,
     "metadata": {},
     "output_type": "execute_result"
    }
   ],
   "source": [
    "xclf = xgclf.best_estimator_\n",
    "xclf.fit(exTrain, sklearn_y_train)\n"
   ]
  },
  {
   "cell_type": "code",
   "execution_count": 53,
   "metadata": {},
   "outputs": [
    {
     "data": {
      "image/png": "[encoded data removed]",
      "text/plain": [
       "<Figure size 720x504 with 2 Axes>"
      ]
     },
     "metadata": {
      "needs_background": "light"
     },
     "output_type": "display_data"
    }
   ],
   "source": [
    "y_testXGB = xclf.predict(exTest)\n",
    "\n",
    "cm_XGB = confusion_matrix(sklearn_y_test, y_testXGB)\n",
    "\n",
    "helpers.plot_confusion_matrix(cm_XGB,\n",
    "                          labels, \n",
    "                          normalized=False, \n",
    "                          cmap=plt.cm.Blues,\n",
    "                          size=(10,7))\n"
   ]
  },
  {
   "cell_type": "code",
   "execution_count": 46,
   "metadata": {},
   "outputs": [
    {
     "name": "stdout",
     "output_type": "stream",
     "text": [
      "D:\\KISTI\\Project\\052020-Traffic-Sound\\Yi-Source-Code-3\\results\\acc_XGB\n",
      "  CLASS   ACCURACY\n",
      "0     1  91.908714\n",
      "1     2  94.892473\n",
      "2     3  92.057762\n",
      "3     4  92.084942\n",
      "4     5  95.225464\n",
      "5     6  94.890511\n"
     ]
    }
   ],
   "source": [
    "accuracies = helpers.acc_per_class(cm_XGB)\n",
    "result_acc = 'acc_XGB'\n",
    "result_path = os.path.join(results_path, result_acc)\n",
    "print(result_path)\n",
    "df=pd.DataFrame({\n",
    "    'CLASS': labels,\n",
    "    'ACCURACY': accuracies\n",
    "}).sort_values(by=\"CLASS\", ascending=True)\n",
    "\n",
    "print(df)\n",
    "\n",
    "df.to_csv(result_path + '.csv')"
   ]
  },
  {
   "cell_type": "code",
   "execution_count": 47,
   "metadata": {},
   "outputs": [
    {
     "name": "stdout",
     "output_type": "stream",
     "text": [
      "              precision    recall  f1-score   support\n",
      "\n",
      "           1       0.91      0.92      0.92       482\n",
      "           2       0.96      0.95      0.96       372\n",
      "           3       0.93      0.92      0.92       554\n",
      "           4       0.94      0.92      0.93       518\n",
      "           5       0.92      0.95      0.93       377\n",
      "           6       0.94      0.95      0.95       548\n",
      "\n",
      "   micro avg       0.93      0.93      0.93      2851\n",
      "   macro avg       0.62      0.62      0.62      2851\n",
      "weighted avg       0.93      0.93      0.93      2851\n",
      "\n",
      "Accuracy: 0.933707471062785\n",
      "Precision: 0.9377847362078461\n",
      "Recall: 0.9372150122763943\n",
      "F1-Score: 0.9372692560021043\n"
     ]
    },
    {
     "name": "stderr",
     "output_type": "stream",
     "text": [
      "C:\\Users\\user\\Anaconda3\\envs\\tf_gpu\\lib\\site-packages\\sklearn\\metrics\\classification.py:1870: UserWarning: labels size, 9, does not match size of target_names, 6\n",
      "  .format(len(labels), len(target_names))\n",
      "C:\\Users\\user\\Anaconda3\\envs\\tf_gpu\\lib\\site-packages\\sklearn\\metrics\\classification.py:1437: UndefinedMetricWarning: Precision and F-score are ill-defined and being set to 0.0 in labels with no predicted samples.\n",
      "  'precision', 'predicted', average, warn_for)\n",
      "C:\\Users\\user\\Anaconda3\\envs\\tf_gpu\\lib\\site-packages\\sklearn\\metrics\\classification.py:1439: UndefinedMetricWarning: Recall and F-score are ill-defined and being set to 0.0 in labels with no true samples.\n",
      "  'recall', 'true', average, warn_for)\n"
     ]
    }
   ],
   "source": [
    "# Build classification report\n",
    "re = classification_report(sklearn_y_test, y_testXGB, labels=[1,2,3,4,5,6,7,8,9], target_names=labels) \n",
    "print(re)\n",
    "print(\"Accuracy: {0}\".format(accuracy_score(sklearn_y_test, y_testXGB)))\n",
    "print(\"Precision: {0}\".format(precision_score(y_trues, yhat_probs, average='weighted')))\n",
    "print(\"Recall: {0}\".format(recall_score(y_trues, yhat_probs, average='weighted')))\n",
    "print(\"F1-Score: {0}\".format(f1_score(y_trues, yhat_probs, average='weighted')))"
   ]
  },
  {
   "cell_type": "code",
   "execution_count": null,
   "metadata": {},
   "outputs": [],
   "source": []
  },
  {
   "cell_type": "code",
   "execution_count": null,
   "metadata": {},
   "outputs": [],
   "source": []
  },
  {
   "cell_type": "code",
   "execution_count": null,
   "metadata": {},
   "outputs": [],
   "source": []
  },
  {
   "cell_type": "code",
   "execution_count": null,
   "metadata": {},
   "outputs": [],
   "source": []
  }
 ],
 "metadata": {
  "kernelspec": {
   "display_name": "Python 3",
   "language": "python",
   "name": "python3"
  },
  "language_info": {
   "codemirror_mode": {
    "name": "ipython",
    "version": 3
   },
   "file_extension": ".py",
   "mimetype": "text/x-python",
   "name": "python",
   "nbconvert_exporter": "python",
   "pygments_lexer": "ipython3",
   "version": "3.7.5"
  }
 },
 "nbformat": 4,
 "nbformat_minor": 2
}
