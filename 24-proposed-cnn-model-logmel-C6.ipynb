{
 "cells": [
  {
   "cell_type": "markdown",
   "metadata": {
    "nbpresent": {
     "id": "bdb8f444-143c-49a8-948d-4b56e2cb457d"
    }
   },
   "source": [
    "# Proposed CNN Model for Road Sound Datasets - Log-Mel Spectrograms\n",
    "\n"
   ]
  },
  {
   "cell_type": "markdown",
   "metadata": {
    "nbpresent": {
     "id": "bb86170e-2226-491a-8aec-e01925008746"
    }
   },
   "source": [
    "#### * Load required libraries"
   ]
  },
  {
   "cell_type": "code",
   "execution_count": 1,
   "metadata": {
    "nbpresent": {
     "id": "8afd8752-1ca6-4fe1-b14d-b16615d0199b"
    }
   },
   "outputs": [
    {
     "name": "stderr",
     "output_type": "stream",
     "text": [
      "Using TensorFlow backend.\n"
     ]
    }
   ],
   "source": [
    "import sys\n",
    "import os\n",
    "import IPython\n",
    "import math\n",
    "import numpy as np\n",
    "import pandas as pd\n",
    "import pickle\n",
    "import matplotlib.pyplot as plt\n",
    "%matplotlib inline\n",
    "\n",
    "import random\n",
    "from datetime import datetime\n",
    "from include import helpers\n",
    "\n",
    "from keras import backend as keras_backend\n",
    "from keras.models import Sequential, load_model\n",
    "from keras.layers import Dense, Dropout, Flatten, LeakyReLU, ReLU, SpatialDropout2D, Activation, Conv2D \n",
    "from keras.layers import MaxPooling2D, BatchNormalization, GlobalAveragePooling2D\n",
    "from keras.optimizers import Adam\n",
    "from keras.utils import np_utils, to_categorical, plot_model\n",
    "from keras.callbacks import EarlyStopping, ModelCheckpoint, ReduceLROnPlateau\n",
    "from keras.regularizers import l2\n",
    "\n",
    "from sklearn.preprocessing import LabelEncoder\n",
    "from sklearn.model_selection import train_test_split\n",
    "from sklearn.metrics import classification_report, precision_recall_fscore_support, confusion_matrix, accuracy_score, precision_score, recall_score, f1_score  "
   ]
  },
  {
   "cell_type": "markdown",
   "metadata": {},
   "source": [
    "#### * Setup"
   ]
  },
  {
   "cell_type": "code",
   "execution_count": 2,
   "metadata": {
    "nbpresent": {
     "id": "d0c78fb3-3f82-445b-9e39-7bb9c9f1edd3"
    }
   },
   "outputs": [],
   "source": [
    "# Set your path to the original dataset\n",
    "us8k_path = os.path.abspath('../Yi-Source-Code-3/input/vds_sound')\n",
    "metadata_path = os.path.join(us8k_path, 'metadata/sound_vds15_vds16_14k.csv')\n",
    "audio_path = os.path.join(us8k_path, 'audio')\n"
   ]
  },
  {
   "cell_type": "code",
   "execution_count": 3,
   "metadata": {
    "nbpresent": {
     "id": "d0c78fb3-3f82-445b-9e39-7bb9c9f1edd3"
    }
   },
   "outputs": [],
   "source": [
    "models_path = os.path.abspath('./models')\n",
    "data_path = os.path.abspath('./data')\n",
    "results_path = os.path.abspath('./results')\n",
    "\n",
    "# Ensure \"channel last\" data format on Keras\n",
    "keras_backend.set_image_data_format('channels_last')"
   ]
  },
  {
   "cell_type": "code",
   "execution_count": 4,
   "metadata": {},
   "outputs": [],
   "source": [
    "# Required for the RTX GPU -- uncomment if using GTX or CPU\n",
    "import keras.backend as K\n",
    "import tensorflow as tf\n",
    "config = tf.ConfigProto()\n",
    "config.gpu_options.allow_growth = True\n",
    "K.set_session(tf.Session(config=config))"
   ]
  },
  {
   "cell_type": "code",
   "execution_count": 5,
   "metadata": {
    "nbpresent": {
     "id": "d0c78fb3-3f82-445b-9e39-7bb9c9f1edd3"
    }
   },
   "outputs": [],
   "source": [
    "# Define a labels array for future use\n",
    "#labels = ['9 am', '13 pm', '19 pm']\n",
    "#labels = ['morning', 'afternoon','evening']\n",
    "#labels = ['down_1', 'down_2','down_3', 'up_4','up_5','up_6']\n",
    "labels = ['1', '2','3', '4','5','6']\n",
    "\n",
    "\n",
    "num_epochs = 200\n",
    "num_batch_size = 64\n",
    "file_name = 'conv5_gap_train_C6_MFCC_40'\n",
    "model_path = os.path.join(models_path, file_name + '.hdf5')"
   ]
  },
  {
   "cell_type": "markdown",
   "metadata": {
    "nbpresent": {
     "id": "a7b58aa0-2b3c-4854-a099-31d117ba74e1"
    }
   },
   "source": [
    "#### * Load data\n",
    "\n",
    "Data is an NumPy float32 array of shape (8732, 40, 174), 8732 samples with coefficients from Mel Spectrogram of 174 frames and 40 MEL bands. Each feature was scaled between -1 and 1 and zero-centered during extraction.<br/>\n",
    "<br/>"
   ]
  },
  {
   "cell_type": "code",
   "execution_count": 6,
   "metadata": {
    "nbpresent": {
     "id": "87d3ebd1-0d75-4ea4-8f12-9f891a72d3e2"
    },
    "scrolled": true
   },
   "outputs": [
    {
     "name": "stdout",
     "output_type": "stream",
     "text": [
      "(14255, 40, 173) (14255,)\n"
     ]
    }
   ],
   "source": [
    "# Pre-processed MFCC coefficients\n",
    "X = np.load(\"./data/X_C6_mels_40_14K.npy\")\n",
    "y = np.load(\"./data/y_C6_mels_40_14k.npy\")\n",
    "\n",
    "print(X.shape, y.shape)\n",
    "# Metadata\n",
    "metadata = pd.read_csv(metadata_path)"
   ]
  },
  {
   "cell_type": "markdown",
   "metadata": {
    "nbpresent": {
     "id": "f8043a00-6bfa-41ca-807f-a49d7430b65a"
    }
   },
   "source": [
    "### 1. Data preparation: features + metadata"
   ]
  },
  {
   "cell_type": "markdown",
   "metadata": {},
   "source": [
    "#### 1.1 Train / Test split\n",
    "Note that we are using the same index order for both the Mel Spectrogram arrays and the metadata to keep track of the origin of each feature.<br/>\n",
    "<br/>"
   ]
  },
  {
   "cell_type": "code",
   "execution_count": 7,
   "metadata": {},
   "outputs": [
    {
     "name": "stdout",
     "output_type": "stream",
     "text": [
      "Test split: 2851 \t\t Train split: 11404\n",
      "X test shape: (2851, 40, 173) \t X train shape: (11404, 40, 173)\n",
      "y test shape: (2851,) \t\t y train shape: (11404,)\n"
     ]
    }
   ],
   "source": [
    "indexes = []\n",
    "total = len(metadata)\n",
    "indexes = list(range(0, total))\n",
    "\n",
    "# Randomize indexes\n",
    "random.shuffle(indexes)\n",
    "\n",
    "# Divide the indexes into Train and Test\n",
    "test_split_pct = 20\n",
    "split_offset = math.floor(test_split_pct * total / 100)\n",
    "\n",
    "# Split the metadata\n",
    "test_split_idx = indexes[0:split_offset]\n",
    "train_split_idx = indexes[split_offset:total]\n",
    "\n",
    "\n",
    "# Split the features with the same indexes\n",
    "X_test = np.take(X, test_split_idx, axis=0)\n",
    "y_test = np.take(y, test_split_idx, axis=0)\n",
    "X_train = np.take(X, train_split_idx, axis=0)\n",
    "y_train = np.take(y, train_split_idx, axis=0)\n",
    "\n",
    "# Also split metadata\n",
    "test_meta = metadata.iloc[test_split_idx]\n",
    "train_meta = metadata.iloc[train_split_idx]\n",
    "\n",
    "# Print status\n",
    "print(\"Test split: {} \\t\\t Train split: {}\".format(len(test_meta), len(train_meta)))\n",
    "print(\"X test shape: {} \\t X train shape: {}\".format(X_test.shape, X_train.shape))\n",
    "print(\"y test shape: {} \\t\\t y train shape: {}\".format(y_test.shape, y_train.shape))"
   ]
  },
  {
   "cell_type": "markdown",
   "metadata": {},
   "source": [
    "#### 1.2 One hot encode labels"
   ]
  },
  {
   "cell_type": "code",
   "execution_count": 8,
   "metadata": {
    "nbpresent": {
     "id": "65b227e7-2fe5-4582-bd79-c9e9b1b85d4e"
    }
   },
   "outputs": [],
   "source": [
    "le = LabelEncoder()\n",
    "y_test_encoded = to_categorical(le.fit_transform(y_test))\n",
    "y_train_encoded = to_categorical(le.fit_transform(y_train))"
   ]
  },
  {
   "cell_type": "markdown",
   "metadata": {
    "nbpresent": {
     "id": "720605ff-4689-47dc-b142-023ea206a50c"
    }
   },
   "source": [
    "#### 1.3 Reshape data"
   ]
  },
  {
   "cell_type": "code",
   "execution_count": 9,
   "metadata": {
    "nbpresent": {
     "id": "d742676a-5a23-4fc8-856a-ad5505238d45"
    }
   },
   "outputs": [
    {
     "name": "stdout",
     "output_type": "stream",
     "text": [
      "number of labels= 6\n"
     ]
    }
   ],
   "source": [
    "# How data should be structured\n",
    "num_rows = 40\n",
    "num_columns = 173 \n",
    "num_channels = 1\n",
    "\n",
    "# Reshape to fit the network input (channel last)\n",
    "X_train = X_train.reshape(X_train.shape[0], num_rows, num_columns, num_channels)\n",
    "X_test = X_test.reshape(X_test.shape[0], num_rows, num_columns, num_channels)\n",
    "\n",
    "# Total number of labels to predict (equal to the network output nodes)\n",
    "num_labels = y_train_encoded.shape[1]\n",
    "print('number of labels=',num_labels)"
   ]
  },
  {
   "cell_type": "markdown",
   "metadata": {},
   "source": [
    "## 2. Proposed CNN network\n",
    "\n"
   ]
  },
  {
   "cell_type": "markdown",
   "metadata": {
    "nbpresent": {
     "id": "23ae43f0-1d59-44ab-818d-54faeecf4f1c"
    }
   },
   "source": [
    "#### 2.1 Model definition\n",
    "\n"
   ]
  },
  {
   "cell_type": "code",
   "execution_count": 10,
   "metadata": {},
   "outputs": [
    {
     "name": "stdout",
     "output_type": "stream",
     "text": [
      "WARNING:tensorflow:From C:\\Users\\user\\Anaconda3\\envs\\tf_gpu\\lib\\site-packages\\tensorflow_core\\python\\ops\\resource_variable_ops.py:1630: calling BaseResourceVariable.__init__ (from tensorflow.python.ops.resource_variable_ops) with constraint is deprecated and will be removed in a future version.\n",
      "Instructions for updating:\n",
      "If using Keras pass *_constraint arguments to layers.\n",
      "WARNING:tensorflow:From C:\\Users\\user\\Anaconda3\\envs\\tf_gpu\\lib\\site-packages\\keras\\backend\\tensorflow_backend.py:4070: The name tf.nn.max_pool is deprecated. Please use tf.nn.max_pool2d instead.\n",
      "\n"
     ]
    }
   ],
   "source": [
    "def create_model(): \n",
    "\n",
    "    model = Sequential()\n",
    "    #conv 1 (40x173)\n",
    "    model.add(Conv2D(filters=32, kernel_size=(3, 3), padding='same',\n",
    "    input_shape=(num_rows, num_columns, num_channels)))    \n",
    "    model.add(ReLU())    \n",
    "    model.add(MaxPooling2D(pool_size=(2, 2)))\n",
    "    model.add(Dropout(0.4)) \n",
    "\n",
    "    \n",
    "    #conv 2 (20x86)\n",
    "    model.add(Conv2D(filters=64, kernel_size=(3, 3),  padding='same')) \n",
    "    model.add(ReLU())   \n",
    "    model.add(MaxPooling2D(pool_size=(2, 2)))\n",
    "    model.add(Dropout(0.4)) \n",
    " \n",
    "\n",
    "    #conv 3 (10x43)\n",
    "    model.add(Conv2D(filters=128, kernel_size=(3, 3),  padding='same')) \n",
    "    model.add(ReLU())   \n",
    "    model.add(MaxPooling2D(pool_size=(2, 2)))\n",
    "    model.add(Dropout(0.4)) \n",
    "\n",
    " \n",
    "    #conv 4 (5x21)\n",
    "    model.add(Conv2D(filters=256, kernel_size=(3,3),  padding='same'))  \n",
    "    model.add(ReLU())   \n",
    "    model.add(MaxPooling2D(pool_size=(2, 2)))\n",
    "    model.add(Dropout(0.4)) \n",
    " \n",
    "    #conv 5 (2x10)\n",
    "    model.add(Conv2D(filters=512, kernel_size=(3,3),  padding='same'))  \n",
    "    model.add(ReLU()) \n",
    "    model.add(Dropout(0.4)) \n",
    "    \n",
    "    #conv 6 (1x5)\n",
    "    #model.add(MaxPooling2D(pool_size=(2, 2)))\n",
    "    #model.add(Flatten())\n",
    "    model.add(GlobalAveragePooling2D())\n",
    "    model.add(Dense(256, activation='relu'))\n",
    "    model.add(Dropout(0.5)) \n",
    "    model.add(Dense(num_labels, activation='softmax'))\n",
    "    \n",
    "    return model\n",
    "\n",
    "model = create_model() \n"
   ]
  },
  {
   "cell_type": "code",
   "execution_count": 11,
   "metadata": {
    "nbpresent": {
     "id": "b56bca3e-3fd0-4033-9d13-20db795d02f0"
    },
    "scrolled": false
   },
   "outputs": [
    {
     "name": "stdout",
     "output_type": "stream",
     "text": [
      "Model: \"sequential_1\"\n",
      "_________________________________________________________________\n",
      "Layer (type)                 Output Shape              Param #   \n",
      "=================================================================\n",
      "conv2d_1 (Conv2D)            (None, 40, 173, 32)       320       \n",
      "_________________________________________________________________\n",
      "re_lu_1 (ReLU)               (None, 40, 173, 32)       0         \n",
      "_________________________________________________________________\n",
      "max_pooling2d_1 (MaxPooling2 (None, 20, 86, 32)        0         \n",
      "_________________________________________________________________\n",
      "dropout_1 (Dropout)          (None, 20, 86, 32)        0         \n",
      "_________________________________________________________________\n",
      "conv2d_2 (Conv2D)            (None, 20, 86, 64)        18496     \n",
      "_________________________________________________________________\n",
      "re_lu_2 (ReLU)               (None, 20, 86, 64)        0         \n",
      "_________________________________________________________________\n",
      "max_pooling2d_2 (MaxPooling2 (None, 10, 43, 64)        0         \n",
      "_________________________________________________________________\n",
      "dropout_2 (Dropout)          (None, 10, 43, 64)        0         \n",
      "_________________________________________________________________\n",
      "conv2d_3 (Conv2D)            (None, 10, 43, 128)       73856     \n",
      "_________________________________________________________________\n",
      "re_lu_3 (ReLU)               (None, 10, 43, 128)       0         \n",
      "_________________________________________________________________\n",
      "max_pooling2d_3 (MaxPooling2 (None, 5, 21, 128)        0         \n",
      "_________________________________________________________________\n",
      "dropout_3 (Dropout)          (None, 5, 21, 128)        0         \n",
      "_________________________________________________________________\n",
      "conv2d_4 (Conv2D)            (None, 5, 21, 256)        295168    \n",
      "_________________________________________________________________\n",
      "re_lu_4 (ReLU)               (None, 5, 21, 256)        0         \n",
      "_________________________________________________________________\n",
      "max_pooling2d_4 (MaxPooling2 (None, 2, 10, 256)        0         \n",
      "_________________________________________________________________\n",
      "dropout_4 (Dropout)          (None, 2, 10, 256)        0         \n",
      "_________________________________________________________________\n",
      "conv2d_5 (Conv2D)            (None, 2, 10, 512)        1180160   \n",
      "_________________________________________________________________\n",
      "re_lu_5 (ReLU)               (None, 2, 10, 512)        0         \n",
      "_________________________________________________________________\n",
      "dropout_5 (Dropout)          (None, 2, 10, 512)        0         \n",
      "_________________________________________________________________\n",
      "global_average_pooling2d_1 ( (None, 512)               0         \n",
      "_________________________________________________________________\n",
      "dense_1 (Dense)              (None, 256)               131328    \n",
      "_________________________________________________________________\n",
      "dropout_6 (Dropout)          (None, 256)               0         \n",
      "_________________________________________________________________\n",
      "dense_2 (Dense)              (None, 6)                 1542      \n",
      "=================================================================\n",
      "Total params: 1,700,870\n",
      "Trainable params: 1,700,870\n",
      "Non-trainable params: 0\n",
      "_________________________________________________________________\n"
     ]
    }
   ],
   "source": [
    "adam = Adam(lr=2e-4, beta_1=0.9, beta_2=0.999,epsilon=1e-08, decay=0.0)\n",
    "model.compile(\n",
    "    loss='categorical_crossentropy', \n",
    "    metrics=['accuracy'], \n",
    "    optimizer=adam)\n",
    "\n",
    "# Display model architecture summary \n",
    "model.summary()"
   ]
  },
  {
   "cell_type": "code",
   "execution_count": 12,
   "metadata": {
    "scrolled": false,
    "tags": [
     "outputPrepend",
     "outputPrepend",
     "outputPrepend",
     "outputPrepend",
     "outputPrepend",
     "outputPrepend",
     "outputPrepend",
     "outputPrepend",
     "outputPrepend",
     "outputPrepend",
     "outputPrepend",
     "outputPrepend",
     "outputPrepend",
     "outputPrepend",
     "outputPrepend",
     "outputPrepend",
     "outputPrepend",
     "outputPrepend",
     "outputPrepend",
     "outputPrepend",
     "outputPrepend",
     "outputPrepend",
     "outputPrepend",
     "outputPrepend",
     "outputPrepend",
     "outputPrepend",
     "outputPrepend",
     "outputPrepend",
     "outputPrepend",
     "outputPrepend",
     "outputPrepend",
     "outputPrepend",
     "outputPrepend",
     "outputPrepend",
     "outputPrepend",
     "outputPrepend",
     "outputPrepend",
     "outputPrepend",
     "outputPrepend",
     "outputPrepend",
     "outputPrepend",
     "outputPrepend",
     "outputPrepend",
     "outputPrepend",
     "outputPrepend",
     "outputPrepend",
     "outputPrepend",
     "outputPrepend",
     "outputPrepend"
    ]
   },
   "outputs": [
    {
     "name": "stdout",
     "output_type": "stream",
     "text": [
      "WARNING:tensorflow:From C:\\Users\\user\\Anaconda3\\envs\\tf_gpu\\lib\\site-packages\\keras\\backend\\tensorflow_backend.py:422: The name tf.global_variables is deprecated. Please use tf.compat.v1.global_variables instead.\n",
      "\n",
      "Train on 10263 samples, validate on 1141 samples\n",
      "Epoch 1/200\n",
      "10263/10263 [==============================] - 5s 523us/step - loss: 1.7518 - accuracy: 0.2161 - val_loss: 1.7463 - val_accuracy: 0.2419\n",
      "\n",
      "Epoch 00001: val_loss improved from inf to 1.74628, saving model to D:\\KISTI\\Project\\052020-Traffic-Sound\\Yi-Source-Code-3\\models\\conv5_gap_train_C6_MFCC_40.hdf5\n",
      "Epoch 2/200\n",
      "10263/10263 [==============================] - 2s 217us/step - loss: 1.7048 - accuracy: 0.2472 - val_loss: 1.7035 - val_accuracy: 0.2980\n",
      "\n",
      "Epoch 00002: val_loss improved from 1.74628 to 1.70354, saving model to D:\\KISTI\\Project\\052020-Traffic-Sound\\Yi-Source-Code-3\\models\\conv5_gap_train_C6_MFCC_40.hdf5\n",
      "Epoch 3/200\n",
      "10263/10263 [==============================] - 2s 217us/step - loss: 1.6811 - accuracy: 0.2583 - val_loss: 1.6703 - val_accuracy: 0.3287\n",
      "\n",
      "Epoch 00003: val_loss improved from 1.70354 to 1.67025, saving model to D:\\KISTI\\Project\\052020-Traffic-Sound\\Yi-Source-Code-3\\models\\conv5_gap_train_C6_MFCC_40.hdf5\n",
      "Epoch 4/200\n",
      "10263/10263 [==============================] - 2s 217us/step - loss: 1.5643 - accuracy: 0.3296 - val_loss: 1.4782 - val_accuracy: 0.3926\n",
      "\n",
      "Epoch 00004: val_loss improved from 1.67025 to 1.47820, saving model to D:\\KISTI\\Project\\052020-Traffic-Sound\\Yi-Source-Code-3\\models\\conv5_gap_train_C6_MFCC_40.hdf5\n",
      "Epoch 5/200\n",
      "10263/10263 [==============================] - 2s 217us/step - loss: 1.3674 - accuracy: 0.4423 - val_loss: 1.2771 - val_accuracy: 0.5329\n",
      "\n",
      "Epoch 00005: val_loss improved from 1.47820 to 1.27707, saving model to D:\\KISTI\\Project\\052020-Traffic-Sound\\Yi-Source-Code-3\\models\\conv5_gap_train_C6_MFCC_40.hdf5\n",
      "Epoch 6/200\n",
      "10263/10263 [==============================] - 2s 217us/step - loss: 1.2442 - accuracy: 0.5076 - val_loss: 1.1316 - val_accuracy: 0.5811\n",
      "\n",
      "Epoch 00006: val_loss improved from 1.27707 to 1.13160, saving model to D:\\KISTI\\Project\\052020-Traffic-Sound\\Yi-Source-Code-3\\models\\conv5_gap_train_C6_MFCC_40.hdf5\n",
      "Epoch 7/200\n",
      "10263/10263 [==============================] - 2s 218us/step - loss: 1.1064 - accuracy: 0.5704 - val_loss: 1.0080 - val_accuracy: 0.6310\n",
      "\n",
      "Epoch 00007: val_loss improved from 1.13160 to 1.00795, saving model to D:\\KISTI\\Project\\052020-Traffic-Sound\\Yi-Source-Code-3\\models\\conv5_gap_train_C6_MFCC_40.hdf5\n",
      "Epoch 8/200\n",
      "10263/10263 [==============================] - 2s 218us/step - loss: 0.9918 - accuracy: 0.6287 - val_loss: 0.8681 - val_accuracy: 0.7046\n",
      "\n",
      "Epoch 00008: val_loss improved from 1.00795 to 0.86806, saving model to D:\\KISTI\\Project\\052020-Traffic-Sound\\Yi-Source-Code-3\\models\\conv5_gap_train_C6_MFCC_40.hdf5\n",
      "Epoch 9/200\n",
      "10263/10263 [==============================] - 2s 217us/step - loss: 0.9176 - accuracy: 0.6652 - val_loss: 0.9220 - val_accuracy: 0.6468\n",
      "\n",
      "Epoch 00009: val_loss did not improve from 0.86806\n",
      "Epoch 10/200\n",
      "10263/10263 [==============================] - 2s 217us/step - loss: 0.8487 - accuracy: 0.6919 - val_loss: 0.8301 - val_accuracy: 0.7003\n",
      "\n",
      "Epoch 00010: val_loss improved from 0.86806 to 0.83009, saving model to D:\\KISTI\\Project\\052020-Traffic-Sound\\Yi-Source-Code-3\\models\\conv5_gap_train_C6_MFCC_40.hdf5\n",
      "Epoch 11/200\n",
      "10263/10263 [==============================] - 2s 216us/step - loss: 0.7942 - accuracy: 0.7130 - val_loss: 0.7502 - val_accuracy: 0.7441\n",
      "\n",
      "Epoch 00011: val_loss improved from 0.83009 to 0.75019, saving model to D:\\KISTI\\Project\\052020-Traffic-Sound\\Yi-Source-Code-3\\models\\conv5_gap_train_C6_MFCC_40.hdf5\n",
      "Epoch 12/200\n",
      "10263/10263 [==============================] - 2s 217us/step - loss: 0.7451 - accuracy: 0.7359 - val_loss: 0.6705 - val_accuracy: 0.7713\n",
      "\n",
      "Epoch 00012: val_loss improved from 0.75019 to 0.67050, saving model to D:\\KISTI\\Project\\052020-Traffic-Sound\\Yi-Source-Code-3\\models\\conv5_gap_train_C6_MFCC_40.hdf5\n",
      "Epoch 13/200\n",
      "10263/10263 [==============================] - 2s 217us/step - loss: 0.7162 - accuracy: 0.7424 - val_loss: 0.6928 - val_accuracy: 0.7546\n",
      "\n",
      "Epoch 00013: val_loss did not improve from 0.67050\n",
      "Epoch 14/200\n",
      "10263/10263 [==============================] - 2s 218us/step - loss: 0.6853 - accuracy: 0.7529 - val_loss: 0.6072 - val_accuracy: 0.7870\n",
      "\n",
      "Epoch 00014: val_loss improved from 0.67050 to 0.60720, saving model to D:\\KISTI\\Project\\052020-Traffic-Sound\\Yi-Source-Code-3\\models\\conv5_gap_train_C6_MFCC_40.hdf5\n",
      "Epoch 15/200\n",
      "10263/10263 [==============================] - 2s 217us/step - loss: 0.6585 - accuracy: 0.7601 - val_loss: 0.5631 - val_accuracy: 0.8124\n",
      "\n",
      "Epoch 00015: val_loss improved from 0.60720 to 0.56312, saving model to D:\\KISTI\\Project\\052020-Traffic-Sound\\Yi-Source-Code-3\\models\\conv5_gap_train_C6_MFCC_40.hdf5\n",
      "Epoch 16/200\n",
      "10263/10263 [==============================] - 2s 217us/step - loss: 0.6349 - accuracy: 0.7676 - val_loss: 0.5680 - val_accuracy: 0.7975\n",
      "\n",
      "Epoch 00016: val_loss did not improve from 0.56312\n",
      "Epoch 17/200\n",
      "10263/10263 [==============================] - 2s 217us/step - loss: 0.6264 - accuracy: 0.7740 - val_loss: 0.5147 - val_accuracy: 0.8273\n",
      "\n",
      "Epoch 00017: val_loss improved from 0.56312 to 0.51468, saving model to D:\\KISTI\\Project\\052020-Traffic-Sound\\Yi-Source-Code-3\\models\\conv5_gap_train_C6_MFCC_40.hdf5\n",
      "Epoch 18/200\n",
      "10263/10263 [==============================] - 2s 217us/step - loss: 0.6037 - accuracy: 0.7863 - val_loss: 0.5202 - val_accuracy: 0.8247\n",
      "\n",
      "Epoch 00018: val_loss did not improve from 0.51468\n",
      "Epoch 19/200\n",
      "10263/10263 [==============================] - 2s 217us/step - loss: 0.5803 - accuracy: 0.7941 - val_loss: 0.4975 - val_accuracy: 0.8387\n",
      "\n",
      "Epoch 00019: val_loss improved from 0.51468 to 0.49749, saving model to D:\\KISTI\\Project\\052020-Traffic-Sound\\Yi-Source-Code-3\\models\\conv5_gap_train_C6_MFCC_40.hdf5\n",
      "Epoch 20/200\n",
      "10263/10263 [==============================] - 2s 218us/step - loss: 0.5638 - accuracy: 0.8013 - val_loss: 0.4876 - val_accuracy: 0.8317\n",
      "\n",
      "Epoch 00020: val_loss improved from 0.49749 to 0.48764, saving model to D:\\KISTI\\Project\\052020-Traffic-Sound\\Yi-Source-Code-3\\models\\conv5_gap_train_C6_MFCC_40.hdf5\n",
      "Epoch 21/200\n",
      "10263/10263 [==============================] - 2s 222us/step - loss: 0.5407 - accuracy: 0.8104 - val_loss: 0.4921 - val_accuracy: 0.8265\n",
      "\n",
      "Epoch 00021: val_loss did not improve from 0.48764\n",
      "Epoch 22/200\n",
      "10263/10263 [==============================] - 2s 217us/step - loss: 0.5425 - accuracy: 0.8085 - val_loss: 0.4439 - val_accuracy: 0.8554\n",
      "\n",
      "Epoch 00022: val_loss improved from 0.48764 to 0.44387, saving model to D:\\KISTI\\Project\\052020-Traffic-Sound\\Yi-Source-Code-3\\models\\conv5_gap_train_C6_MFCC_40.hdf5\n",
      "Epoch 23/200\n",
      "10263/10263 [==============================] - 2s 217us/step - loss: 0.5078 - accuracy: 0.8185 - val_loss: 0.4461 - val_accuracy: 0.8449\n",
      "\n",
      "Epoch 00023: val_loss did not improve from 0.44387\n",
      "Epoch 24/200\n",
      "10263/10263 [==============================] - 2s 217us/step - loss: 0.5080 - accuracy: 0.8177 - val_loss: 0.4253 - val_accuracy: 0.8571\n",
      "\n",
      "Epoch 00024: val_loss improved from 0.44387 to 0.42529, saving model to D:\\KISTI\\Project\\052020-Traffic-Sound\\Yi-Source-Code-3\\models\\conv5_gap_train_C6_MFCC_40.hdf5\n",
      "Epoch 25/200\n",
      "10263/10263 [==============================] - 2s 217us/step - loss: 0.4929 - accuracy: 0.8248 - val_loss: 0.4694 - val_accuracy: 0.8326\n",
      "\n",
      "Epoch 00025: val_loss did not improve from 0.42529\n",
      "Epoch 26/200\n",
      "10263/10263 [==============================] - 2s 217us/step - loss: 0.4795 - accuracy: 0.8294 - val_loss: 0.3974 - val_accuracy: 0.8659\n",
      "\n",
      "Epoch 00026: val_loss improved from 0.42529 to 0.39735, saving model to D:\\KISTI\\Project\\052020-Traffic-Sound\\Yi-Source-Code-3\\models\\conv5_gap_train_C6_MFCC_40.hdf5\n",
      "Epoch 27/200\n",
      "10263/10263 [==============================] - 2s 217us/step - loss: 0.4691 - accuracy: 0.8350 - val_loss: 0.4143 - val_accuracy: 0.8563\n",
      "\n",
      "Epoch 00027: val_loss did not improve from 0.39735\n",
      "Epoch 28/200\n",
      "10263/10263 [==============================] - 2s 217us/step - loss: 0.4519 - accuracy: 0.8372 - val_loss: 0.3885 - val_accuracy: 0.8720\n",
      "\n",
      "Epoch 00028: val_loss improved from 0.39735 to 0.38846, saving model to D:\\KISTI\\Project\\052020-Traffic-Sound\\Yi-Source-Code-3\\models\\conv5_gap_train_C6_MFCC_40.hdf5\n",
      "Epoch 29/200\n"
     ]
    },
    {
     "name": "stdout",
     "output_type": "stream",
     "text": [
      "10263/10263 [==============================] - 2s 217us/step - loss: 0.4535 - accuracy: 0.8416 - val_loss: 0.3832 - val_accuracy: 0.8703\n",
      "\n",
      "Epoch 00029: val_loss improved from 0.38846 to 0.38320, saving model to D:\\KISTI\\Project\\052020-Traffic-Sound\\Yi-Source-Code-3\\models\\conv5_gap_train_C6_MFCC_40.hdf5\n",
      "Epoch 30/200\n",
      "10263/10263 [==============================] - 2s 217us/step - loss: 0.4423 - accuracy: 0.8423 - val_loss: 0.4660 - val_accuracy: 0.8212\n",
      "\n",
      "Epoch 00030: val_loss did not improve from 0.38320\n",
      "Epoch 31/200\n",
      "10263/10263 [==============================] - 2s 217us/step - loss: 0.4319 - accuracy: 0.8482 - val_loss: 0.3826 - val_accuracy: 0.8703\n",
      "\n",
      "Epoch 00031: val_loss improved from 0.38320 to 0.38265, saving model to D:\\KISTI\\Project\\052020-Traffic-Sound\\Yi-Source-Code-3\\models\\conv5_gap_train_C6_MFCC_40.hdf5\n",
      "Epoch 32/200\n",
      "10263/10263 [==============================] - 2s 217us/step - loss: 0.4286 - accuracy: 0.8513 - val_loss: 0.3758 - val_accuracy: 0.8703\n",
      "\n",
      "Epoch 00032: val_loss improved from 0.38265 to 0.37577, saving model to D:\\KISTI\\Project\\052020-Traffic-Sound\\Yi-Source-Code-3\\models\\conv5_gap_train_C6_MFCC_40.hdf5\n",
      "Epoch 33/200\n",
      "10263/10263 [==============================] - 2s 216us/step - loss: 0.4161 - accuracy: 0.8521 - val_loss: 0.3889 - val_accuracy: 0.8694\n",
      "\n",
      "Epoch 00033: val_loss did not improve from 0.37577\n",
      "Epoch 34/200\n",
      "10263/10263 [==============================] - 2s 217us/step - loss: 0.4089 - accuracy: 0.8552 - val_loss: 0.3868 - val_accuracy: 0.8659\n",
      "\n",
      "Epoch 00034: val_loss did not improve from 0.37577\n",
      "Epoch 35/200\n",
      "10263/10263 [==============================] - 2s 219us/step - loss: 0.4088 - accuracy: 0.8560 - val_loss: 0.3664 - val_accuracy: 0.8791\n",
      "\n",
      "Epoch 00035: val_loss improved from 0.37577 to 0.36636, saving model to D:\\KISTI\\Project\\052020-Traffic-Sound\\Yi-Source-Code-3\\models\\conv5_gap_train_C6_MFCC_40.hdf5\n",
      "Epoch 36/200\n",
      "10263/10263 [==============================] - 2s 217us/step - loss: 0.3970 - accuracy: 0.8622 - val_loss: 0.3503 - val_accuracy: 0.8843\n",
      "\n",
      "Epoch 00036: val_loss improved from 0.36636 to 0.35030, saving model to D:\\KISTI\\Project\\052020-Traffic-Sound\\Yi-Source-Code-3\\models\\conv5_gap_train_C6_MFCC_40.hdf5\n",
      "Epoch 37/200\n",
      "10263/10263 [==============================] - 2s 217us/step - loss: 0.3908 - accuracy: 0.8637 - val_loss: 0.3598 - val_accuracy: 0.8677\n",
      "\n",
      "Epoch 00037: val_loss did not improve from 0.35030\n",
      "Epoch 38/200\n",
      "10263/10263 [==============================] - 2s 216us/step - loss: 0.3812 - accuracy: 0.8656 - val_loss: 0.3695 - val_accuracy: 0.8729\n",
      "\n",
      "Epoch 00038: val_loss did not improve from 0.35030\n",
      "Epoch 39/200\n",
      "10263/10263 [==============================] - 2s 217us/step - loss: 0.3832 - accuracy: 0.8646 - val_loss: 0.3555 - val_accuracy: 0.8791\n",
      "\n",
      "Epoch 00039: val_loss did not improve from 0.35030\n",
      "Epoch 40/200\n",
      "10263/10263 [==============================] - 2s 217us/step - loss: 0.3734 - accuracy: 0.8699 - val_loss: 0.3430 - val_accuracy: 0.8861\n",
      "\n",
      "Epoch 00040: val_loss improved from 0.35030 to 0.34300, saving model to D:\\KISTI\\Project\\052020-Traffic-Sound\\Yi-Source-Code-3\\models\\conv5_gap_train_C6_MFCC_40.hdf5\n",
      "Epoch 41/200\n",
      "10263/10263 [==============================] - 2s 218us/step - loss: 0.3606 - accuracy: 0.8722 - val_loss: 0.3308 - val_accuracy: 0.8817\n",
      "\n",
      "Epoch 00041: val_loss improved from 0.34300 to 0.33076, saving model to D:\\KISTI\\Project\\052020-Traffic-Sound\\Yi-Source-Code-3\\models\\conv5_gap_train_C6_MFCC_40.hdf5\n",
      "Epoch 42/200\n",
      "10263/10263 [==============================] - 2s 217us/step - loss: 0.3595 - accuracy: 0.8719 - val_loss: 0.3249 - val_accuracy: 0.8896\n",
      "\n",
      "Epoch 00042: val_loss improved from 0.33076 to 0.32493, saving model to D:\\KISTI\\Project\\052020-Traffic-Sound\\Yi-Source-Code-3\\models\\conv5_gap_train_C6_MFCC_40.hdf5\n",
      "Epoch 43/200\n",
      "10263/10263 [==============================] - 2s 217us/step - loss: 0.3533 - accuracy: 0.8766 - val_loss: 0.3282 - val_accuracy: 0.8948\n",
      "\n",
      "Epoch 00043: val_loss did not improve from 0.32493\n",
      "Epoch 44/200\n",
      "10263/10263 [==============================] - 2s 217us/step - loss: 0.3362 - accuracy: 0.8780 - val_loss: 0.3745 - val_accuracy: 0.8642\n",
      "\n",
      "Epoch 00044: val_loss did not improve from 0.32493\n",
      "Epoch 45/200\n",
      "10263/10263 [==============================] - 2s 218us/step - loss: 0.3378 - accuracy: 0.8838 - val_loss: 0.3059 - val_accuracy: 0.8983\n",
      "\n",
      "Epoch 00045: val_loss improved from 0.32493 to 0.30586, saving model to D:\\KISTI\\Project\\052020-Traffic-Sound\\Yi-Source-Code-3\\models\\conv5_gap_train_C6_MFCC_40.hdf5\n",
      "Epoch 46/200\n",
      "10263/10263 [==============================] - 2s 218us/step - loss: 0.3279 - accuracy: 0.8805 - val_loss: 0.3154 - val_accuracy: 0.8913\n",
      "\n",
      "Epoch 00046: val_loss did not improve from 0.30586\n",
      "Epoch 47/200\n",
      "10263/10263 [==============================] - 2s 218us/step - loss: 0.3237 - accuracy: 0.8867 - val_loss: 0.3279 - val_accuracy: 0.8869\n",
      "\n",
      "Epoch 00047: val_loss did not improve from 0.30586\n",
      "Epoch 48/200\n",
      "10263/10263 [==============================] - 2s 217us/step - loss: 0.3275 - accuracy: 0.8839 - val_loss: 0.3056 - val_accuracy: 0.8940\n",
      "\n",
      "Epoch 00048: val_loss improved from 0.30586 to 0.30563, saving model to D:\\KISTI\\Project\\052020-Traffic-Sound\\Yi-Source-Code-3\\models\\conv5_gap_train_C6_MFCC_40.hdf5\n",
      "Epoch 49/200\n",
      "10263/10263 [==============================] - 2s 217us/step - loss: 0.3157 - accuracy: 0.8871 - val_loss: 0.3291 - val_accuracy: 0.8913\n",
      "\n",
      "Epoch 00049: val_loss did not improve from 0.30563\n",
      "Epoch 50/200\n",
      "10263/10263 [==============================] - 2s 218us/step - loss: 0.3080 - accuracy: 0.8934 - val_loss: 0.3273 - val_accuracy: 0.8861\n",
      "\n",
      "Epoch 00050: val_loss did not improve from 0.30563\n",
      "Epoch 51/200\n",
      "10263/10263 [==============================] - 2s 217us/step - loss: 0.3101 - accuracy: 0.8877 - val_loss: 0.3154 - val_accuracy: 0.8966\n",
      "\n",
      "Epoch 00051: val_loss did not improve from 0.30563\n",
      "Epoch 52/200\n",
      "10263/10263 [==============================] - 2s 217us/step - loss: 0.3140 - accuracy: 0.8885 - val_loss: 0.3199 - val_accuracy: 0.8843\n",
      "\n",
      "Epoch 00052: val_loss did not improve from 0.30563\n",
      "Epoch 53/200\n",
      "10263/10263 [==============================] - 2s 217us/step - loss: 0.2959 - accuracy: 0.8947 - val_loss: 0.2917 - val_accuracy: 0.9045\n",
      "\n",
      "Epoch 00053: val_loss improved from 0.30563 to 0.29167, saving model to D:\\KISTI\\Project\\052020-Traffic-Sound\\Yi-Source-Code-3\\models\\conv5_gap_train_C6_MFCC_40.hdf5\n",
      "Epoch 54/200\n",
      "10263/10263 [==============================] - 2s 217us/step - loss: 0.2902 - accuracy: 0.8953 - val_loss: 0.3029 - val_accuracy: 0.8904\n",
      "\n",
      "Epoch 00054: val_loss did not improve from 0.29167\n",
      "Epoch 55/200\n",
      "10263/10263 [==============================] - 2s 217us/step - loss: 0.2864 - accuracy: 0.8986 - val_loss: 0.2725 - val_accuracy: 0.9115\n",
      "\n",
      "Epoch 00055: val_loss improved from 0.29167 to 0.27249, saving model to D:\\KISTI\\Project\\052020-Traffic-Sound\\Yi-Source-Code-3\\models\\conv5_gap_train_C6_MFCC_40.hdf5\n",
      "Epoch 56/200\n",
      "10263/10263 [==============================] - 2s 217us/step - loss: 0.2796 - accuracy: 0.9005 - val_loss: 0.2931 - val_accuracy: 0.8904\n",
      "\n",
      "Epoch 00056: val_loss did not improve from 0.27249\n",
      "Epoch 57/200\n",
      "10263/10263 [==============================] - 2s 217us/step - loss: 0.2799 - accuracy: 0.9005 - val_loss: 0.3007 - val_accuracy: 0.8957\n",
      "\n",
      "Epoch 00057: val_loss did not improve from 0.27249\n",
      "Epoch 58/200\n",
      "10263/10263 [==============================] - 2s 216us/step - loss: 0.2685 - accuracy: 0.9073 - val_loss: 0.2763 - val_accuracy: 0.9062\n",
      "\n",
      "Epoch 00058: val_loss did not improve from 0.27249\n",
      "Epoch 59/200\n",
      "10263/10263 [==============================] - 2s 217us/step - loss: 0.2770 - accuracy: 0.9015 - val_loss: 0.2897 - val_accuracy: 0.9010\n",
      "\n",
      "Epoch 00059: val_loss did not improve from 0.27249\n",
      "Epoch 60/200\n",
      "10263/10263 [==============================] - 2s 217us/step - loss: 0.2632 - accuracy: 0.9076 - val_loss: 0.2842 - val_accuracy: 0.9036\n",
      "\n",
      "Epoch 00060: val_loss did not improve from 0.27249\n",
      "Epoch 61/200\n",
      "10263/10263 [==============================] - 2s 217us/step - loss: 0.2562 - accuracy: 0.9089 - val_loss: 0.2972 - val_accuracy: 0.8992\n",
      "\n",
      "Epoch 00061: val_loss did not improve from 0.27249\n",
      "Epoch 62/200\n",
      "10263/10263 [==============================] - 2s 217us/step - loss: 0.2654 - accuracy: 0.9068 - val_loss: 0.2819 - val_accuracy: 0.9027\n",
      "\n",
      "Epoch 00062: val_loss did not improve from 0.27249\n",
      "Epoch 63/200\n"
     ]
    },
    {
     "name": "stdout",
     "output_type": "stream",
     "text": [
      "10263/10263 [==============================] - 2s 218us/step - loss: 0.2448 - accuracy: 0.9120 - val_loss: 0.3021 - val_accuracy: 0.8966\n",
      "\n",
      "Epoch 00063: val_loss did not improve from 0.27249\n",
      "Epoch 64/200\n",
      "10263/10263 [==============================] - 2s 218us/step - loss: 0.2499 - accuracy: 0.9102 - val_loss: 0.3063 - val_accuracy: 0.9001\n",
      "\n",
      "Epoch 00064: val_loss did not improve from 0.27249\n",
      "Epoch 65/200\n",
      "10263/10263 [==============================] - 2s 217us/step - loss: 0.2401 - accuracy: 0.9150 - val_loss: 0.2921 - val_accuracy: 0.9010\n",
      "\n",
      "Epoch 00065: ReduceLROnPlateau reducing learning rate to 1.9999999494757503e-05.\n",
      "\n",
      "Epoch 00065: val_loss did not improve from 0.27249\n",
      "Epoch 66/200\n",
      "10263/10263 [==============================] - 2s 217us/step - loss: 0.2146 - accuracy: 0.9245 - val_loss: 0.2596 - val_accuracy: 0.9132\n",
      "\n",
      "Epoch 00066: val_loss improved from 0.27249 to 0.25963, saving model to D:\\KISTI\\Project\\052020-Traffic-Sound\\Yi-Source-Code-3\\models\\conv5_gap_train_C6_MFCC_40.hdf5\n",
      "Epoch 67/200\n",
      "10263/10263 [==============================] - 2s 218us/step - loss: 0.2024 - accuracy: 0.9311 - val_loss: 0.2666 - val_accuracy: 0.9115\n",
      "\n",
      "Epoch 00067: val_loss did not improve from 0.25963\n",
      "Epoch 68/200\n",
      "10263/10263 [==============================] - 2s 218us/step - loss: 0.2054 - accuracy: 0.9268 - val_loss: 0.2622 - val_accuracy: 0.9141\n",
      "\n",
      "Epoch 00068: val_loss did not improve from 0.25963\n",
      "Epoch 69/200\n",
      "10263/10263 [==============================] - 2s 217us/step - loss: 0.2033 - accuracy: 0.9287 - val_loss: 0.2566 - val_accuracy: 0.9159\n",
      "\n",
      "Epoch 00069: val_loss improved from 0.25963 to 0.25656, saving model to D:\\KISTI\\Project\\052020-Traffic-Sound\\Yi-Source-Code-3\\models\\conv5_gap_train_C6_MFCC_40.hdf5\n",
      "Epoch 70/200\n",
      "10263/10263 [==============================] - 2s 219us/step - loss: 0.1978 - accuracy: 0.9293 - val_loss: 0.2638 - val_accuracy: 0.9150\n",
      "\n",
      "Epoch 00070: val_loss did not improve from 0.25656\n",
      "Epoch 71/200\n",
      "10263/10263 [==============================] - 2s 217us/step - loss: 0.1972 - accuracy: 0.9297 - val_loss: 0.2560 - val_accuracy: 0.9124\n",
      "\n",
      "Epoch 00071: val_loss improved from 0.25656 to 0.25600, saving model to D:\\KISTI\\Project\\052020-Traffic-Sound\\Yi-Source-Code-3\\models\\conv5_gap_train_C6_MFCC_40.hdf5\n",
      "Epoch 72/200\n",
      "10263/10263 [==============================] - 2s 217us/step - loss: 0.2002 - accuracy: 0.9292 - val_loss: 0.2602 - val_accuracy: 0.9124\n",
      "\n",
      "Epoch 00072: val_loss did not improve from 0.25600\n",
      "Epoch 73/200\n",
      "10263/10263 [==============================] - 2s 217us/step - loss: 0.1936 - accuracy: 0.9298 - val_loss: 0.2593 - val_accuracy: 0.9167\n",
      "\n",
      "Epoch 00073: val_loss did not improve from 0.25600\n",
      "Epoch 74/200\n",
      "10263/10263 [==============================] - 2s 217us/step - loss: 0.2011 - accuracy: 0.9296 - val_loss: 0.2590 - val_accuracy: 0.9150\n",
      "\n",
      "Epoch 00074: val_loss did not improve from 0.25600\n",
      "Epoch 75/200\n",
      "10263/10263 [==============================] - 2s 217us/step - loss: 0.1976 - accuracy: 0.9299 - val_loss: 0.2607 - val_accuracy: 0.9167\n",
      "\n",
      "Epoch 00075: val_loss did not improve from 0.25600\n",
      "Epoch 76/200\n",
      "10263/10263 [==============================] - 2s 217us/step - loss: 0.1919 - accuracy: 0.9332 - val_loss: 0.2700 - val_accuracy: 0.9080\n",
      "\n",
      "Epoch 00076: val_loss did not improve from 0.25600\n",
      "Epoch 77/200\n",
      "10263/10263 [==============================] - 2s 218us/step - loss: 0.1939 - accuracy: 0.9297 - val_loss: 0.2604 - val_accuracy: 0.9185\n",
      "\n",
      "Epoch 00077: val_loss did not improve from 0.25600\n",
      "Epoch 78/200\n",
      "10263/10263 [==============================] - 2s 219us/step - loss: 0.1959 - accuracy: 0.9309 - val_loss: 0.2627 - val_accuracy: 0.9150\n",
      "\n",
      "Epoch 00078: val_loss did not improve from 0.25600\n",
      "Epoch 79/200\n",
      "10263/10263 [==============================] - 2s 218us/step - loss: 0.1910 - accuracy: 0.9331 - val_loss: 0.2584 - val_accuracy: 0.9202\n",
      "\n",
      "Epoch 00079: val_loss did not improve from 0.25600\n",
      "Epoch 80/200\n",
      "10263/10263 [==============================] - 2s 220us/step - loss: 0.1862 - accuracy: 0.9348 - val_loss: 0.2533 - val_accuracy: 0.9185\n",
      "\n",
      "Epoch 00080: val_loss improved from 0.25600 to 0.25334, saving model to D:\\KISTI\\Project\\052020-Traffic-Sound\\Yi-Source-Code-3\\models\\conv5_gap_train_C6_MFCC_40.hdf5\n",
      "Epoch 81/200\n",
      "10263/10263 [==============================] - 2s 217us/step - loss: 0.1894 - accuracy: 0.9337 - val_loss: 0.2569 - val_accuracy: 0.9202\n",
      "\n",
      "Epoch 00081: val_loss did not improve from 0.25334\n",
      "Epoch 82/200\n",
      "10263/10263 [==============================] - 2s 217us/step - loss: 0.1898 - accuracy: 0.9307 - val_loss: 0.2636 - val_accuracy: 0.9132\n",
      "\n",
      "Epoch 00082: val_loss did not improve from 0.25334\n",
      "Epoch 83/200\n",
      "10263/10263 [==============================] - 2s 219us/step - loss: 0.1880 - accuracy: 0.9347 - val_loss: 0.2577 - val_accuracy: 0.9159\n",
      "\n",
      "Epoch 00083: val_loss did not improve from 0.25334\n",
      "Epoch 84/200\n",
      "10263/10263 [==============================] - 2s 218us/step - loss: 0.1848 - accuracy: 0.9349 - val_loss: 0.2621 - val_accuracy: 0.9150\n",
      "\n",
      "Epoch 00084: val_loss did not improve from 0.25334\n",
      "Epoch 85/200\n",
      "10263/10263 [==============================] - 2s 217us/step - loss: 0.1888 - accuracy: 0.9324 - val_loss: 0.2629 - val_accuracy: 0.9159\n",
      "\n",
      "Epoch 00085: val_loss did not improve from 0.25334\n",
      "Epoch 86/200\n",
      "10263/10263 [==============================] - 2s 217us/step - loss: 0.1910 - accuracy: 0.9324 - val_loss: 0.2562 - val_accuracy: 0.9194\n",
      "\n",
      "Epoch 00086: val_loss did not improve from 0.25334\n",
      "Epoch 87/200\n",
      "10263/10263 [==============================] - 2s 218us/step - loss: 0.1878 - accuracy: 0.9339 - val_loss: 0.2561 - val_accuracy: 0.9194\n",
      "\n",
      "Epoch 00087: val_loss did not improve from 0.25334\n",
      "Epoch 88/200\n",
      "10263/10263 [==============================] - 2s 220us/step - loss: 0.1875 - accuracy: 0.9323 - val_loss: 0.2526 - val_accuracy: 0.9202\n",
      "\n",
      "Epoch 00088: val_loss improved from 0.25334 to 0.25262, saving model to D:\\KISTI\\Project\\052020-Traffic-Sound\\Yi-Source-Code-3\\models\\conv5_gap_train_C6_MFCC_40.hdf5\n",
      "Epoch 89/200\n",
      "10263/10263 [==============================] - 2s 217us/step - loss: 0.1898 - accuracy: 0.9342 - val_loss: 0.2561 - val_accuracy: 0.9194\n",
      "\n",
      "Epoch 00089: val_loss did not improve from 0.25262\n",
      "Epoch 90/200\n",
      "10263/10263 [==============================] - 2s 217us/step - loss: 0.1921 - accuracy: 0.9303 - val_loss: 0.2626 - val_accuracy: 0.9167\n",
      "\n",
      "Epoch 00090: val_loss did not improve from 0.25262\n",
      "Epoch 91/200\n",
      "10263/10263 [==============================] - 2s 218us/step - loss: 0.1890 - accuracy: 0.9309 - val_loss: 0.2632 - val_accuracy: 0.9150\n",
      "\n",
      "Epoch 00091: val_loss did not improve from 0.25262\n",
      "Epoch 92/200\n",
      "10263/10263 [==============================] - 2s 217us/step - loss: 0.1858 - accuracy: 0.9366 - val_loss: 0.2619 - val_accuracy: 0.9150\n",
      "\n",
      "Epoch 00092: val_loss did not improve from 0.25262\n",
      "Epoch 93/200\n",
      "10263/10263 [==============================] - 2s 218us/step - loss: 0.1786 - accuracy: 0.9376 - val_loss: 0.2553 - val_accuracy: 0.9194\n",
      "\n",
      "Epoch 00093: val_loss did not improve from 0.25262\n",
      "Epoch 94/200\n",
      "10263/10263 [==============================] - 2s 217us/step - loss: 0.1802 - accuracy: 0.9380 - val_loss: 0.2541 - val_accuracy: 0.9176\n",
      "\n",
      "Epoch 00094: val_loss did not improve from 0.25262\n",
      "Epoch 95/200\n",
      "10263/10263 [==============================] - 2s 217us/step - loss: 0.1825 - accuracy: 0.9350 - val_loss: 0.2626 - val_accuracy: 0.9141\n",
      "\n",
      "Epoch 00095: val_loss did not improve from 0.25262\n",
      "Epoch 96/200\n",
      "10263/10263 [==============================] - 2s 217us/step - loss: 0.1805 - accuracy: 0.9377 - val_loss: 0.2562 - val_accuracy: 0.9167\n",
      "\n",
      "Epoch 00096: val_loss did not improve from 0.25262\n",
      "Epoch 97/200\n",
      "10263/10263 [==============================] - 2s 221us/step - loss: 0.1896 - accuracy: 0.9336 - val_loss: 0.2480 - val_accuracy: 0.9202\n",
      "\n",
      "Epoch 00097: val_loss improved from 0.25262 to 0.24799, saving model to D:\\KISTI\\Project\\052020-Traffic-Sound\\Yi-Source-Code-3\\models\\conv5_gap_train_C6_MFCC_40.hdf5\n",
      "Epoch 98/200\n",
      "10263/10263 [==============================] - 2s 217us/step - loss: 0.1766 - accuracy: 0.9369 - val_loss: 0.2542 - val_accuracy: 0.9220\n",
      "\n",
      "Epoch 00098: val_loss did not improve from 0.24799\n",
      "Epoch 99/200\n",
      "10263/10263 [==============================] - 2s 217us/step - loss: 0.1890 - accuracy: 0.9371 - val_loss: 0.2542 - val_accuracy: 0.9238\n",
      "\n",
      "Epoch 00099: val_loss did not improve from 0.24799\n",
      "Epoch 100/200\n"
     ]
    },
    {
     "name": "stdout",
     "output_type": "stream",
     "text": [
      "10263/10263 [==============================] - 2s 217us/step - loss: 0.1733 - accuracy: 0.9399 - val_loss: 0.2652 - val_accuracy: 0.9194\n",
      "\n",
      "Epoch 00100: val_loss did not improve from 0.24799\n",
      "Epoch 101/200\n",
      "10263/10263 [==============================] - 2s 217us/step - loss: 0.1769 - accuracy: 0.9395 - val_loss: 0.2580 - val_accuracy: 0.9185\n",
      "\n",
      "Epoch 00101: val_loss did not improve from 0.24799\n",
      "Epoch 102/200\n",
      "10263/10263 [==============================] - 2s 217us/step - loss: 0.1803 - accuracy: 0.9369 - val_loss: 0.2598 - val_accuracy: 0.9167\n",
      "\n",
      "Epoch 00102: val_loss did not improve from 0.24799\n",
      "Epoch 103/200\n",
      "10263/10263 [==============================] - 2s 218us/step - loss: 0.1807 - accuracy: 0.9357 - val_loss: 0.2641 - val_accuracy: 0.9124\n",
      "\n",
      "Epoch 00103: val_loss did not improve from 0.24799\n",
      "Epoch 104/200\n",
      "10263/10263 [==============================] - 2s 217us/step - loss: 0.1809 - accuracy: 0.9364 - val_loss: 0.2542 - val_accuracy: 0.9185\n",
      "\n",
      "Epoch 00104: val_loss did not improve from 0.24799\n",
      "Epoch 105/200\n",
      "10263/10263 [==============================] - 2s 217us/step - loss: 0.1813 - accuracy: 0.9377 - val_loss: 0.2523 - val_accuracy: 0.9167\n",
      "\n",
      "Epoch 00105: val_loss did not improve from 0.24799\n",
      "Epoch 106/200\n",
      "10263/10263 [==============================] - 2s 217us/step - loss: 0.1723 - accuracy: 0.9397 - val_loss: 0.2550 - val_accuracy: 0.9150\n",
      "\n",
      "Epoch 00106: val_loss did not improve from 0.24799\n",
      "Epoch 107/200\n",
      "10263/10263 [==============================] - 2s 217us/step - loss: 0.1791 - accuracy: 0.9374 - val_loss: 0.2563 - val_accuracy: 0.9185\n",
      "\n",
      "Epoch 00107: ReduceLROnPlateau reducing learning rate to 1.9999999494757505e-06.\n",
      "\n",
      "Epoch 00107: val_loss did not improve from 0.24799\n",
      "Epoch 108/200\n",
      "10263/10263 [==============================] - 2s 217us/step - loss: 0.1691 - accuracy: 0.9411 - val_loss: 0.2538 - val_accuracy: 0.9176\n",
      "\n",
      "Epoch 00108: val_loss did not improve from 0.24799\n",
      "Epoch 109/200\n",
      "10263/10263 [==============================] - 2s 219us/step - loss: 0.1721 - accuracy: 0.9381 - val_loss: 0.2516 - val_accuracy: 0.9150\n",
      "\n",
      "Epoch 00109: val_loss did not improve from 0.24799\n",
      "Epoch 110/200\n",
      "10263/10263 [==============================] - 2s 219us/step - loss: 0.1773 - accuracy: 0.9358 - val_loss: 0.2517 - val_accuracy: 0.9167\n",
      "\n",
      "Epoch 00110: val_loss did not improve from 0.24799\n",
      "Epoch 111/200\n",
      "10263/10263 [==============================] - 2s 217us/step - loss: 0.1717 - accuracy: 0.9396 - val_loss: 0.2542 - val_accuracy: 0.9202\n",
      "\n",
      "Epoch 00111: val_loss did not improve from 0.24799\n",
      "Epoch 112/200\n",
      "10263/10263 [==============================] - 2s 219us/step - loss: 0.1709 - accuracy: 0.9405 - val_loss: 0.2494 - val_accuracy: 0.9194\n",
      "\n",
      "Epoch 00112: val_loss did not improve from 0.24799\n",
      "Epoch 113/200\n",
      "10263/10263 [==============================] - 2s 218us/step - loss: 0.1763 - accuracy: 0.9383 - val_loss: 0.2514 - val_accuracy: 0.9176\n",
      "\n",
      "Epoch 00113: val_loss did not improve from 0.24799\n",
      "Epoch 114/200\n",
      "10263/10263 [==============================] - 2s 218us/step - loss: 0.1761 - accuracy: 0.9391 - val_loss: 0.2494 - val_accuracy: 0.9194\n",
      "\n",
      "Epoch 00114: val_loss did not improve from 0.24799\n",
      "Epoch 115/200\n",
      "10263/10263 [==============================] - 2s 218us/step - loss: 0.1715 - accuracy: 0.9400 - val_loss: 0.2514 - val_accuracy: 0.9185\n",
      "\n",
      "Epoch 00115: val_loss did not improve from 0.24799\n",
      "Epoch 116/200\n",
      "10263/10263 [==============================] - 2s 219us/step - loss: 0.1716 - accuracy: 0.9373 - val_loss: 0.2500 - val_accuracy: 0.9185\n",
      "\n",
      "Epoch 00116: val_loss did not improve from 0.24799\n",
      "Epoch 117/200\n",
      "10263/10263 [==============================] - 2s 221us/step - loss: 0.1700 - accuracy: 0.9436 - val_loss: 0.2519 - val_accuracy: 0.9185\n",
      "\n",
      "Epoch 00117: ReduceLROnPlateau reducing learning rate to 1e-06.\n",
      "\n",
      "Epoch 00117: val_loss did not improve from 0.24799\n",
      "Epoch 118/200\n",
      "10263/10263 [==============================] - 2s 217us/step - loss: 0.1722 - accuracy: 0.9411 - val_loss: 0.2514 - val_accuracy: 0.9167\n",
      "\n",
      "Epoch 00118: val_loss did not improve from 0.24799\n",
      "Epoch 119/200\n",
      "10263/10263 [==============================] - 2s 218us/step - loss: 0.1703 - accuracy: 0.9405 - val_loss: 0.2499 - val_accuracy: 0.9185\n",
      "\n",
      "Epoch 00119: val_loss did not improve from 0.24799\n",
      "Epoch 120/200\n",
      "10263/10263 [==============================] - 2s 219us/step - loss: 0.1707 - accuracy: 0.9394 - val_loss: 0.2495 - val_accuracy: 0.9211\n",
      "\n",
      "Epoch 00120: val_loss did not improve from 0.24799\n",
      "Epoch 121/200\n",
      "10263/10263 [==============================] - 2s 218us/step - loss: 0.1670 - accuracy: 0.9432 - val_loss: 0.2500 - val_accuracy: 0.9202\n",
      "\n",
      "Epoch 00121: val_loss did not improve from 0.24799\n",
      "Epoch 122/200\n",
      "10263/10263 [==============================] - 2s 217us/step - loss: 0.1701 - accuracy: 0.9404 - val_loss: 0.2502 - val_accuracy: 0.9194\n",
      "\n",
      "Epoch 00122: val_loss did not improve from 0.24799\n",
      "Epoch 123/200\n",
      "10263/10263 [==============================] - 2s 217us/step - loss: 0.1741 - accuracy: 0.9404 - val_loss: 0.2510 - val_accuracy: 0.9194\n",
      "\n",
      "Epoch 00123: val_loss did not improve from 0.24799\n",
      "Epoch 124/200\n",
      "10263/10263 [==============================] - 2s 218us/step - loss: 0.1687 - accuracy: 0.9429 - val_loss: 0.2509 - val_accuracy: 0.9185\n",
      "\n",
      "Epoch 00124: val_loss did not improve from 0.24799\n",
      "Epoch 125/200\n",
      "10263/10263 [==============================] - 2s 218us/step - loss: 0.1680 - accuracy: 0.9392 - val_loss: 0.2509 - val_accuracy: 0.9185\n",
      "\n",
      "Epoch 00125: val_loss did not improve from 0.24799\n",
      "Epoch 126/200\n",
      "10263/10263 [==============================] - 2s 218us/step - loss: 0.1688 - accuracy: 0.9420 - val_loss: 0.2511 - val_accuracy: 0.9185\n",
      "\n",
      "Epoch 00126: val_loss did not improve from 0.24799\n",
      "Epoch 127/200\n",
      "10263/10263 [==============================] - 2s 219us/step - loss: 0.1676 - accuracy: 0.9415 - val_loss: 0.2509 - val_accuracy: 0.9194\n",
      "\n",
      "Epoch 00127: val_loss did not improve from 0.24799\n",
      "Training completed in time:  0:04:49.262839\n"
     ]
    }
   ],
   "source": [
    "\n",
    "# Save checkpoints\n",
    "\n",
    "early_stopping = EarlyStopping(patience = 30) \n",
    "checkpointer = ModelCheckpoint(filepath=model_path, \n",
    "                               verbose=1, save_best_only=True)\n",
    "callback_reduce_lr=ReduceLROnPlateau(monitor='val_loss',\n",
    "                                     factor=0.1,\n",
    "                                     min_lr=1e-6,\n",
    "                                     patience=10,\n",
    "                                     verbose=1)\n",
    "start = datetime.now()\n",
    "history = model.fit(X_train, \n",
    "                    y_train_encoded, \n",
    "                    batch_size=num_batch_size, \n",
    "                    epochs=num_epochs, \n",
    "                    validation_split=0.1,\n",
    "                    callbacks=[early_stopping, callback_reduce_lr, checkpointer], \n",
    "                    verbose=1)\n",
    "duration = datetime.now() - start\n",
    "print(\"Training completed in time: \", duration)\n",
    "file1 = open(os.path.join(models_path, 'time_' + file_name + \".txt\"),\"w\")\n",
    "file1.write('Training Time:' + str(duration))\n",
    "file1.write('\\n')\n",
    "file1.close()\n",
    "\n",
    "\n"
   ]
  },
  {
   "cell_type": "markdown",
   "metadata": {},
   "source": [
    "#### 2.4 General model evaluation\n",
    "Note that we first load the checkpoint with the lowest validation loss achieved during training."
   ]
  },
  {
   "cell_type": "code",
   "execution_count": 13,
   "metadata": {
    "scrolled": false
   },
   "outputs": [
    {
     "name": "stdout",
     "output_type": "stream",
     "text": [
      "                    LOSS      ACCURACY\n",
      "--------------------------------------\n",
      "Training:         0.1023       97.0186\n",
      "Test:             0.2454       91.9327\n",
      "Normal diff         58.31 \n"
     ]
    }
   ],
   "source": [
    "# Load best saved model\n",
    "model = load_model(model_path)\n",
    "\n",
    "helpers.model_evaluation_report(model, X_train, y_train_encoded, X_test, y_test_encoded)"
   ]
  },
  {
   "cell_type": "markdown",
   "metadata": {},
   "source": [
    "Compared with the previous evaluation the model was able to train for more epochs when using Mel Spectrograms, and consequently, a higher accuracy and lower error where achieved.<br/>"
   ]
  },
  {
   "cell_type": "code",
   "execution_count": 50,
   "metadata": {
    "nbpresent": {
     "id": "19f196f8-c2b5-4c56-ba54-4c145b7023ad"
    },
    "scrolled": false
   },
   "outputs": [
    {
     "data": {
      "image/png": "[encoded data removed]",
      "text/plain": [
       "<Figure size 1440x792 with 1 Axes>"
      ]
     },
     "metadata": {
      "needs_background": "light"
     },
     "output_type": "display_data"
    },
    {
     "data": {
      "image/png": "[encoded data removed]",
      "text/plain": [
       "<Figure size 1440x792 with 1 Axes>"
      ]
     },
     "metadata": {
      "needs_background": "light"
     },
     "output_type": "display_data"
    }
   ],
   "source": [
    "helpers.plot_train_history(history, x_ticks_vertical=True)"
   ]
  },
  {
   "cell_type": "code",
   "execution_count": 15,
   "metadata": {},
   "outputs": [
    {
     "name": "stderr",
     "output_type": "stream",
     "text": [
      "C:\\Users\\user\\Anaconda3\\envs\\tf_gpu\\lib\\site-packages\\ipykernel_launcher.py:7: SettingWithCopyWarning: \n",
      "A value is trying to be set on a copy of a slice from a DataFrame.\n",
      "Try using .loc[row_indexer,col_indexer] = value instead\n",
      "\n",
      "See the caveats in the documentation: http://pandas.pydata.org/pandas-docs/stable/user_guide/indexing.html#returning-a-view-versus-a-copy\n",
      "  import sys\n"
     ]
    }
   ],
   "source": [
    "# Predict probabilities for test set\n",
    "y_probs = model.predict(X_test, verbose=0)\n",
    "yhat_probs = np.argmax(y_probs, axis=1)\n",
    "y_trues = np.argmax(y_test_encoded, axis=1)\n",
    "\n",
    "# Add \"pred\" column\n",
    "test_meta['pred'] = yhat_probs"
   ]
  },
  {
   "cell_type": "code",
   "execution_count": 16,
   "metadata": {},
   "outputs": [
    {
     "data": {
      "image/png": "[encoded data removed]",
      "text/plain": [
       "<Figure size 720x504 with 2 Axes>"
      ]
     },
     "metadata": {
      "needs_background": "light"
     },
     "output_type": "display_data"
    }
   ],
   "source": [
    "import importlib\n",
    "importlib.reload(helpers)\n",
    "\n",
    "# Sets decimal precision (for printing output only)\n",
    "np.set_printoptions(precision=2)\n",
    "\n",
    "# Compute confusion matrix data\n",
    "cm = confusion_matrix(y_trues, yhat_probs)\n",
    "\n",
    "helpers.plot_confusion_matrix(cm,\n",
    "                          labels, \n",
    "                          normalized=False, \n",
    "                          cmap=plt.cm.Blues,\n",
    "                          size=(10,7))"
   ]
  },
  {
   "cell_type": "code",
   "execution_count": 17,
   "metadata": {
    "scrolled": false
   },
   "outputs": [
    {
     "name": "stdout",
     "output_type": "stream",
     "text": [
      "D:\\KISTI\\Project\\052020-Traffic-Sound\\Yi-Source-Code-3\\results\\acc_conv5_gap_train_C6_MFCC_40\n",
      "  CLASS   ACCURACY\n",
      "0     1  90.203327\n",
      "1     2  91.621622\n",
      "2     3  93.973635\n",
      "3     4  92.613636\n",
      "4     5  92.711370\n",
      "5     6  90.706320\n"
     ]
    }
   ],
   "source": [
    "# Find per-class accuracy from the confusion matrix data\n",
    "accuracies = helpers.acc_per_class(cm)\n",
    "result_acc = 'acc_' + file_name\n",
    "result_path = os.path.join(results_path, result_acc)\n",
    "print(result_path)\n",
    "df=pd.DataFrame({\n",
    "    'CLASS': labels,\n",
    "    'ACCURACY': accuracies\n",
    "}).sort_values(by=\"CLASS\", ascending=True)\n",
    "\n",
    "print(df)\n",
    "\n",
    "df.to_csv(result_path + '.csv')"
   ]
  },
  {
   "cell_type": "code",
   "execution_count": 18,
   "metadata": {
    "scrolled": false
   },
   "outputs": [
    {
     "name": "stdout",
     "output_type": "stream",
     "text": [
      "              precision    recall  f1-score   support\n",
      "\n",
      "           1       0.94      0.90      0.92       541\n",
      "           2       0.94      0.92      0.93       370\n",
      "           3       0.89      0.94      0.91       531\n",
      "           4       0.94      0.93      0.93       528\n",
      "           5       0.88      0.93      0.90       343\n",
      "           6       0.93      0.91      0.92       538\n",
      "\n",
      "   micro avg       0.92      0.92      0.92      2851\n",
      "   macro avg       0.55      0.55      0.55      2851\n",
      "weighted avg       0.92      0.92      0.92      2851\n",
      "\n",
      "Accuracy: 0.919326552086987\n",
      "Precision: 0.9202509443454778\n",
      "Recall: 0.919326552086987\n",
      "F1-Score: 0.9194498820851249\n"
     ]
    },
    {
     "name": "stderr",
     "output_type": "stream",
     "text": [
      "C:\\Users\\user\\Anaconda3\\envs\\tf_gpu\\lib\\site-packages\\sklearn\\metrics\\classification.py:1870: UserWarning: labels size, 10, does not match size of target_names, 6\n",
      "  .format(len(labels), len(target_names))\n",
      "C:\\Users\\user\\Anaconda3\\envs\\tf_gpu\\lib\\site-packages\\sklearn\\metrics\\classification.py:1437: UndefinedMetricWarning: Precision and F-score are ill-defined and being set to 0.0 in labels with no predicted samples.\n",
      "  'precision', 'predicted', average, warn_for)\n",
      "C:\\Users\\user\\Anaconda3\\envs\\tf_gpu\\lib\\site-packages\\sklearn\\metrics\\classification.py:1439: UndefinedMetricWarning: Recall and F-score are ill-defined and being set to 0.0 in labels with no true samples.\n",
      "  'recall', 'true', average, warn_for)\n"
     ]
    }
   ],
   "source": [
    "# Build classification report\n",
    "re = classification_report(y_trues, yhat_probs, labels=[0,1,2,3,4,5,6,7,8,9], target_names=labels) \n",
    "print(re)\n",
    "print(\"Accuracy: {0}\".format(accuracy_score(y_trues, yhat_probs)))\n",
    "print(\"Precision: {0}\".format(precision_score(y_trues, yhat_probs, average='weighted')))\n",
    "print(\"Recall: {0}\".format(recall_score(y_trues, yhat_probs, average='weighted')))\n",
    "print(\"F1-Score: {0}\".format(f1_score(y_trues, yhat_probs, average='weighted')))"
   ]
  },
  {
   "cell_type": "markdown",
   "metadata": {},
   "source": [
    "## 3. Deep Feature Clasification\n",
    "\n",
    "CNN with non-softmax classification\n",
    "\n",
    "\n",
    "### 3.1 Divide feature extraction layers and classification layers\n"
   ]
  },
  {
   "cell_type": "code",
   "execution_count": 19,
   "metadata": {},
   "outputs": [
    {
     "name": "stdout",
     "output_type": "stream",
     "text": [
      "0 <keras.layers.convolutional.Conv2D object at 0x000002130F1D8248>\n",
      "1 <keras.layers.advanced_activations.ReLU object at 0x000002130F1D5E08>\n",
      "2 <keras.layers.pooling.MaxPooling2D object at 0x000002137FC35288>\n",
      "3 <keras.layers.core.Dropout object at 0x000002130F1F2588>\n",
      "4 <keras.layers.convolutional.Conv2D object at 0x000002130F1FA788>\n",
      "5 <keras.layers.advanced_activations.ReLU object at 0x000002130F205588>\n",
      "6 <keras.layers.pooling.MaxPooling2D object at 0x000002130F20D808>\n",
      "7 <keras.layers.core.Dropout object at 0x000002130F212B48>\n",
      "8 <keras.layers.convolutional.Conv2D object at 0x000002130F212D08>\n",
      "9 <keras.layers.advanced_activations.ReLU object at 0x000002130F2129C8>\n",
      "10 <keras.layers.pooling.MaxPooling2D object at 0x000002130F231448>\n",
      "11 <keras.layers.core.Dropout object at 0x000002130F231608>\n",
      "12 <keras.layers.convolutional.Conv2D object at 0x000002130F23EC48>\n",
      "13 <keras.layers.advanced_activations.ReLU object at 0x000002130F2319C8>\n",
      "14 <keras.layers.pooling.MaxPooling2D object at 0x000002130F2529C8>\n",
      "15 <keras.layers.core.Dropout object at 0x000002130F254508>\n",
      "16 <keras.layers.convolutional.Conv2D object at 0x000002130F252C88>\n",
      "17 <keras.layers.advanced_activations.ReLU object at 0x000002130F257D48>\n",
      "18 <keras.layers.core.Dropout object at 0x000002130F268F08>\n",
      "19 <keras.layers.pooling.GlobalAveragePooling2D object at 0x000002130F283408>\n",
      "20 <keras.layers.core.Dense object at 0x000002130F286588>\n",
      "21 <keras.layers.core.Dropout object at 0x000002130F283988>\n",
      "22 <keras.layers.core.Dense object at 0x000002130F2A1F88>\n"
     ]
    }
   ],
   "source": [
    "# Layers definitions\n",
    "from keras import backend as K\n",
    "for l in range(len(model.layers)):\n",
    "    print(l, model.layers[l])"
   ]
  },
  {
   "cell_type": "code",
   "execution_count": 20,
   "metadata": {},
   "outputs": [],
   "source": [
    "# feature extraction layer\n",
    "getFeature = K.function([model.layers[0].input, K.learning_phase()],\n",
    "                        [model.layers[20].output])"
   ]
  },
  {
   "cell_type": "code",
   "execution_count": 21,
   "metadata": {},
   "outputs": [],
   "source": [
    "# classification layer\n",
    "getPrediction = K.function([model.layers[21].input, K.learning_phase()],\n",
    "                           [model.layers[22].output])"
   ]
  },
  {
   "cell_type": "markdown",
   "metadata": {},
   "source": [
    "### 3.2 Get feature tensors for training and testing data\n"
   ]
  },
  {
   "cell_type": "code",
   "execution_count": 22,
   "metadata": {},
   "outputs": [
    {
     "name": "stdout",
     "output_type": "stream",
     "text": [
      "11404\n"
     ]
    }
   ],
   "source": [
    "print(len(X_train))\n",
    "exTrain = getFeature([X_train[:9500], 0])[0]"
   ]
  },
  {
   "cell_type": "code",
   "execution_count": 23,
   "metadata": {},
   "outputs": [],
   "source": [
    "exTest = getFeature([X_test, 0])[0]"
   ]
  },
  {
   "cell_type": "code",
   "execution_count": 24,
   "metadata": {},
   "outputs": [],
   "source": [
    "# output of getFeature function\n",
    "#exTrain[0]\n",
    "#exTest[0]"
   ]
  },
  {
   "cell_type": "markdown",
   "metadata": {},
   "source": [
    "###  3.3 Reshape target to fit to scikit-learn"
   ]
  },
  {
   "cell_type": "code",
   "execution_count": 25,
   "metadata": {},
   "outputs": [],
   "source": [
    "sklearn_y_train= y_train[:9500].reshape(y_train[:9500].shape[0],)\n",
    "sklearn_y_test = y_test"
   ]
  },
  {
   "cell_type": "code",
   "execution_count": 26,
   "metadata": {},
   "outputs": [
    {
     "name": "stdout",
     "output_type": "stream",
     "text": [
      "(9500, 256) (2851, 256) (9500,) (2851,)\n"
     ]
    }
   ],
   "source": [
    "print(exTrain.shape, exTest.shape, sklearn_y_train.shape, sklearn_y_test.shape)"
   ]
  },
  {
   "cell_type": "code",
   "execution_count": 27,
   "metadata": {},
   "outputs": [],
   "source": [
    "from sklearn.model_selection import GridSearchCV"
   ]
  },
  {
   "cell_type": "markdown",
   "metadata": {},
   "source": [
    "### 3.4   Scikit-learn Classifiers with feature extracted training data as input\n",
    "\n",
    "We adopt four algorithms: Support Vector Machine (SVM), Random Forest (RF), L-Neareast Neighbor (KNN), and XGBoots (XGB) "
   ]
  },
  {
   "cell_type": "markdown",
   "metadata": {},
   "source": [
    "####  3.4.1 SVM"
   ]
  },
  {
   "cell_type": "code",
   "execution_count": 28,
   "metadata": {},
   "outputs": [
    {
     "name": "stderr",
     "output_type": "stream",
     "text": [
      "C:\\Users\\user\\Anaconda3\\envs\\tf_gpu\\lib\\site-packages\\sklearn\\model_selection\\_split.py:1978: FutureWarning: The default value of cv will change from 3 to 5 in version 0.22. Specify it explicitly to silence this warning.\n",
      "  warnings.warn(CV_WARNING, FutureWarning)\n"
     ]
    },
    {
     "name": "stdout",
     "output_type": "stream",
     "text": [
      "Training completed in time of svm:  0:01:09.062438\n"
     ]
    }
   ],
   "source": [
    "\n",
    "from sklearn.svm import SVC\n",
    "\n",
    "\n",
    "\n",
    "start_svm = datetime.now()\n",
    "\n",
    "parameters = {'kernel':['rbf'], \n",
    "              'C':[1, 10, 100, 1000],\n",
    "              'gamma':[1e-3, 1e-4]}\n",
    "clf = GridSearchCV(SVC(), parameters)\n",
    "clf.fit(exTrain, sklearn_y_train)\n",
    "\n",
    "time_svm = datetime.now() - start_svm\n",
    "print(\"Training completed in time of svm: \", time_svm)\n",
    "file1 = open(os.path.join(models_path, 'time_' + file_name + \".txt\"),\"a\")\n",
    "file1.write('Time SVM:' +  str(time_svm))\n",
    "file1.write('\\n')\n",
    "file1.close()"
   ]
  },
  {
   "cell_type": "code",
   "execution_count": 29,
   "metadata": {},
   "outputs": [
    {
     "data": {
      "text/plain": [
       "SVC(C=100, cache_size=200, class_weight=None, coef0=0.0,\n",
       "    decision_function_shape='ovr', degree=3, gamma=0.001, kernel='rbf',\n",
       "    max_iter=-1, probability=False, random_state=None, shrinking=True,\n",
       "    tol=0.001, verbose=False)"
      ]
     },
     "execution_count": 29,
     "metadata": {},
     "output_type": "execute_result"
    }
   ],
   "source": [
    "svmclf = clf.best_estimator_\n",
    "svmclf.fit(exTrain, sklearn_y_train)"
   ]
  },
  {
   "cell_type": "code",
   "execution_count": 30,
   "metadata": {},
   "outputs": [
    {
     "data": {
      "text/plain": [
       "'\\nhelpers.plot_confusion_matrix(cm_svm,\\n                          labels, \\n                          normalized=False, \\n                          title=\"Model Performance\", \\n                          cmap=plt.cm.Blues,\\n                          size=(8,8))\\n'"
      ]
     },
     "execution_count": 30,
     "metadata": {},
     "output_type": "execute_result"
    }
   ],
   "source": [
    "\n",
    "y_testSVM = svmclf.predict(exTest)\n",
    "\n",
    "\n",
    "# visualize confusion matrix on heat map\n",
    "import pandas as pd\n",
    "import seaborn as sn\n",
    "import matplotlib.pyplot as plt\n",
    "from sklearn.metrics import confusion_matrix\n",
    "\n",
    "cm_svm = confusion_matrix(sklearn_y_test, y_testSVM)\n",
    "'''\n",
    "helpers.plot_confusion_matrix(cm_svm,\n",
    "                          labels, \n",
    "                          normalized=False, \n",
    "                          title=\"Model Performance\", \n",
    "                          cmap=plt.cm.Blues,\n",
    "                          size=(8,8))\n",
    "'''\n",
    "\n"
   ]
  },
  {
   "cell_type": "code",
   "execution_count": 31,
   "metadata": {},
   "outputs": [
    {
     "name": "stdout",
     "output_type": "stream",
     "text": [
      "D:\\KISTI\\Project\\052020-Traffic-Sound\\Yi-Source-Code-3\\results\\acc_SVM\n",
      "  CLASS   ACCURACY\n",
      "0     1  90.388170\n",
      "1     2  92.702703\n",
      "2     3  93.032015\n",
      "3     4  93.750000\n",
      "4     5  90.379009\n",
      "5     6  92.379182\n"
     ]
    }
   ],
   "source": [
    "accuracies = helpers.acc_per_class(cm_svm)\n",
    "result_acc = 'acc_SVM'\n",
    "result_path = os.path.join(results_path, result_acc)\n",
    "print(result_path)\n",
    "df=pd.DataFrame({\n",
    "    'CLASS': labels,\n",
    "    'ACCURACY': accuracies\n",
    "}).sort_values(by=\"CLASS\", ascending=True)\n",
    "\n",
    "print(df)\n",
    "\n",
    "df.to_csv(result_path + '.csv')"
   ]
  },
  {
   "cell_type": "code",
   "execution_count": 32,
   "metadata": {},
   "outputs": [
    {
     "name": "stdout",
     "output_type": "stream",
     "text": [
      "              precision    recall  f1-score   support\n",
      "\n",
      "           1       0.93      0.90      0.92       541\n",
      "           2       0.94      0.93      0.93       370\n",
      "           3       0.90      0.93      0.92       531\n",
      "           4       0.93      0.94      0.93       528\n",
      "           5       0.91      0.90      0.91       343\n",
      "           6       0.92      0.92      0.92       538\n",
      "\n",
      "   micro avg       0.92      0.92      0.92      2851\n",
      "   macro avg       0.61      0.61      0.61      2851\n",
      "weighted avg       0.92      0.92      0.92      2851\n",
      "\n",
      "Accuracy: 0.9217818309365136\n"
     ]
    },
    {
     "name": "stderr",
     "output_type": "stream",
     "text": [
      "C:\\Users\\user\\Anaconda3\\envs\\tf_gpu\\lib\\site-packages\\sklearn\\metrics\\classification.py:1870: UserWarning: labels size, 9, does not match size of target_names, 6\n",
      "  .format(len(labels), len(target_names))\n",
      "C:\\Users\\user\\Anaconda3\\envs\\tf_gpu\\lib\\site-packages\\sklearn\\metrics\\classification.py:1437: UndefinedMetricWarning: Precision and F-score are ill-defined and being set to 0.0 in labels with no predicted samples.\n",
      "  'precision', 'predicted', average, warn_for)\n",
      "C:\\Users\\user\\Anaconda3\\envs\\tf_gpu\\lib\\site-packages\\sklearn\\metrics\\classification.py:1439: UndefinedMetricWarning: Recall and F-score are ill-defined and being set to 0.0 in labels with no true samples.\n",
      "  'recall', 'true', average, warn_for)\n"
     ]
    }
   ],
   "source": [
    "# Build classification report\n",
    "re = classification_report(sklearn_y_test, y_testSVM, labels=[1,2,3,4,5,6,7,8,9], target_names=labels) \n",
    "print(re)\n",
    "print(\"Accuracy: {0}\".format(accuracy_score(sklearn_y_test, y_testSVM)))"
   ]
  },
  {
   "cell_type": "markdown",
   "metadata": {},
   "source": [
    "#### 3.4.2 Random Forest"
   ]
  },
  {
   "cell_type": "code",
   "execution_count": 33,
   "metadata": {},
   "outputs": [
    {
     "name": "stderr",
     "output_type": "stream",
     "text": [
      "C:\\Users\\user\\Anaconda3\\envs\\tf_gpu\\lib\\site-packages\\sklearn\\model_selection\\_split.py:1978: FutureWarning: The default value of cv will change from 3 to 5 in version 0.22. Specify it explicitly to silence this warning.\n",
      "  warnings.warn(CV_WARNING, FutureWarning)\n"
     ]
    },
    {
     "name": "stdout",
     "output_type": "stream",
     "text": [
      "Training completed in time of RF:  0:06:27.019174\n"
     ]
    }
   ],
   "source": [
    "from sklearn.ensemble import RandomForestClassifier\n",
    "\n",
    "start_rf = datetime.now()\n",
    "\n",
    "parameters = {\"max_depth\": [3, None],\n",
    "              \"max_features\": [1, 3, 10],\n",
    "              \"min_samples_split\": [1.0, 3, 10],\n",
    "              \"min_samples_leaf\": [1, 3, 10],\n",
    "              \"bootstrap\": [True, False],\n",
    "              \"criterion\": [\"gini\", \"entropy\"],\n",
    "              \"n_estimators\": [10, 20, 50]}\n",
    "rclf = RandomForestClassifier()\n",
    "rgclf = GridSearchCV(rclf, param_grid=parameters)\n",
    "rgclf.fit(exTrain, sklearn_y_train)\n",
    "\n",
    "time_rf = datetime.now() - start_rf\n",
    "print(\"Training completed in time of RF: \", time_rf)\n",
    "file1 = open(os.path.join(models_path, 'time_' + file_name + \".txt\"),\"a\")\n",
    "file1.write('Time RF:' +  str(time_rf))\n",
    "file1.write('\\n')\n",
    "file1.close()"
   ]
  },
  {
   "cell_type": "code",
   "execution_count": 34,
   "metadata": {},
   "outputs": [
    {
     "data": {
      "text/plain": [
       "RandomForestClassifier(bootstrap=False, class_weight=None, criterion='gini',\n",
       "                       max_depth=None, max_features=10, max_leaf_nodes=None,\n",
       "                       min_impurity_decrease=0.0, min_impurity_split=None,\n",
       "                       min_samples_leaf=3, min_samples_split=3,\n",
       "                       min_weight_fraction_leaf=0.0, n_estimators=50,\n",
       "                       n_jobs=None, oob_score=False, random_state=None,\n",
       "                       verbose=0, warm_start=False)"
      ]
     },
     "execution_count": 34,
     "metadata": {},
     "output_type": "execute_result"
    }
   ],
   "source": [
    "rclf = rgclf.best_estimator_\n",
    "rclf.fit(exTrain, sklearn_y_train)"
   ]
  },
  {
   "cell_type": "code",
   "execution_count": 35,
   "metadata": {},
   "outputs": [
    {
     "data": {
      "text/plain": [
       "'\\nhelpers.plot_confusion_matrix(cm_RF,\\n                          labels, \\n                          normalized=False, \\n                          title=\"Model Performance\", \\n                          cmap=plt.cm.Blues,\\n                          size=(8,8))\\n'"
      ]
     },
     "execution_count": 35,
     "metadata": {},
     "output_type": "execute_result"
    }
   ],
   "source": [
    "y_testRF = rclf.predict(exTest)\n",
    "\n",
    "cm_RF = confusion_matrix(sklearn_y_test, y_testRF)\n",
    "\n",
    "'''\n",
    "helpers.plot_confusion_matrix(cm_RF,\n",
    "                          labels, \n",
    "                          normalized=False, \n",
    "                          title=\"Model Performance\", \n",
    "                          cmap=plt.cm.Blues,\n",
    "                          size=(8,8))\n",
    "'''\n"
   ]
  },
  {
   "cell_type": "code",
   "execution_count": 36,
   "metadata": {},
   "outputs": [
    {
     "name": "stdout",
     "output_type": "stream",
     "text": [
      "D:\\KISTI\\Project\\052020-Traffic-Sound\\Yi-Source-Code-3\\results\\acc_RF\n",
      "  CLASS   ACCURACY\n",
      "0     1  90.203327\n",
      "1     2  92.972973\n",
      "2     3  93.032015\n",
      "3     4  93.750000\n",
      "4     5  90.670554\n",
      "5     6  91.635688\n"
     ]
    }
   ],
   "source": [
    "accuracies = helpers.acc_per_class(cm_RF)\n",
    "result_acc = 'acc_RF'\n",
    "result_path = os.path.join(results_path, result_acc)\n",
    "print(result_path)\n",
    "df=pd.DataFrame({\n",
    "    'CLASS': labels,\n",
    "    'ACCURACY': accuracies\n",
    "}).sort_values(by=\"CLASS\", ascending=True)\n",
    "\n",
    "print(df)\n",
    "\n",
    "df.to_csv(result_path + '.csv')"
   ]
  },
  {
   "cell_type": "code",
   "execution_count": 37,
   "metadata": {},
   "outputs": [
    {
     "name": "stdout",
     "output_type": "stream",
     "text": [
      "              precision    recall  f1-score   support\n",
      "\n",
      "           1       0.94      0.90      0.92       541\n",
      "           2       0.94      0.93      0.94       370\n",
      "           3       0.90      0.93      0.92       531\n",
      "           4       0.93      0.94      0.93       528\n",
      "           5       0.90      0.91      0.90       343\n",
      "           6       0.91      0.92      0.92       538\n",
      "\n",
      "   micro avg       0.92      0.92      0.92      2851\n",
      "   macro avg       0.61      0.61      0.61      2851\n",
      "weighted avg       0.92      0.92      0.92      2851\n",
      "\n",
      "Accuracy: 0.9207295685724307\n"
     ]
    },
    {
     "name": "stderr",
     "output_type": "stream",
     "text": [
      "C:\\Users\\user\\Anaconda3\\envs\\tf_gpu\\lib\\site-packages\\sklearn\\metrics\\classification.py:1870: UserWarning: labels size, 9, does not match size of target_names, 6\n",
      "  .format(len(labels), len(target_names))\n",
      "C:\\Users\\user\\Anaconda3\\envs\\tf_gpu\\lib\\site-packages\\sklearn\\metrics\\classification.py:1437: UndefinedMetricWarning: Precision and F-score are ill-defined and being set to 0.0 in labels with no predicted samples.\n",
      "  'precision', 'predicted', average, warn_for)\n",
      "C:\\Users\\user\\Anaconda3\\envs\\tf_gpu\\lib\\site-packages\\sklearn\\metrics\\classification.py:1439: UndefinedMetricWarning: Recall and F-score are ill-defined and being set to 0.0 in labels with no true samples.\n",
      "  'recall', 'true', average, warn_for)\n"
     ]
    }
   ],
   "source": [
    "# Build classification report\n",
    "re = classification_report(sklearn_y_test, y_testRF, labels=[1,2,3,4,5,6,7,8,9], target_names=labels) \n",
    "print(re)\n",
    "print(\"Accuracy: {0}\".format(accuracy_score(sklearn_y_test, y_testRF)))"
   ]
  },
  {
   "cell_type": "markdown",
   "metadata": {},
   "source": [
    "#### 3.4.3 K nearest neighbors"
   ]
  },
  {
   "cell_type": "code",
   "execution_count": 38,
   "metadata": {},
   "outputs": [
    {
     "name": "stderr",
     "output_type": "stream",
     "text": [
      "C:\\Users\\user\\Anaconda3\\envs\\tf_gpu\\lib\\site-packages\\sklearn\\model_selection\\_split.py:1978: FutureWarning: The default value of cv will change from 3 to 5 in version 0.22. Specify it explicitly to silence this warning.\n",
      "  warnings.warn(CV_WARNING, FutureWarning)\n"
     ]
    },
    {
     "name": "stdout",
     "output_type": "stream",
     "text": [
      "Training completed in time of KNN:  0:10:31.024849\n"
     ]
    }
   ],
   "source": [
    "from sklearn.neighbors import KNeighborsClassifier\n",
    "\n",
    "start_Knn = datetime.now()\n",
    "\n",
    "parameters = {\"n_neighbors\": [1, 5, 10, 30],\n",
    "              \"weights\": ['uniform', 'distance'],\n",
    "              \"metric\": ['minkowski','euclidean','manhattan'],\n",
    "              \"algorithm\": ['auto', 'ball_tree', 'kd_tree', 'brute']}\n",
    "kclf = KNeighborsClassifier()\n",
    "kgclf = GridSearchCV(kclf, param_grid=parameters)\n",
    "kgclf.fit(exTrain, sklearn_y_train)\n",
    "\n",
    "time_knn = datetime.now() - start_Knn\n",
    "print(\"Training completed in time of KNN: \", time_knn)\n",
    "file1 = open(os.path.join(models_path, 'time_' + file_name + \".txt\"),\"a\")\n",
    "file1.write('Time KNN:' +  str(time_knn))\n",
    "file1.write('\\n')\n",
    "file1.close()"
   ]
  },
  {
   "cell_type": "code",
   "execution_count": 39,
   "metadata": {},
   "outputs": [
    {
     "data": {
      "text/plain": [
       "KNeighborsClassifier(algorithm='auto', leaf_size=30, metric='manhattan',\n",
       "                     metric_params=None, n_jobs=None, n_neighbors=30, p=2,\n",
       "                     weights='distance')"
      ]
     },
     "execution_count": 39,
     "metadata": {},
     "output_type": "execute_result"
    }
   ],
   "source": [
    "kclf = kgclf.best_estimator_\n",
    "kclf.fit(exTrain, sklearn_y_train)\n"
   ]
  },
  {
   "cell_type": "code",
   "execution_count": 40,
   "metadata": {},
   "outputs": [
    {
     "data": {
      "text/plain": [
       "'\\nhelpers.plot_confusion_matrix(cm_KNN,\\n                          labels, \\n                          normalized=False, \\n                          title=\"Model Performance\", \\n                          cmap=plt.cm.Blues,\\n                          size=(8,8))\\n'"
      ]
     },
     "execution_count": 40,
     "metadata": {},
     "output_type": "execute_result"
    }
   ],
   "source": [
    "y_testKNN = kclf.predict(exTest)\n",
    "\n",
    "cm_KNN = confusion_matrix(sklearn_y_test, y_testKNN)\n",
    "\n",
    "'''\n",
    "helpers.plot_confusion_matrix(cm_KNN,\n",
    "                          labels, \n",
    "                          normalized=False, \n",
    "                          title=\"Model Performance\", \n",
    "                          cmap=plt.cm.Blues,\n",
    "                          size=(8,8))\n",
    "'''"
   ]
  },
  {
   "cell_type": "code",
   "execution_count": 41,
   "metadata": {},
   "outputs": [
    {
     "name": "stdout",
     "output_type": "stream",
     "text": [
      "D:\\KISTI\\Project\\052020-Traffic-Sound\\Yi-Source-Code-3\\results\\acc_KNN\n",
      "  CLASS   ACCURACY\n",
      "0     1  90.203327\n",
      "1     2  94.324324\n",
      "2     3  93.596987\n",
      "3     4  92.613636\n",
      "4     5  92.419825\n",
      "5     6  91.821561\n"
     ]
    }
   ],
   "source": [
    "accuracies = helpers.acc_per_class(cm_KNN)\n",
    "result_acc = 'acc_KNN'\n",
    "result_path = os.path.join(results_path, result_acc)\n",
    "print(result_path)\n",
    "df=pd.DataFrame({\n",
    "    'CLASS': labels,\n",
    "    'ACCURACY': accuracies\n",
    "}).sort_values(by=\"CLASS\", ascending=True)\n",
    "\n",
    "print(df)\n",
    "\n",
    "df.to_csv(result_path + '.csv')"
   ]
  },
  {
   "cell_type": "code",
   "execution_count": 42,
   "metadata": {},
   "outputs": [
    {
     "name": "stdout",
     "output_type": "stream",
     "text": [
      "              precision    recall  f1-score   support\n",
      "\n",
      "           1       0.94      0.90      0.92       541\n",
      "           2       0.93      0.94      0.94       370\n",
      "           3       0.91      0.94      0.92       531\n",
      "           4       0.94      0.93      0.93       528\n",
      "           5       0.90      0.92      0.91       343\n",
      "           6       0.93      0.92      0.92       538\n",
      "\n",
      "   micro avg       0.92      0.92      0.92      2851\n",
      "   macro avg       0.62      0.62      0.62      2851\n",
      "weighted avg       0.92      0.92      0.92      2851\n",
      "\n",
      "Accuracy: 0.923886355664679\n"
     ]
    },
    {
     "name": "stderr",
     "output_type": "stream",
     "text": [
      "C:\\Users\\user\\Anaconda3\\envs\\tf_gpu\\lib\\site-packages\\sklearn\\metrics\\classification.py:1870: UserWarning: labels size, 9, does not match size of target_names, 6\n",
      "  .format(len(labels), len(target_names))\n",
      "C:\\Users\\user\\Anaconda3\\envs\\tf_gpu\\lib\\site-packages\\sklearn\\metrics\\classification.py:1437: UndefinedMetricWarning: Precision and F-score are ill-defined and being set to 0.0 in labels with no predicted samples.\n",
      "  'precision', 'predicted', average, warn_for)\n",
      "C:\\Users\\user\\Anaconda3\\envs\\tf_gpu\\lib\\site-packages\\sklearn\\metrics\\classification.py:1439: UndefinedMetricWarning: Recall and F-score are ill-defined and being set to 0.0 in labels with no true samples.\n",
      "  'recall', 'true', average, warn_for)\n"
     ]
    }
   ],
   "source": [
    "# Build classification report\n",
    "re = classification_report(sklearn_y_test, y_testKNN, labels=[1,2,3,4,5,6,7,8,9], target_names=labels) \n",
    "print(re)\n",
    "print(\"Accuracy: {0}\".format(accuracy_score(sklearn_y_test, y_testKNN)))"
   ]
  },
  {
   "cell_type": "markdown",
   "metadata": {},
   "source": [
    "#### 3.4.4  Xgboost"
   ]
  },
  {
   "cell_type": "code",
   "execution_count": 43,
   "metadata": {},
   "outputs": [
    {
     "name": "stderr",
     "output_type": "stream",
     "text": [
      "C:\\Users\\user\\Anaconda3\\envs\\tf_gpu\\lib\\site-packages\\sklearn\\model_selection\\_split.py:1978: FutureWarning: The default value of cv will change from 3 to 5 in version 0.22. Specify it explicitly to silence this warning.\n",
      "  warnings.warn(CV_WARNING, FutureWarning)\n"
     ]
    },
    {
     "name": "stdout",
     "output_type": "stream",
     "text": [
      "Training completed in time of XGB:  0:00:25.433003\n"
     ]
    }
   ],
   "source": [
    "from xgboost import XGBClassifier\n",
    "\n",
    "start_xgb = datetime.now()\n",
    "\n",
    "parameters = {'max_depth':[6], 'eta':[0.3], 'objective':['multi:softprob ']}\n",
    "\n",
    "xclf = XGBClassifier()\n",
    "xgclf = GridSearchCV(xclf, param_grid=parameters)\n",
    "xgclf.fit(exTrain, sklearn_y_train)\n",
    "\n",
    "time_xgb = datetime.now() - start_xgb\n",
    "print(\"Training completed in time of XGB: \", time_xgb)\n",
    "file1 = open(os.path.join(models_path, 'time_' + file_name + \".txt\"),\"a\")\n",
    "file1.write('Time XGB:' +  str(time_xgb))\n",
    "file1.write('\\n')\n",
    "file1.close()"
   ]
  },
  {
   "cell_type": "code",
   "execution_count": 44,
   "metadata": {},
   "outputs": [
    {
     "data": {
      "text/plain": [
       "XGBClassifier(base_score=0.5, booster='gbtree', colsample_bylevel=1,\n",
       "              colsample_bynode=1, colsample_bytree=1, eta=0.3, gamma=0,\n",
       "              gpu_id=-1, importance_type='gain', interaction_constraints='',\n",
       "              learning_rate=0.300000012, max_delta_step=0, max_depth=6,\n",
       "              min_child_weight=1, missing=nan, monotone_constraints='()',\n",
       "              n_estimators=100, n_jobs=0, num_parallel_tree=1,\n",
       "              objective='multi:softprob', random_state=0, reg_alpha=0,\n",
       "              reg_lambda=1, scale_pos_weight=None, subsample=1,\n",
       "              tree_method='exact', validate_parameters=1, verbosity=None)"
      ]
     },
     "execution_count": 44,
     "metadata": {},
     "output_type": "execute_result"
    }
   ],
   "source": [
    "xclf = xgclf.best_estimator_\n",
    "xclf.fit(exTrain, sklearn_y_train)\n"
   ]
  },
  {
   "cell_type": "code",
   "execution_count": 45,
   "metadata": {},
   "outputs": [
    {
     "data": {
      "text/plain": [
       "'\\nhelpers.plot_confusion_matrix(cm_XGB,\\n                          labels, \\n                          normalized=False, \\n                          title=\"Model Performance\", \\n                          cmap=plt.cm.Blues,\\n                          size=(8,8))\\n'"
      ]
     },
     "execution_count": 45,
     "metadata": {},
     "output_type": "execute_result"
    }
   ],
   "source": [
    "y_testXGB = xclf.predict(exTest)\n",
    "\n",
    "cm_XGB = confusion_matrix(sklearn_y_test, y_testXGB)\n",
    "\n",
    "'''\n",
    "helpers.plot_confusion_matrix(cm_XGB,\n",
    "                          labels, \n",
    "                          normalized=False, \n",
    "                          title=\"Model Performance\", \n",
    "                          cmap=plt.cm.Blues,\n",
    "                          size=(8,8))\n",
    "'''"
   ]
  },
  {
   "cell_type": "code",
   "execution_count": 46,
   "metadata": {},
   "outputs": [
    {
     "name": "stdout",
     "output_type": "stream",
     "text": [
      "D:\\KISTI\\Project\\052020-Traffic-Sound\\Yi-Source-Code-3\\results\\acc_XGB\n",
      "  CLASS   ACCURACY\n",
      "0     1  89.463956\n",
      "1     2  93.783784\n",
      "2     3  93.408663\n",
      "3     4  93.560606\n",
      "4     5  90.670554\n",
      "5     6  92.193309\n"
     ]
    }
   ],
   "source": [
    "accuracies = helpers.acc_per_class(cm_XGB)\n",
    "result_acc = 'acc_XGB'\n",
    "result_path = os.path.join(results_path, result_acc)\n",
    "print(result_path)\n",
    "df=pd.DataFrame({\n",
    "    'CLASS': labels,\n",
    "    'ACCURACY': accuracies\n",
    "}).sort_values(by=\"CLASS\", ascending=True)\n",
    "\n",
    "print(df)\n",
    "\n",
    "df.to_csv(result_path + '.csv')"
   ]
  },
  {
   "cell_type": "code",
   "execution_count": 47,
   "metadata": {},
   "outputs": [
    {
     "name": "stdout",
     "output_type": "stream",
     "text": [
      "              precision    recall  f1-score   support\n",
      "\n",
      "           1       0.93      0.89      0.91       541\n",
      "           2       0.95      0.94      0.94       370\n",
      "           3       0.91      0.93      0.92       531\n",
      "           4       0.92      0.94      0.93       528\n",
      "           5       0.92      0.91      0.91       343\n",
      "           6       0.92      0.92      0.92       538\n",
      "\n",
      "   micro avg       0.92      0.92      0.92      2851\n",
      "   macro avg       0.62      0.61      0.61      2851\n",
      "weighted avg       0.92      0.92      0.92      2851\n",
      "\n",
      "Accuracy: 0.9217818309365136\n",
      "Precision: 0.9202509443454778\n",
      "Recall: 0.919326552086987\n",
      "F1-Score: 0.9194498820851249\n"
     ]
    },
    {
     "name": "stderr",
     "output_type": "stream",
     "text": [
      "C:\\Users\\user\\Anaconda3\\envs\\tf_gpu\\lib\\site-packages\\sklearn\\metrics\\classification.py:1870: UserWarning: labels size, 9, does not match size of target_names, 6\n",
      "  .format(len(labels), len(target_names))\n",
      "C:\\Users\\user\\Anaconda3\\envs\\tf_gpu\\lib\\site-packages\\sklearn\\metrics\\classification.py:1437: UndefinedMetricWarning: Precision and F-score are ill-defined and being set to 0.0 in labels with no predicted samples.\n",
      "  'precision', 'predicted', average, warn_for)\n",
      "C:\\Users\\user\\Anaconda3\\envs\\tf_gpu\\lib\\site-packages\\sklearn\\metrics\\classification.py:1439: UndefinedMetricWarning: Recall and F-score are ill-defined and being set to 0.0 in labels with no true samples.\n",
      "  'recall', 'true', average, warn_for)\n"
     ]
    }
   ],
   "source": [
    "# Build classification report\n",
    "re = classification_report(sklearn_y_test, y_testXGB, labels=[1,2,3,4,5,6,7,8,9], target_names=labels) \n",
    "print(re)\n",
    "print(\"Accuracy: {0}\".format(accuracy_score(sklearn_y_test, y_testXGB)))\n",
    "print(\"Precision: {0}\".format(precision_score(y_trues, yhat_probs, average='weighted')))\n",
    "print(\"Recall: {0}\".format(recall_score(y_trues, yhat_probs, average='weighted')))\n",
    "print(\"F1-Score: {0}\".format(f1_score(y_trues, yhat_probs, average='weighted')))"
   ]
  },
  {
   "cell_type": "code",
   "execution_count": null,
   "metadata": {},
   "outputs": [],
   "source": []
  },
  {
   "cell_type": "code",
   "execution_count": null,
   "metadata": {},
   "outputs": [],
   "source": []
  },
  {
   "cell_type": "code",
   "execution_count": null,
   "metadata": {},
   "outputs": [],
   "source": []
  },
  {
   "cell_type": "code",
   "execution_count": null,
   "metadata": {},
   "outputs": [],
   "source": []
  }
 ],
 "metadata": {
  "kernelspec": {
   "display_name": "Python 3",
   "language": "python",
   "name": "python3"
  },
  "language_info": {
   "codemirror_mode": {
    "name": "ipython",
    "version": 3
   },
   "file_extension": ".py",
   "mimetype": "text/x-python",
   "name": "python",
   "nbconvert_exporter": "python",
   "pygments_lexer": "ipython3",
   "version": "3.7.5"
  }
 },
 "nbformat": 4,
 "nbformat_minor": 2
}
