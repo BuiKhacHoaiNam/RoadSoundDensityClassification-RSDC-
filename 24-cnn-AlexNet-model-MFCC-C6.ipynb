{
 "cells": [
  {
   "cell_type": "markdown",
   "metadata": {
    "nbpresent": {
     "id": "bdb8f444-143c-49a8-948d-4b56e2cb457d"
    }
   },
   "source": [
    "# Basic CNN Model - Log-Mel Spectrograms\n",
    "\n"
   ]
  },
  {
   "cell_type": "markdown",
   "metadata": {
    "nbpresent": {
     "id": "bb86170e-2226-491a-8aec-e01925008746"
    }
   },
   "source": [
    "#### * Load required libraries"
   ]
  },
  {
   "cell_type": "code",
   "execution_count": 1,
   "metadata": {
    "nbpresent": {
     "id": "8afd8752-1ca6-4fe1-b14d-b16615d0199b"
    }
   },
   "outputs": [
    {
     "name": "stderr",
     "output_type": "stream",
     "text": [
      "Using TensorFlow backend.\n"
     ]
    }
   ],
   "source": [
    "import sys\n",
    "import os\n",
    "import IPython\n",
    "import math\n",
    "import numpy as np\n",
    "import pandas as pd\n",
    "import pickle\n",
    "import matplotlib.pyplot as plt\n",
    "%matplotlib inline\n",
    "\n",
    "import random\n",
    "from datetime import datetime\n",
    "from include import helpers\n",
    "\n",
    "from keras import backend as keras_backend\n",
    "from keras.models import Sequential, load_model\n",
    "from keras.layers import Dense, Dropout, Flatten, LeakyReLU, ReLU, SpatialDropout2D, Activation, Conv2D \n",
    "from keras.layers import MaxPooling2D, BatchNormalization, GlobalAveragePooling2D\n",
    "from keras.optimizers import Adam\n",
    "from keras.utils import np_utils, to_categorical, plot_model\n",
    "from keras.callbacks import EarlyStopping, ModelCheckpoint, ReduceLROnPlateau\n",
    "from keras.regularizers import l2\n",
    "\n",
    "from sklearn.preprocessing import LabelEncoder\n",
    "from sklearn.model_selection import train_test_split\n",
    "from sklearn.metrics import classification_report, precision_recall_fscore_support, confusion_matrix, accuracy_score, precision_score, recall_score, f1_score  "
   ]
  },
  {
   "cell_type": "markdown",
   "metadata": {},
   "source": [
    "#### * Setup"
   ]
  },
  {
   "cell_type": "code",
   "execution_count": 2,
   "metadata": {
    "nbpresent": {
     "id": "d0c78fb3-3f82-445b-9e39-7bb9c9f1edd3"
    }
   },
   "outputs": [],
   "source": [
    "# Set your path to the original dataset\n",
    "us8k_path = os.path.abspath('../Yi-Source-Code-3/input/vds_sound' )\n",
    "metadata_path = os.path.join(us8k_path, 'metadata/sound_vds15_vds16_14k.csv')\n",
    "audio_path = os.path.join(us8k_path, 'audio')\n"
   ]
  },
  {
   "cell_type": "code",
   "execution_count": 3,
   "metadata": {
    "nbpresent": {
     "id": "d0c78fb3-3f82-445b-9e39-7bb9c9f1edd3"
    }
   },
   "outputs": [],
   "source": [
    "models_path = os.path.abspath('./models')\n",
    "data_path = os.path.abspath('./data')\n",
    "results_path = os.path.abspath('./results')\n",
    "\n",
    "# Ensure \"channel last\" data format on Keras\n",
    "keras_backend.set_image_data_format('channels_last')"
   ]
  },
  {
   "cell_type": "code",
   "execution_count": 4,
   "metadata": {},
   "outputs": [],
   "source": [
    "# Required for the RTX GPU -- uncomment if using GTX or CPU\n",
    "import keras.backend as K\n",
    "import tensorflow as tf\n",
    "config = tf.ConfigProto()\n",
    "config.gpu_options.allow_growth = True\n",
    "K.set_session(tf.Session(config=config))"
   ]
  },
  {
   "cell_type": "code",
   "execution_count": 5,
   "metadata": {
    "nbpresent": {
     "id": "d0c78fb3-3f82-445b-9e39-7bb9c9f1edd3"
    }
   },
   "outputs": [],
   "source": [
    "# Define a labels array for future use\n",
    "#labels = ['9 am', '13 pm', '19 pm']\n",
    "#labels = ['morning', 'afternoon','evening']\n",
    "#labels = ['down_1', 'down_2','down_3', 'up_4','up_5','up_6']\n",
    "labels = ['1', '2','3', '4','5','6']"
   ]
  },
  {
   "cell_type": "markdown",
   "metadata": {
    "nbpresent": {
     "id": "a7b58aa0-2b3c-4854-a099-31d117ba74e1"
    }
   },
   "source": [
    "#### * Load data\n",
    "\n",
    "Data is an NumPy float32 array of shape (8732, 40, 174), 8732 samples with coefficients from Mel Spectrogram of 174 frames and 40 MEL bands. Each feature was scaled between -1 and 1 and zero-centered during extraction.<br/>\n",
    "<br/>"
   ]
  },
  {
   "cell_type": "code",
   "execution_count": 6,
   "metadata": {
    "nbpresent": {
     "id": "87d3ebd1-0d75-4ea4-8f12-9f891a72d3e2"
    }
   },
   "outputs": [],
   "source": [
    "# Pre-processed MFCC coefficients\n",
    "X = np.load(\"./data/X_C6_mfcc_40_14k.npy\")\n",
    "y = np.load(\"./data/y_C6_mfcc_40_14k.npy\")\n",
    "\n",
    "# Metadata\n",
    "metadata = pd.read_csv(metadata_path)"
   ]
  },
  {
   "cell_type": "markdown",
   "metadata": {
    "nbpresent": {
     "id": "f8043a00-6bfa-41ca-807f-a49d7430b65a"
    }
   },
   "source": [
    "### 1. Data preparation: features + metadata"
   ]
  },
  {
   "cell_type": "markdown",
   "metadata": {},
   "source": [
    "#### 1.1 Train / Test split\n",
    "Note that we are using the same index order for both the Mel Spectrogram arrays and the metadata to keep track of the origin of each feature.<br/>\n",
    "<br/>"
   ]
  },
  {
   "cell_type": "code",
   "execution_count": 7,
   "metadata": {},
   "outputs": [
    {
     "name": "stdout",
     "output_type": "stream",
     "text": [
      "Test split: 2851 \t\t Train split: 11404\n",
      "X test shape: (2851, 40, 173) \t X train shape: (11404, 40, 173)\n",
      "y test shape: (2851,) \t\t y train shape: (11404,)\n"
     ]
    }
   ],
   "source": [
    "indexes = []\n",
    "total = len(metadata)\n",
    "indexes = list(range(0, total))\n",
    "\n",
    "# Randomize indexes\n",
    "random.shuffle(indexes)\n",
    "\n",
    "# Divide the indexes into Train and Test\n",
    "test_split_pct = 20\n",
    "split_offset = math.floor(test_split_pct * total / 100)\n",
    "\n",
    "# Split the metadata\n",
    "test_split_idx = indexes[0:split_offset]\n",
    "train_split_idx = indexes[split_offset:total]\n",
    "\n",
    "\n",
    "# Split the features with the same indexes\n",
    "X_test = np.take(X, test_split_idx, axis=0)\n",
    "y_test = np.take(y, test_split_idx, axis=0)\n",
    "X_train = np.take(X, train_split_idx, axis=0)\n",
    "y_train = np.take(y, train_split_idx, axis=0)\n",
    "\n",
    "# Also split metadata\n",
    "test_meta = metadata.iloc[test_split_idx]\n",
    "train_meta = metadata.iloc[train_split_idx]\n",
    "\n",
    "# Print status\n",
    "print(\"Test split: {} \\t\\t Train split: {}\".format(len(test_meta), len(train_meta)))\n",
    "print(\"X test shape: {} \\t X train shape: {}\".format(X_test.shape, X_train.shape))\n",
    "print(\"y test shape: {} \\t\\t y train shape: {}\".format(y_test.shape, y_train.shape))"
   ]
  },
  {
   "cell_type": "markdown",
   "metadata": {},
   "source": [
    "#### 1.2 One hot encode labels"
   ]
  },
  {
   "cell_type": "code",
   "execution_count": 8,
   "metadata": {
    "nbpresent": {
     "id": "65b227e7-2fe5-4582-bd79-c9e9b1b85d4e"
    }
   },
   "outputs": [],
   "source": [
    "le = LabelEncoder()\n",
    "y_test_encoded = to_categorical(le.fit_transform(y_test))\n",
    "y_train_encoded = to_categorical(le.fit_transform(y_train))"
   ]
  },
  {
   "cell_type": "markdown",
   "metadata": {
    "nbpresent": {
     "id": "720605ff-4689-47dc-b142-023ea206a50c"
    }
   },
   "source": [
    "#### 1.3 Reshape data"
   ]
  },
  {
   "cell_type": "code",
   "execution_count": 9,
   "metadata": {
    "nbpresent": {
     "id": "d742676a-5a23-4fc8-856a-ad5505238d45"
    }
   },
   "outputs": [
    {
     "name": "stdout",
     "output_type": "stream",
     "text": [
      "number of labels= 6\n"
     ]
    }
   ],
   "source": [
    "# How data should be structured\n",
    "num_rows = 40\n",
    "num_columns = 173 \n",
    "num_channels = 1\n",
    "\n",
    "# Reshape to fit the network input (channel last)\n",
    "X_train = X_train.reshape(X_train.shape[0], num_rows, num_columns, num_channels)\n",
    "X_test = X_test.reshape(X_test.shape[0], num_rows, num_columns, num_channels)\n",
    "\n",
    "# Total number of labels to predict (equal to the network output nodes)\n",
    "num_labels = y_train_encoded.shape[1]\n",
    "print('number of labels=',num_labels)"
   ]
  },
  {
   "cell_type": "markdown",
   "metadata": {},
   "source": [
    "## 2. Basic CNN network\n",
    "\n",
    "We are using the exact same architecture than the previous notebook.\n",
    "<br/>"
   ]
  },
  {
   "cell_type": "markdown",
   "metadata": {
    "nbpresent": {
     "id": "23ae43f0-1d59-44ab-818d-54faeecf4f1c"
    }
   },
   "source": [
    "#### 2.1 Model definition\n",
    "\n"
   ]
  },
  {
   "cell_type": "code",
   "execution_count": 10,
   "metadata": {},
   "outputs": [
    {
     "name": "stdout",
     "output_type": "stream",
     "text": [
      "WARNING:tensorflow:From C:\\Users\\user\\Anaconda3\\envs\\tf_gpu\\lib\\site-packages\\tensorflow_core\\python\\ops\\resource_variable_ops.py:1630: calling BaseResourceVariable.__init__ (from tensorflow.python.ops.resource_variable_ops) with constraint is deprecated and will be removed in a future version.\n",
      "Instructions for updating:\n",
      "If using Keras pass *_constraint arguments to layers.\n",
      "WARNING:tensorflow:From C:\\Users\\user\\Anaconda3\\envs\\tf_gpu\\lib\\site-packages\\keras\\backend\\tensorflow_backend.py:4070: The name tf.nn.max_pool is deprecated. Please use tf.nn.max_pool2d instead.\n",
      "\n"
     ]
    }
   ],
   "source": [
    "def create_model_AlexNet(): \n",
    "#https://engmrk.com/alexnet-implementation-using-keras/\n",
    "    model = Sequential()\n",
    "    #conv 1 (40x173)\n",
    "    model.add(Conv2D(filters=96, kernel_size=(3, 3), activation='relu', padding='same',\n",
    "    input_shape=(num_rows, num_columns, num_channels)))      \n",
    "    model.add(MaxPooling2D(pool_size=(2, 2)))\n",
    "    model.add(Dropout(0.5)) \n",
    "\n",
    "    \n",
    "    #conv 2 (20x86)\n",
    "    model.add(Conv2D(filters=256, kernel_size=(3, 3), activation='relu',  padding='same')) \n",
    "    model.add(MaxPooling2D(pool_size=(2, 2)))\n",
    "    model.add(Dropout(0.5)) \n",
    " \n",
    "\n",
    "    #conv 3 (10x43)\n",
    "    model.add(Conv2D(filters=384, kernel_size=(3, 3), activation='relu',  padding='same')) \n",
    "    model.add(MaxPooling2D(pool_size=(2, 2)))\n",
    "    model.add(Dropout(0.5)) \n",
    "    \n",
    "    \n",
    "    #conv 4 (10x43)\n",
    "    model.add(Conv2D(filters=384, kernel_size=(3, 3), activation='relu',  padding='same')) \n",
    "    model.add(MaxPooling2D(pool_size=(2, 2)))\n",
    "    model.add(Dropout(0.5))\n",
    "\n",
    "    #conv 5 (10x43)\n",
    "    model.add(Conv2D(filters=256, kernel_size=(3,3), activation='relu',  padding='same'))  \n",
    "\n",
    "    \n",
    "    #conv 6 (5x23)\n",
    "    model.add(MaxPooling2D(pool_size=(2, 2)))\n",
    "    model.add(Flatten())\n",
    "     \n",
    "    #model.add(GlobalAveragePooling2D())\n",
    "    model.add(Dense(4096, activation='relu'))\n",
    "    model.add(Dropout(0.5)) \n",
    "    model.add(Dense(4096, activation='relu'))\n",
    "    model.add(Dropout(0.5)) \n",
    "    model.add(Dense(num_labels, activation='softmax'))\n",
    "    \n",
    "    return model\n",
    "\n",
    "model = create_model_AlexNet() \n"
   ]
  },
  {
   "cell_type": "code",
   "execution_count": 11,
   "metadata": {
    "nbpresent": {
     "id": "b56bca3e-3fd0-4033-9d13-20db795d02f0"
    },
    "scrolled": false
   },
   "outputs": [
    {
     "name": "stdout",
     "output_type": "stream",
     "text": [
      "Model: \"sequential_1\"\n",
      "_________________________________________________________________\n",
      "Layer (type)                 Output Shape              Param #   \n",
      "=================================================================\n",
      "conv2d_1 (Conv2D)            (None, 40, 173, 96)       960       \n",
      "_________________________________________________________________\n",
      "max_pooling2d_1 (MaxPooling2 (None, 20, 86, 96)        0         \n",
      "_________________________________________________________________\n",
      "dropout_1 (Dropout)          (None, 20, 86, 96)        0         \n",
      "_________________________________________________________________\n",
      "conv2d_2 (Conv2D)            (None, 20, 86, 256)       221440    \n",
      "_________________________________________________________________\n",
      "max_pooling2d_2 (MaxPooling2 (None, 10, 43, 256)       0         \n",
      "_________________________________________________________________\n",
      "dropout_2 (Dropout)          (None, 10, 43, 256)       0         \n",
      "_________________________________________________________________\n",
      "conv2d_3 (Conv2D)            (None, 10, 43, 384)       885120    \n",
      "_________________________________________________________________\n",
      "max_pooling2d_3 (MaxPooling2 (None, 5, 21, 384)        0         \n",
      "_________________________________________________________________\n",
      "dropout_3 (Dropout)          (None, 5, 21, 384)        0         \n",
      "_________________________________________________________________\n",
      "conv2d_4 (Conv2D)            (None, 5, 21, 384)        1327488   \n",
      "_________________________________________________________________\n",
      "max_pooling2d_4 (MaxPooling2 (None, 2, 10, 384)        0         \n",
      "_________________________________________________________________\n",
      "dropout_4 (Dropout)          (None, 2, 10, 384)        0         \n",
      "_________________________________________________________________\n",
      "conv2d_5 (Conv2D)            (None, 2, 10, 256)        884992    \n",
      "_________________________________________________________________\n",
      "max_pooling2d_5 (MaxPooling2 (None, 1, 5, 256)         0         \n",
      "_________________________________________________________________\n",
      "flatten_1 (Flatten)          (None, 1280)              0         \n",
      "_________________________________________________________________\n",
      "dense_1 (Dense)              (None, 4096)              5246976   \n",
      "_________________________________________________________________\n",
      "dropout_5 (Dropout)          (None, 4096)              0         \n",
      "_________________________________________________________________\n",
      "dense_2 (Dense)              (None, 4096)              16781312  \n",
      "_________________________________________________________________\n",
      "dropout_6 (Dropout)          (None, 4096)              0         \n",
      "_________________________________________________________________\n",
      "dense_3 (Dense)              (None, 6)                 24582     \n",
      "=================================================================\n",
      "Total params: 25,372,870\n",
      "Trainable params: 25,372,870\n",
      "Non-trainable params: 0\n",
      "_________________________________________________________________\n"
     ]
    }
   ],
   "source": [
    "adam = Adam(lr=2e-4, beta_1=0.9, beta_2=0.999,epsilon=1e-08, decay=0.0)\n",
    "model.compile(\n",
    "    loss='categorical_crossentropy', \n",
    "    metrics=['accuracy'], \n",
    "    optimizer=adam)\n",
    "\n",
    "# Display model architecture summary \n",
    "model.summary()"
   ]
  },
  {
   "cell_type": "code",
   "execution_count": 12,
   "metadata": {
    "scrolled": false,
    "tags": [
     "outputPrepend",
     "outputPrepend",
     "outputPrepend",
     "outputPrepend",
     "outputPrepend",
     "outputPrepend",
     "outputPrepend",
     "outputPrepend",
     "outputPrepend",
     "outputPrepend",
     "outputPrepend",
     "outputPrepend",
     "outputPrepend",
     "outputPrepend",
     "outputPrepend",
     "outputPrepend",
     "outputPrepend",
     "outputPrepend",
     "outputPrepend",
     "outputPrepend",
     "outputPrepend",
     "outputPrepend",
     "outputPrepend",
     "outputPrepend",
     "outputPrepend",
     "outputPrepend",
     "outputPrepend",
     "outputPrepend",
     "outputPrepend",
     "outputPrepend",
     "outputPrepend",
     "outputPrepend",
     "outputPrepend",
     "outputPrepend",
     "outputPrepend",
     "outputPrepend",
     "outputPrepend",
     "outputPrepend",
     "outputPrepend",
     "outputPrepend",
     "outputPrepend",
     "outputPrepend",
     "outputPrepend",
     "outputPrepend",
     "outputPrepend",
     "outputPrepend",
     "outputPrepend",
     "outputPrepend",
     "outputPrepend"
    ]
   },
   "outputs": [
    {
     "name": "stdout",
     "output_type": "stream",
     "text": [
      "WARNING:tensorflow:From C:\\Users\\user\\Anaconda3\\envs\\tf_gpu\\lib\\site-packages\\keras\\backend\\tensorflow_backend.py:422: The name tf.global_variables is deprecated. Please use tf.compat.v1.global_variables instead.\n",
      "\n",
      "Train on 10263 samples, validate on 1141 samples\n",
      "Epoch 1/200\n",
      "10263/10263 [==============================] - 11s 1ms/step - loss: 1.7677 - accuracy: 0.1920 - val_loss: 1.7536 - val_accuracy: 0.2428\n",
      "\n",
      "Epoch 00001: val_loss improved from inf to 1.75357, saving model to D:\\KISTI\\Project\\052020-Traffic-Sound\\Yi-Source-Code-3\\models\\conv5_gap_train_C6_mels_40.hdf5\n",
      "Epoch 2/200\n",
      "10263/10263 [==============================] - 6s 631us/step - loss: 1.4693 - accuracy: 0.3786 - val_loss: 1.3844 - val_accuracy: 0.4461\n",
      "\n",
      "Epoch 00002: val_loss improved from 1.75357 to 1.38436, saving model to D:\\KISTI\\Project\\052020-Traffic-Sound\\Yi-Source-Code-3\\models\\conv5_gap_train_C6_mels_40.hdf5\n",
      "Epoch 3/200\n",
      "10263/10263 [==============================] - 6s 632us/step - loss: 1.1065 - accuracy: 0.5661 - val_loss: 0.9721 - val_accuracy: 0.6521\n",
      "\n",
      "Epoch 00003: val_loss improved from 1.38436 to 0.97209, saving model to D:\\KISTI\\Project\\052020-Traffic-Sound\\Yi-Source-Code-3\\models\\conv5_gap_train_C6_mels_40.hdf5\n",
      "Epoch 4/200\n",
      "10263/10263 [==============================] - 6s 629us/step - loss: 0.7791 - accuracy: 0.7152 - val_loss: 0.8119 - val_accuracy: 0.7581\n",
      "\n",
      "Epoch 00004: val_loss improved from 0.97209 to 0.81193, saving model to D:\\KISTI\\Project\\052020-Traffic-Sound\\Yi-Source-Code-3\\models\\conv5_gap_train_C6_mels_40.hdf5\n",
      "Epoch 5/200\n",
      "10263/10263 [==============================] - 6s 625us/step - loss: 0.6360 - accuracy: 0.7714 - val_loss: 0.5824 - val_accuracy: 0.7949\n",
      "\n",
      "Epoch 00005: val_loss improved from 0.81193 to 0.58240, saving model to D:\\KISTI\\Project\\052020-Traffic-Sound\\Yi-Source-Code-3\\models\\conv5_gap_train_C6_mels_40.hdf5\n",
      "Epoch 6/200\n",
      "10263/10263 [==============================] - 6s 626us/step - loss: 0.5455 - accuracy: 0.8106 - val_loss: 0.5032 - val_accuracy: 0.8405\n",
      "\n",
      "Epoch 00006: val_loss improved from 0.58240 to 0.50317, saving model to D:\\KISTI\\Project\\052020-Traffic-Sound\\Yi-Source-Code-3\\models\\conv5_gap_train_C6_mels_40.hdf5\n",
      "Epoch 7/200\n",
      "10263/10263 [==============================] - 6s 626us/step - loss: 0.4890 - accuracy: 0.8282 - val_loss: 0.4645 - val_accuracy: 0.8510\n",
      "\n",
      "Epoch 00007: val_loss improved from 0.50317 to 0.46453, saving model to D:\\KISTI\\Project\\052020-Traffic-Sound\\Yi-Source-Code-3\\models\\conv5_gap_train_C6_mels_40.hdf5\n",
      "Epoch 8/200\n",
      "10263/10263 [==============================] - 6s 625us/step - loss: 0.4626 - accuracy: 0.8391 - val_loss: 0.4863 - val_accuracy: 0.8379\n",
      "\n",
      "Epoch 00008: val_loss did not improve from 0.46453\n",
      "Epoch 9/200\n",
      "10263/10263 [==============================] - 6s 624us/step - loss: 0.4067 - accuracy: 0.8607 - val_loss: 0.6300 - val_accuracy: 0.7695\n",
      "\n",
      "Epoch 00009: val_loss did not improve from 0.46453\n",
      "Epoch 10/200\n",
      "10263/10263 [==============================] - 6s 625us/step - loss: 0.3975 - accuracy: 0.8634 - val_loss: 0.4026 - val_accuracy: 0.8615\n",
      "\n",
      "Epoch 00010: val_loss improved from 0.46453 to 0.40264, saving model to D:\\KISTI\\Project\\052020-Traffic-Sound\\Yi-Source-Code-3\\models\\conv5_gap_train_C6_mels_40.hdf5\n",
      "Epoch 11/200\n",
      "10263/10263 [==============================] - 6s 626us/step - loss: 0.3576 - accuracy: 0.8758 - val_loss: 0.3534 - val_accuracy: 0.8826\n",
      "\n",
      "Epoch 00011: val_loss improved from 0.40264 to 0.35341, saving model to D:\\KISTI\\Project\\052020-Traffic-Sound\\Yi-Source-Code-3\\models\\conv5_gap_train_C6_mels_40.hdf5\n",
      "Epoch 12/200\n",
      "10263/10263 [==============================] - 6s 625us/step - loss: 0.3424 - accuracy: 0.8817 - val_loss: 0.3720 - val_accuracy: 0.8764\n",
      "\n",
      "Epoch 00012: val_loss did not improve from 0.35341\n",
      "Epoch 13/200\n",
      "10263/10263 [==============================] - 6s 624us/step - loss: 0.3082 - accuracy: 0.8933 - val_loss: 0.3984 - val_accuracy: 0.8650\n",
      "\n",
      "Epoch 00013: val_loss did not improve from 0.35341\n",
      "Epoch 14/200\n",
      "10263/10263 [==============================] - 6s 625us/step - loss: 0.2858 - accuracy: 0.8992 - val_loss: 0.3137 - val_accuracy: 0.8922\n",
      "\n",
      "Epoch 00014: val_loss improved from 0.35341 to 0.31365, saving model to D:\\KISTI\\Project\\052020-Traffic-Sound\\Yi-Source-Code-3\\models\\conv5_gap_train_C6_mels_40.hdf5\n",
      "Epoch 15/200\n",
      "10263/10263 [==============================] - 6s 626us/step - loss: 0.2870 - accuracy: 0.9006 - val_loss: 0.2990 - val_accuracy: 0.9062\n",
      "\n",
      "Epoch 00015: val_loss improved from 0.31365 to 0.29902, saving model to D:\\KISTI\\Project\\052020-Traffic-Sound\\Yi-Source-Code-3\\models\\conv5_gap_train_C6_mels_40.hdf5\n",
      "Epoch 16/200\n",
      "10263/10263 [==============================] - 6s 626us/step - loss: 0.2600 - accuracy: 0.9105 - val_loss: 0.3839 - val_accuracy: 0.8791\n",
      "\n",
      "Epoch 00016: val_loss did not improve from 0.29902\n",
      "Epoch 17/200\n",
      "10263/10263 [==============================] - 6s 627us/step - loss: 0.2404 - accuracy: 0.9171 - val_loss: 0.4014 - val_accuracy: 0.8615\n",
      "\n",
      "Epoch 00017: val_loss did not improve from 0.29902\n",
      "Epoch 18/200\n",
      "10263/10263 [==============================] - 6s 626us/step - loss: 0.2271 - accuracy: 0.9221 - val_loss: 0.4162 - val_accuracy: 0.8554\n",
      "\n",
      "Epoch 00018: val_loss did not improve from 0.29902\n",
      "Epoch 19/200\n",
      "10263/10263 [==============================] - 6s 627us/step - loss: 0.2139 - accuracy: 0.9230 - val_loss: 0.2958 - val_accuracy: 0.9010\n",
      "\n",
      "Epoch 00019: val_loss improved from 0.29902 to 0.29582, saving model to D:\\KISTI\\Project\\052020-Traffic-Sound\\Yi-Source-Code-3\\models\\conv5_gap_train_C6_mels_40.hdf5\n",
      "Epoch 20/200\n",
      "10263/10263 [==============================] - 6s 627us/step - loss: 0.1984 - accuracy: 0.9298 - val_loss: 0.3206 - val_accuracy: 0.8948\n",
      "\n",
      "Epoch 00020: val_loss did not improve from 0.29582\n",
      "Epoch 21/200\n",
      "10263/10263 [==============================] - 6s 626us/step - loss: 0.1971 - accuracy: 0.9315 - val_loss: 0.2790 - val_accuracy: 0.9018\n",
      "\n",
      "Epoch 00021: val_loss improved from 0.29582 to 0.27904, saving model to D:\\KISTI\\Project\\052020-Traffic-Sound\\Yi-Source-Code-3\\models\\conv5_gap_train_C6_mels_40.hdf5\n",
      "Epoch 22/200\n",
      "10263/10263 [==============================] - 6s 625us/step - loss: 0.1772 - accuracy: 0.9383 - val_loss: 0.2667 - val_accuracy: 0.9124\n",
      "\n",
      "Epoch 00022: val_loss improved from 0.27904 to 0.26671, saving model to D:\\KISTI\\Project\\052020-Traffic-Sound\\Yi-Source-Code-3\\models\\conv5_gap_train_C6_mels_40.hdf5\n",
      "Epoch 23/200\n",
      "10263/10263 [==============================] - 6s 626us/step - loss: 0.1599 - accuracy: 0.9434 - val_loss: 0.3213 - val_accuracy: 0.8940\n",
      "\n",
      "Epoch 00023: val_loss did not improve from 0.26671\n",
      "Epoch 24/200\n",
      "10263/10263 [==============================] - 6s 626us/step - loss: 0.1589 - accuracy: 0.9436 - val_loss: 0.2665 - val_accuracy: 0.9036\n",
      "\n",
      "Epoch 00024: val_loss improved from 0.26671 to 0.26648, saving model to D:\\KISTI\\Project\\052020-Traffic-Sound\\Yi-Source-Code-3\\models\\conv5_gap_train_C6_mels_40.hdf5\n",
      "Epoch 25/200\n",
      "10263/10263 [==============================] - 6s 628us/step - loss: 0.1512 - accuracy: 0.9470 - val_loss: 0.2655 - val_accuracy: 0.9097\n",
      "\n",
      "Epoch 00025: val_loss improved from 0.26648 to 0.26550, saving model to D:\\KISTI\\Project\\052020-Traffic-Sound\\Yi-Source-Code-3\\models\\conv5_gap_train_C6_mels_40.hdf5\n",
      "Epoch 26/200\n",
      "10263/10263 [==============================] - 6s 626us/step - loss: 0.1478 - accuracy: 0.9462 - val_loss: 0.2820 - val_accuracy: 0.9089\n",
      "\n",
      "Epoch 00026: val_loss did not improve from 0.26550\n",
      "Epoch 27/200\n",
      "10263/10263 [==============================] - 6s 625us/step - loss: 0.1294 - accuracy: 0.9533 - val_loss: 0.3151 - val_accuracy: 0.9010\n",
      "\n",
      "Epoch 00027: val_loss did not improve from 0.26550\n",
      "Epoch 28/200\n",
      "10263/10263 [==============================] - 6s 625us/step - loss: 0.1306 - accuracy: 0.9562 - val_loss: 0.2987 - val_accuracy: 0.9062\n",
      "\n",
      "Epoch 00028: val_loss did not improve from 0.26550\n",
      "Epoch 29/200\n",
      "10263/10263 [==============================] - 6s 626us/step - loss: 0.1177 - accuracy: 0.9590 - val_loss: 0.3050 - val_accuracy: 0.9036\n",
      "\n",
      "Epoch 00029: val_loss did not improve from 0.26550\n",
      "Epoch 30/200\n",
      "10263/10263 [==============================] - 7s 637us/step - loss: 0.1152 - accuracy: 0.9583 - val_loss: 0.2751 - val_accuracy: 0.9211\n",
      "\n",
      "Epoch 00030: val_loss did not improve from 0.26550\n",
      "Epoch 31/200\n"
     ]
    },
    {
     "name": "stdout",
     "output_type": "stream",
     "text": [
      "10263/10263 [==============================] - 7s 636us/step - loss: 0.1027 - accuracy: 0.9628 - val_loss: 0.3646 - val_accuracy: 0.8931\n",
      "\n",
      "Epoch 00031: val_loss did not improve from 0.26550\n",
      "Epoch 32/200\n",
      "10263/10263 [==============================] - 7s 637us/step - loss: 0.1040 - accuracy: 0.9643 - val_loss: 0.3895 - val_accuracy: 0.8826\n",
      "\n",
      "Epoch 00032: val_loss did not improve from 0.26550\n",
      "Epoch 33/200\n",
      "10263/10263 [==============================] - 7s 635us/step - loss: 0.0912 - accuracy: 0.9674 - val_loss: 0.3631 - val_accuracy: 0.8983\n",
      "\n",
      "Epoch 00033: val_loss did not improve from 0.26550\n",
      "Epoch 34/200\n",
      "10263/10263 [==============================] - 6s 633us/step - loss: 0.0962 - accuracy: 0.9662 - val_loss: 0.3087 - val_accuracy: 0.9080\n",
      "\n",
      "Epoch 00034: val_loss did not improve from 0.26550\n",
      "Epoch 35/200\n",
      "10263/10263 [==============================] - 6s 632us/step - loss: 0.0940 - accuracy: 0.9670 - val_loss: 0.2829 - val_accuracy: 0.9132\n",
      "\n",
      "Epoch 00035: ReduceLROnPlateau reducing learning rate to 1.9999999494757503e-05.\n",
      "\n",
      "Epoch 00035: val_loss did not improve from 0.26550\n",
      "Epoch 36/200\n",
      "10263/10263 [==============================] - 6s 632us/step - loss: 0.0566 - accuracy: 0.9822 - val_loss: 0.2859 - val_accuracy: 0.9159\n",
      "\n",
      "Epoch 00036: val_loss did not improve from 0.26550\n",
      "Epoch 37/200\n",
      "10263/10263 [==============================] - 6s 633us/step - loss: 0.0431 - accuracy: 0.9855 - val_loss: 0.2912 - val_accuracy: 0.9150\n",
      "\n",
      "Epoch 00037: val_loss did not improve from 0.26550\n",
      "Epoch 38/200\n",
      "10263/10263 [==============================] - 7s 636us/step - loss: 0.0413 - accuracy: 0.9857 - val_loss: 0.2989 - val_accuracy: 0.9115\n",
      "\n",
      "Epoch 00038: val_loss did not improve from 0.26550\n",
      "Epoch 39/200\n",
      "10263/10263 [==============================] - 6s 633us/step - loss: 0.0377 - accuracy: 0.9862 - val_loss: 0.3000 - val_accuracy: 0.9159\n",
      "\n",
      "Epoch 00039: val_loss did not improve from 0.26550\n",
      "Epoch 40/200\n",
      "10263/10263 [==============================] - 7s 635us/step - loss: 0.0334 - accuracy: 0.9897 - val_loss: 0.3074 - val_accuracy: 0.9176\n",
      "\n",
      "Epoch 00040: val_loss did not improve from 0.26550\n",
      "Epoch 41/200\n",
      "10263/10263 [==============================] - 7s 634us/step - loss: 0.0318 - accuracy: 0.9905 - val_loss: 0.3038 - val_accuracy: 0.9167\n",
      "\n",
      "Epoch 00041: val_loss did not improve from 0.26550\n",
      "Epoch 42/200\n",
      "10263/10263 [==============================] - 7s 634us/step - loss: 0.0294 - accuracy: 0.9894 - val_loss: 0.3246 - val_accuracy: 0.9176\n",
      "\n",
      "Epoch 00042: val_loss did not improve from 0.26550\n",
      "Epoch 43/200\n",
      "10263/10263 [==============================] - 7s 634us/step - loss: 0.0326 - accuracy: 0.9886 - val_loss: 0.3203 - val_accuracy: 0.9202\n",
      "\n",
      "Epoch 00043: val_loss did not improve from 0.26550\n",
      "Epoch 44/200\n",
      "10263/10263 [==============================] - 7s 636us/step - loss: 0.0324 - accuracy: 0.9889 - val_loss: 0.3223 - val_accuracy: 0.9141\n",
      "\n",
      "Epoch 00044: val_loss did not improve from 0.26550\n",
      "Epoch 45/200\n",
      "10263/10263 [==============================] - 7s 635us/step - loss: 0.0295 - accuracy: 0.9894 - val_loss: 0.3227 - val_accuracy: 0.9141\n",
      "\n",
      "Epoch 00045: ReduceLROnPlateau reducing learning rate to 1.9999999494757505e-06.\n",
      "\n",
      "Epoch 00045: val_loss did not improve from 0.26550\n",
      "Epoch 46/200\n",
      "10263/10263 [==============================] - 7s 636us/step - loss: 0.0265 - accuracy: 0.9909 - val_loss: 0.3271 - val_accuracy: 0.9150\n",
      "\n",
      "Epoch 00046: val_loss did not improve from 0.26550\n",
      "Epoch 47/200\n",
      "10263/10263 [==============================] - 7s 635us/step - loss: 0.0250 - accuracy: 0.9920 - val_loss: 0.3224 - val_accuracy: 0.9176\n",
      "\n",
      "Epoch 00047: val_loss did not improve from 0.26550\n",
      "Epoch 48/200\n",
      "10263/10263 [==============================] - 7s 635us/step - loss: 0.0249 - accuracy: 0.9916 - val_loss: 0.3241 - val_accuracy: 0.9194\n",
      "\n",
      "Epoch 00048: val_loss did not improve from 0.26550\n",
      "Epoch 49/200\n",
      "10263/10263 [==============================] - 7s 634us/step - loss: 0.0244 - accuracy: 0.9922 - val_loss: 0.3202 - val_accuracy: 0.9185\n",
      "\n",
      "Epoch 00049: val_loss did not improve from 0.26550\n",
      "Epoch 50/200\n",
      "10263/10263 [==============================] - 7s 635us/step - loss: 0.0277 - accuracy: 0.9905 - val_loss: 0.3241 - val_accuracy: 0.9176\n",
      "\n",
      "Epoch 00050: val_loss did not improve from 0.26550\n",
      "Epoch 51/200\n",
      "10263/10263 [==============================] - 7s 635us/step - loss: 0.0266 - accuracy: 0.9906 - val_loss: 0.3274 - val_accuracy: 0.9159\n",
      "\n",
      "Epoch 00051: val_loss did not improve from 0.26550\n",
      "Epoch 52/200\n",
      "10263/10263 [==============================] - 7s 635us/step - loss: 0.0273 - accuracy: 0.9908 - val_loss: 0.3190 - val_accuracy: 0.9194\n",
      "\n",
      "Epoch 00052: val_loss did not improve from 0.26550\n",
      "Epoch 53/200\n",
      "10263/10263 [==============================] - 7s 634us/step - loss: 0.0247 - accuracy: 0.9924 - val_loss: 0.3227 - val_accuracy: 0.9176\n",
      "\n",
      "Epoch 00053: val_loss did not improve from 0.26550\n",
      "Epoch 54/200\n",
      "10263/10263 [==============================] - 7s 634us/step - loss: 0.0254 - accuracy: 0.9913 - val_loss: 0.3278 - val_accuracy: 0.9185\n",
      "\n",
      "Epoch 00054: val_loss did not improve from 0.26550\n",
      "Epoch 55/200\n",
      "10263/10263 [==============================] - 7s 634us/step - loss: 0.0271 - accuracy: 0.9896 - val_loss: 0.3261 - val_accuracy: 0.9159\n",
      "\n",
      "Epoch 00055: ReduceLROnPlateau reducing learning rate to 1e-06.\n",
      "\n",
      "Epoch 00055: val_loss did not improve from 0.26550\n",
      "Training completed in time:  0:06:37.965574\n"
     ]
    }
   ],
   "source": [
    "num_epochs = 200\n",
    "num_batch_size = 64\n",
    "model_file = 'conv5_gap_train_C6_mels_40.hdf5'\n",
    "model_path = os.path.join(models_path, model_file)\n",
    "\n",
    "\n",
    "\n",
    "# Save checkpoints\n",
    "\n",
    "early_stopping = EarlyStopping(patience = 30) \n",
    "checkpointer = ModelCheckpoint(filepath=model_path, \n",
    "                               verbose=1, save_best_only=True)\n",
    "callback_reduce_lr=ReduceLROnPlateau(monitor='val_loss',\n",
    "                                     factor=0.1,\n",
    "                                     min_lr=1e-6,\n",
    "                                     patience=10,\n",
    "                                     verbose=1)\n",
    "start = datetime.now()\n",
    "history = model.fit(X_train, \n",
    "                    y_train_encoded, \n",
    "                    batch_size=num_batch_size, \n",
    "                    epochs=num_epochs, \n",
    "                    validation_split=0.1,\n",
    "                    callbacks=[early_stopping, callback_reduce_lr, checkpointer], \n",
    "                    verbose=1)\n",
    "duration = datetime.now() - start\n",
    "print(\"Training completed in time: \", duration)\n"
   ]
  },
  {
   "cell_type": "markdown",
   "metadata": {},
   "source": [
    "#### 2.4 General model evaluation\n",
    "Note that we first load the checkpoint with the lowest validation loss achieved during training."
   ]
  },
  {
   "cell_type": "code",
   "execution_count": 13,
   "metadata": {
    "scrolled": false
   },
   "outputs": [
    {
     "name": "stdout",
     "output_type": "stream",
     "text": [
      "                    LOSS      ACCURACY\n",
      "--------------------------------------\n",
      "Training:         0.0415       99.0004\n",
      "Test:             0.2673       92.7394\n",
      "Normal diff         84.48 \n"
     ]
    }
   ],
   "source": [
    "# Load best saved model\n",
    "# model = load_model(model_path)\n",
    "\n",
    "helpers.model_evaluation_report(model, X_train, y_train_encoded, X_test, y_test_encoded)"
   ]
  },
  {
   "cell_type": "markdown",
   "metadata": {},
   "source": [
    "Compared with the previous evaluation the model was able to train for more epochs when using Mel Spectrograms, and consequently, a higher accuracy and lower error where achieved.<br/>"
   ]
  },
  {
   "cell_type": "code",
   "execution_count": 14,
   "metadata": {
    "nbpresent": {
     "id": "19f196f8-c2b5-4c56-ba54-4c145b7023ad"
    },
    "scrolled": false
   },
   "outputs": [
    {
     "data": {
      "image/png": "[encoded data removed]",
      "text/plain": [
       "<Figure size 1440x792 with 1 Axes>"
      ]
     },
     "metadata": {
      "needs_background": "light"
     },
     "output_type": "display_data"
    },
    {
     "data": {
      "image/png": "[encoded data removed]",
      "text/plain": [
       "<Figure size 1440x792 with 1 Axes>"
      ]
     },
     "metadata": {
      "needs_background": "light"
     },
     "output_type": "display_data"
    }
   ],
   "source": [
    "helpers.plot_train_history(history, x_ticks_vertical=True)"
   ]
  },
  {
   "cell_type": "code",
   "execution_count": 15,
   "metadata": {},
   "outputs": [
    {
     "name": "stderr",
     "output_type": "stream",
     "text": [
      "C:\\Users\\user\\Anaconda3\\envs\\tf_gpu\\lib\\site-packages\\ipykernel_launcher.py:7: SettingWithCopyWarning: \n",
      "A value is trying to be set on a copy of a slice from a DataFrame.\n",
      "Try using .loc[row_indexer,col_indexer] = value instead\n",
      "\n",
      "See the caveats in the documentation: http://pandas.pydata.org/pandas-docs/stable/user_guide/indexing.html#returning-a-view-versus-a-copy\n",
      "  import sys\n"
     ]
    }
   ],
   "source": [
    "# Predict probabilities for test set\n",
    "y_probs = model.predict(X_test, verbose=0)\n",
    "yhat_probs = np.argmax(y_probs, axis=1)\n",
    "y_trues = np.argmax(y_test_encoded, axis=1)\n",
    "\n",
    "# Add \"pred\" column\n",
    "test_meta['pred'] = yhat_probs"
   ]
  },
  {
   "cell_type": "code",
   "execution_count": 16,
   "metadata": {},
   "outputs": [
    {
     "data": {
      "image/png": "[encoded data removed]",
      "text/plain": [
       "<Figure size 576x576 with 2 Axes>"
      ]
     },
     "metadata": {
      "needs_background": "light"
     },
     "output_type": "display_data"
    }
   ],
   "source": [
    "import importlib\n",
    "importlib.reload(helpers)\n",
    "\n",
    "# Sets decimal precision (for printing output only)\n",
    "np.set_printoptions(precision=2)\n",
    "\n",
    "# Compute confusion matrix data\n",
    "cm = confusion_matrix(y_trues, yhat_probs)\n",
    "\n",
    "helpers.plot_confusion_matrix(cm,\n",
    "                          labels, \n",
    "                          normalized=False, \n",
    "                          title=\"Model Performance\", \n",
    "                          cmap=plt.cm.Blues,\n",
    "                          size=(8,8))"
   ]
  },
  {
   "cell_type": "code",
   "execution_count": 17,
   "metadata": {
    "scrolled": false
   },
   "outputs": [
    {
     "name": "stdout",
     "output_type": "stream",
     "text": [
      "  CLASS   ACCURACY\n",
      "0     1  90.607735\n",
      "1     2  91.553134\n",
      "2     3  91.279070\n",
      "3     4  92.066421\n",
      "4     5  95.942029\n",
      "5     6  95.724907\n"
     ]
    }
   ],
   "source": [
    "# Find per-class accuracy from the confusion matrix data\n",
    "accuracies = helpers.acc_per_class(cm)\n",
    "result_acc = 'acc_' + model_file\n",
    "result_path = os.path.join(results_path, result_acc)\n",
    "\n",
    "df=pd.DataFrame({\n",
    "    'CLASS': labels,\n",
    "    'ACCURACY': accuracies\n",
    "}).sort_values(by=\"CLASS\", ascending=True)\n",
    "\n",
    "print(df)\n",
    "\n",
    "df.to_csv(result_path + '.csv')"
   ]
  },
  {
   "cell_type": "code",
   "execution_count": 18,
   "metadata": {
    "scrolled": false
   },
   "outputs": [
    {
     "name": "stdout",
     "output_type": "stream",
     "text": [
      "              precision    recall  f1-score   support\n",
      "\n",
      "           1       0.95      0.91      0.93       543\n",
      "           2       0.95      0.92      0.93       367\n",
      "           3       0.89      0.91      0.90       516\n",
      "           4       0.97      0.92      0.94       542\n",
      "           5       0.88      0.96      0.92       345\n",
      "           6       0.93      0.96      0.94       538\n",
      "\n",
      "   micro avg       0.93      0.93      0.93      2851\n",
      "   macro avg       0.56      0.56      0.56      2851\n",
      "weighted avg       0.93      0.93      0.93      2851\n",
      "\n",
      "Accuracy: 0.9273938968782883\n",
      "Precision: 0.9288335061706189\n",
      "Recall: 0.9273938968782883\n",
      "F1-Score: 0.9275638103087186\n"
     ]
    },
    {
     "name": "stderr",
     "output_type": "stream",
     "text": [
      "C:\\Users\\user\\Anaconda3\\envs\\tf_gpu\\lib\\site-packages\\sklearn\\metrics\\classification.py:1870: UserWarning: labels size, 10, does not match size of target_names, 6\n",
      "  .format(len(labels), len(target_names))\n",
      "C:\\Users\\user\\Anaconda3\\envs\\tf_gpu\\lib\\site-packages\\sklearn\\metrics\\classification.py:1437: UndefinedMetricWarning: Precision and F-score are ill-defined and being set to 0.0 in labels with no predicted samples.\n",
      "  'precision', 'predicted', average, warn_for)\n",
      "C:\\Users\\user\\Anaconda3\\envs\\tf_gpu\\lib\\site-packages\\sklearn\\metrics\\classification.py:1439: UndefinedMetricWarning: Recall and F-score are ill-defined and being set to 0.0 in labels with no true samples.\n",
      "  'recall', 'true', average, warn_for)\n"
     ]
    }
   ],
   "source": [
    "# Build classification report\n",
    "re = classification_report(y_trues, yhat_probs, labels=[0,1,2,3,4,5,6,7,8,9], target_names=labels) \n",
    "print(re)\n",
    "print(\"Accuracy: {0}\".format(accuracy_score(y_trues, yhat_probs)))\n",
    "print(\"Precision: {0}\".format(precision_score(y_trues, yhat_probs, average='weighted')))\n",
    "print(\"Recall: {0}\".format(recall_score(y_trues, yhat_probs, average='weighted')))\n",
    "print(\"F1-Score: {0}\".format(f1_score(y_trues, yhat_probs, average='weighted')))"
   ]
  },
  {
   "cell_type": "code",
   "execution_count": null,
   "metadata": {},
   "outputs": [],
   "source": []
  },
  {
   "cell_type": "code",
   "execution_count": null,
   "metadata": {},
   "outputs": [],
   "source": []
  },
  {
   "cell_type": "code",
   "execution_count": null,
   "metadata": {},
   "outputs": [],
   "source": []
  },
  {
   "cell_type": "code",
   "execution_count": null,
   "metadata": {},
   "outputs": [],
   "source": []
  }
 ],
 "metadata": {
  "kernelspec": {
   "display_name": "Python 3",
   "language": "python",
   "name": "python3"
  },
  "language_info": {
   "codemirror_mode": {
    "name": "ipython",
    "version": 3
   },
   "file_extension": ".py",
   "mimetype": "text/x-python",
   "name": "python",
   "nbconvert_exporter": "python",
   "pygments_lexer": "ipython3",
   "version": "3.7.5"
  }
 },
 "nbformat": 4,
 "nbformat_minor": 2
}
